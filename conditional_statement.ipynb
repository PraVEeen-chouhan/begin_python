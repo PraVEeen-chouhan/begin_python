{
 "cells": [
  {
   "cell_type": "code",
   "execution_count": 26,
   "id": "7684af18-1969-4bbb-95d5-7478d55b82be",
   "metadata": {},
   "outputs": [
    {
     "name": "stdin",
     "output_type": "stream",
     "text": [
      "enter the your age: 28\n"
     ]
    },
    {
     "name": "stdout",
     "output_type": "stream",
     "text": [
      "you are eligible for driving lisence\n"
     ]
    }
   ],
   "source": [
    "'''condition statement is if , else,elif etc'''\n",
    "x=int(input(\"enter the your age:\"))\n",
    "if x>18:\n",
    "    print(\"you are eligible for driving lisence\")\n",
    "else:\n",
    "    print(\"you are not eligible for driving\")"
   ]
  },
  {
   "cell_type": "code",
   "execution_count": 27,
   "id": "97494a01-96ee-4377-bc62-9f50e0261917",
   "metadata": {},
   "outputs": [
    {
     "name": "stdin",
     "output_type": "stream",
     "text": [
      "enter your age: 35\n"
     ]
    },
    {
     "name": "stdout",
     "output_type": "stream",
     "text": [
      "you are eligible for two wheeler:\n",
      "you are eligible for all vehicle but not allow to heavy vehicle:\n",
      "you are eligible for all vehicle or heavy vehicle:\n",
      "\n"
     ]
    }
   ],
   "source": [
    "#multiple conditions\n",
    "x=int(input(\"enter your age:\"))\n",
    "if (x>15 and x<18)  :\n",
    "    print(\"you are eligible for two wheeler:\",end=\"\\n\")\n",
    "    \n",
    "elif x>18 and x<25 :\n",
    "    print(\"you are eligible for two wheeler:\",end=\"\\n\")\n",
    "    print(\"you are eligible for all vehicle but not allow to heavy vehicle:\",end=\"\\n\")\n",
    "    \n",
    "elif x>25:\n",
    "    print(\"you are eligible for two wheeler:\",end=\"\\n\")\n",
    "    print(\"you are eligible for all vehicle but not allow to heavy vehicle:\",end=\"\\n\")\n",
    "    print(\"you are eligible for all vehicle or heavy vehicle:\",end=\"\\n\")\n",
    "    \n",
    "else:\n",
    "    print(\"you are not allowed to drive any vehicle:\",end=\"\")\n",
    "print()"
   ]
  },
  {
   "cell_type": "code",
   "execution_count": 29,
   "id": "fff63b5f-e3a3-435e-9d48-74492e54313b",
   "metadata": {},
   "outputs": [
    {
     "name": "stdin",
     "output_type": "stream",
     "text": [
      "enter the value of x: 45\n",
      "enter the value of y: 65\n",
      "enter the value of z: 4198\n"
     ]
    },
    {
     "name": "stdout",
     "output_type": "stream",
     "text": [
      " z value 4198 is greater all\n"
     ]
    }
   ],
   "source": [
    "x=int(input(\"enter the value of x:\"))\n",
    "y=int(input(\"enter the value of y:\"))\n",
    "z=int(input(\"enter the value of z:\"))\n",
    "if x>y and x>z:\n",
    "    print(f\" x value {x} is a greater all\")\n",
    "elif y>x and y>z:\n",
    "        print(f\" y value {y} is a greater all\")\n",
    "else:\n",
    "    print(f\" z value {z} is greater all\")\n"
   ]
  },
  {
   "cell_type": "code",
   "execution_count": 35,
   "id": "3a83bd40-84c1-44c4-91ea-9ac52daac049",
   "metadata": {},
   "outputs": [
    {
     "name": "stdin",
     "output_type": "stream",
     "text": [
      "enter your username: ronak\n",
      "enter your password: radhat\n"
     ]
    },
    {
     "name": "stdout",
     "output_type": "stream",
     "text": [
      "log in successfully\n"
     ]
    }
   ],
   "source": [
    "username=input(\"enter your username:\")\n",
    "password=input(\"enter your password:\")\n",
    "if username==\"ronak\" and password==\"radhat\":\n",
    "    print(\"log in successfully\")\n",
    "else:\n",
    "    print(\"username or password is not valid\")"
   ]
  },
  {
   "cell_type": "code",
   "execution_count": 37,
   "id": "ba35c02d-1e9e-4e3c-9094-2f204a1de912",
   "metadata": {},
   "outputs": [
    {
     "name": "stdin",
     "output_type": "stream",
     "text": [
      "enter your username: ronak\n",
      "enter your password: praveen\n"
     ]
    },
    {
     "name": "stdout",
     "output_type": "stream",
     "text": [
      "username or password is not valid\n"
     ]
    }
   ],
   "source": [
    "username=input(\"enter your username:\")\n",
    "password=input(\"enter your password:\")\n",
    "if (\"ronak\" in username and\"radhat\" in password):\n",
    "    print(\"log in successfully\")\n",
    "else:\n",
    "    print(\"username or password is not valid\")"
   ]
  },
  {
   "cell_type": "code",
   "execution_count": 47,
   "id": "e20bf7d9-2a0d-4c20-91e6-3cc6299bb0b4",
   "metadata": {},
   "outputs": [
    {
     "name": "stdout",
     "output_type": "stream",
     "text": [
      "string datatype is given\n"
     ]
    }
   ],
   "source": [
    "x=\"dfhsou8fhe\"\n",
    "if type(x) is int:\n",
    "    print(\"Integer datatype is given\")\n",
    "elif type(x) is bool:\n",
    "    print(\"boolean datatype is given\")\n",
    "elif type(x) is str:\n",
    "    print(\"string datatype is given\")\n",
    "else:\n",
    "    print(\"none datatype is matched\")"
   ]
  },
  {
   "cell_type": "code",
   "execution_count": null,
   "id": "372b8f33-07d2-4d30-b45d-a0a588e52c6f",
   "metadata": {},
   "outputs": [],
   "source": []
  }
 ],
 "metadata": {
  "kernelspec": {
   "display_name": "Python 3 (ipykernel)",
   "language": "python",
   "name": "python3"
  },
  "language_info": {
   "codemirror_mode": {
    "name": "ipython",
    "version": 3
   },
   "file_extension": ".py",
   "mimetype": "text/x-python",
   "name": "python",
   "nbconvert_exporter": "python",
   "pygments_lexer": "ipython3",
   "version": "3.11.4"
  }
 },
 "nbformat": 4,
 "nbformat_minor": 5
}
