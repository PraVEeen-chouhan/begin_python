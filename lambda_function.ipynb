{
 "cells": [
  {
   "cell_type": "code",
   "execution_count": 1,
   "id": "ca447513-53a7-479d-a138-572adc917122",
   "metadata": {},
   "outputs": [],
   "source": [
    "##lambda function"
   ]
  },
  {
   "cell_type": "code",
   "execution_count": 2,
   "id": "7c945d92-9133-4aed-b2bb-a034e5b3c544",
   "metadata": {},
   "outputs": [],
   "source": [
    "a=lambda x : x*x"
   ]
  },
  {
   "cell_type": "code",
   "execution_count": 3,
   "id": "02b6ff3b-f9fb-4857-b77e-1db0d655bd8c",
   "metadata": {},
   "outputs": [
    {
     "data": {
      "text/plain": [
       "25"
      ]
     },
     "execution_count": 3,
     "metadata": {},
     "output_type": "execute_result"
    }
   ],
   "source": [
    "a(5)"
   ]
  },
  {
   "cell_type": "code",
   "execution_count": 1,
   "id": "141a89dc-2bea-43d7-8183-f06a848beae3",
   "metadata": {},
   "outputs": [
    {
     "data": {
      "text/plain": [
       "20"
      ]
     },
     "execution_count": 1,
     "metadata": {},
     "output_type": "execute_result"
    }
   ],
   "source": [
    "(lambda x,y: x*y)(4,5)"
   ]
  },
  {
   "cell_type": "code",
   "execution_count": 2,
   "id": "eec67a7e-1e29-4d58-85e1-6698847c13d3",
   "metadata": {},
   "outputs": [
    {
     "data": {
      "text/plain": [
       "1024"
      ]
     },
     "execution_count": 2,
     "metadata": {},
     "output_type": "execute_result"
    }
   ],
   "source": [
    "(lambda x,y: x**y)(4,5)"
   ]
  },
  {
   "cell_type": "code",
   "execution_count": 3,
   "id": "919758b3-0674-4858-943f-16d46b866688",
   "metadata": {},
   "outputs": [
    {
     "data": {
      "text/plain": [
       "False"
      ]
     },
     "execution_count": 3,
     "metadata": {},
     "output_type": "execute_result"
    }
   ],
   "source": [
    "(lambda x: x%2==0)(5)"
   ]
  },
  {
   "cell_type": "code",
   "execution_count": 1,
   "id": "fdd7dd78-7d3c-46e7-bec0-b19a8178ab30",
   "metadata": {},
   "outputs": [
    {
     "data": {
      "text/plain": [
       "<function __main__.<lambda>(x)>"
      ]
     },
     "execution_count": 1,
     "metadata": {},
     "output_type": "execute_result"
    }
   ],
   "source": [
    "x=[1,2,3,4,5,6,7,8,9]\n",
    "(lambda x:x%2==0)"
   ]
  },
  {
   "cell_type": "code",
   "execution_count": 6,
   "id": "ea546cfe-711d-4648-bccd-40a7439d79a6",
   "metadata": {},
   "outputs": [
    {
     "data": {
      "text/plain": [
       "<function __main__.<lambda>(x)>"
      ]
     },
     "execution_count": 6,
     "metadata": {},
     "output_type": "execute_result"
    }
   ],
   "source": [
    "lambda x: x%2==0"
   ]
  },
  {
   "cell_type": "code",
   "execution_count": 3,
   "id": "80e5d790-da89-4868-aafd-2b6b1aaaec90",
   "metadata": {},
   "outputs": [
    {
     "name": "stdout",
     "output_type": "stream",
     "text": [
      "False\n",
      "True\n",
      "False\n",
      "True\n",
      "False\n",
      "True\n",
      "False\n",
      "True\n",
      "False\n"
     ]
    }
   ],
   "source": [
    "for i in range(len(x)):\n",
    "    print((lambda x: x%2==0)(x[i]))\n",
    "    "
   ]
  },
  {
   "cell_type": "code",
   "execution_count": 28,
   "id": "fab69e05-5a30-45b2-9204-85daafb4b894",
   "metadata": {},
   "outputs": [],
   "source": [
    "#filter function using lambda\n",
    "a=filter(lambda x: x%2==0,x)   #x->8....a which is filter function with to x\n",
    "#it means a is filter on x an element which is multiple by 2"
   ]
  },
  {
   "cell_type": "code",
   "execution_count": 25,
   "id": "8c91f83a-f3a9-4fa3-b861-b7f8edc5fb1e",
   "metadata": {},
   "outputs": [
    {
     "name": "stdout",
     "output_type": "stream",
     "text": [
      "[2, 4, 6, 8]\n"
     ]
    }
   ],
   "source": [
    "print(list(a))"
   ]
  },
  {
   "cell_type": "code",
   "execution_count": 29,
   "id": "07be7242-23b2-4106-a45f-8be169cd9c23",
   "metadata": {},
   "outputs": [
    {
     "name": "stdout",
     "output_type": "stream",
     "text": [
      "2\n",
      "4\n",
      "6\n",
      "8\n"
     ]
    }
   ],
   "source": [
    "for i in a:\n",
    "    print(i)"
   ]
  },
  {
   "cell_type": "code",
   "execution_count": 23,
   "id": "2eb0c55a-5f4e-4a5b-8f04-dec7667db3e5",
   "metadata": {},
   "outputs": [
    {
     "name": "stdout",
     "output_type": "stream",
     "text": [
      "The filtered letters are:\n",
      "e\n",
      "e\n"
     ]
    }
   ],
   "source": [
    "# function that filters vowels\n",
    "def fun(variable):\n",
    "\tletters = ['a', 'e', 'i', 'o', 'u']\n",
    "\tif (variable in letters):\n",
    "\t\treturn True\n",
    "\telse:\n",
    "\t\treturn False\n",
    "sequence = ['g', 'e', 'e', 'j', 'k', 's', 'p', 'r']\n",
    "# using filter function\n",
    "filtered = filter(fun, sequence)\n",
    "print('The filtered letters are:')\n",
    "for s in filtered:\n",
    "\tprint(s)\n"
   ]
  },
  {
   "cell_type": "code",
   "execution_count": 30,
   "id": "5b1404d9-d703-42ce-ac64-e49314c6e7e5",
   "metadata": {},
   "outputs": [
    {
     "name": "stdout",
     "output_type": "stream",
     "text": [
      "even list [2, 4, 6, 8]\n"
     ]
    }
   ],
   "source": [
    "print(\"even list\",list(filter(lambda x :x%2==0,x)))"
   ]
  },
  {
   "cell_type": "code",
   "execution_count": 31,
   "id": "f1dcb1c0-a8a7-448e-ab8d-9474e986d22c",
   "metadata": {},
   "outputs": [
    {
     "name": "stdout",
     "output_type": "stream",
     "text": [
      "odd list [1, 3, 5, 7, 9]\n"
     ]
    }
   ],
   "source": [
    "print(\"odd list\",list(filter(lambda x :x%2!=0,x)))"
   ]
  },
  {
   "cell_type": "code",
   "execution_count": 35,
   "id": "d418ea2c-0432-4a9e-9f10-7348041877c4",
   "metadata": {},
   "outputs": [],
   "source": [
    "def squre(a):\n",
    "    return lambda x: a**x"
   ]
  },
  {
   "cell_type": "code",
   "execution_count": 36,
   "id": "6fc7a4e4-49d4-4f28-886c-d87eb4474542",
   "metadata": {},
   "outputs": [
    {
     "data": {
      "text/plain": [
       "<function __main__.squre.<locals>.<lambda>(x)>"
      ]
     },
     "execution_count": 36,
     "metadata": {},
     "output_type": "execute_result"
    }
   ],
   "source": [
    "squre(2)"
   ]
  },
  {
   "cell_type": "code",
   "execution_count": 37,
   "id": "09b25b07-749e-400f-815b-26d15ebf5dc6",
   "metadata": {},
   "outputs": [
    {
     "data": {
      "text/plain": [
       "8"
      ]
     },
     "execution_count": 37,
     "metadata": {},
     "output_type": "execute_result"
    }
   ],
   "source": [
    "squre(2)(3)"
   ]
  },
  {
   "cell_type": "code",
   "execution_count": 38,
   "id": "ff832608-4a5b-4743-b3d6-674c5aef716a",
   "metadata": {},
   "outputs": [],
   "source": [
    "#nested lambda function"
   ]
  },
  {
   "cell_type": "code",
   "execution_count": 39,
   "id": "2dfce7b3-4ce9-41f6-8778-88d7a5927d1b",
   "metadata": {},
   "outputs": [],
   "source": [
    "i = lambda x:lambda y: x*y"
   ]
  },
  {
   "cell_type": "code",
   "execution_count": 41,
   "id": "67c38f54-c2d5-490d-a6e8-81a8279ae37b",
   "metadata": {},
   "outputs": [
    {
     "data": {
      "text/plain": [
       "20"
      ]
     },
     "execution_count": 41,
     "metadata": {},
     "output_type": "execute_result"
    }
   ],
   "source": [
    "i(5)(4)     #after these are used to like i(x,y)"
   ]
  },
  {
   "cell_type": "code",
   "execution_count": null,
   "id": "2e8c3b2d-41dc-4e9f-bd71-9616ee5fe51d",
   "metadata": {},
   "outputs": [],
   "source": []
  },
  {
   "cell_type": "code",
   "execution_count": null,
   "id": "59c6b600-ffad-4c1b-ab77-f545de79f301",
   "metadata": {},
   "outputs": [],
   "source": []
  }
 ],
 "metadata": {
  "kernelspec": {
   "display_name": "Python 3 (ipykernel)",
   "language": "python",
   "name": "python3"
  },
  "language_info": {
   "codemirror_mode": {
    "name": "ipython",
    "version": 3
   },
   "file_extension": ".py",
   "mimetype": "text/x-python",
   "name": "python",
   "nbconvert_exporter": "python",
   "pygments_lexer": "ipython3",
   "version": "3.11.4"
  }
 },
 "nbformat": 4,
 "nbformat_minor": 5
}
