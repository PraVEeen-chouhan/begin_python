{
 "cells": [
  {
   "cell_type": "code",
   "execution_count": 14,
   "id": "8ebca1dc-3ada-47b0-93db-1e81aeb06766",
   "metadata": {},
   "outputs": [],
   "source": [
    "def welcome():\n",
    "    print(\"welcome everyone\\n good morning guys\\ni hope you guys are well today\")\n",
    "def bye():\n",
    "    print(\"bye everyone\\n see you tomorrow\")"
   ]
  },
  {
   "cell_type": "code",
   "execution_count": 15,
   "id": "cae0f380-b3ab-4d1f-b781-130de62185ff",
   "metadata": {},
   "outputs": [
    {
     "name": "stdout",
     "output_type": "stream",
     "text": [
      "welcome everyone\n",
      " good morning guys\n",
      "i hope you guys are well today\n"
     ]
    }
   ],
   "source": [
    "welcome()"
   ]
  },
  {
   "cell_type": "code",
   "execution_count": 16,
   "id": "7de42e16-caf5-4c0e-b569-cca14f810011",
   "metadata": {},
   "outputs": [
    {
     "name": "stdout",
     "output_type": "stream",
     "text": [
      "bye everyone\n",
      " see you tomorrow\n"
     ]
    }
   ],
   "source": [
    "bye()"
   ]
  },
  {
   "cell_type": "code",
   "execution_count": 17,
   "id": "d0070c8c-c5b2-4285-9c1e-718d66f73dd5",
   "metadata": {},
   "outputs": [],
   "source": [
    "'''def add():\n",
    "    x=int(input(\"enter the value of x:\"))\n",
    "    y=int(input(\"enter the value of y:\"))\n",
    "    return(x+y)'''\n",
    "def add(x,y):\n",
    "    return(x+y)\n"
   ]
  },
  {
   "cell_type": "code",
   "execution_count": 18,
   "id": "6cb069e9-612c-43c7-a59b-63e4eb7e36e1",
   "metadata": {},
   "outputs": [
    {
     "data": {
      "text/plain": [
       "7"
      ]
     },
     "execution_count": 18,
     "metadata": {},
     "output_type": "execute_result"
    }
   ],
   "source": [
    "add(3,4)"
   ]
  },
  {
   "cell_type": "code",
   "execution_count": 19,
   "id": "758566f7-0261-4310-845f-7e01883a5b17",
   "metadata": {},
   "outputs": [],
   "source": [
    "#calling a function by passing arg\n",
    "def named(name,age,email):\n",
    "    print(f\"name:{name}\\nage:{age}\\nemail:{email}\")"
   ]
  },
  {
   "cell_type": "code",
   "execution_count": 20,
   "id": "743c4ae0-b797-459e-83cb-32df4dddcfce",
   "metadata": {},
   "outputs": [
    {
     "name": "stdout",
     "output_type": "stream",
     "text": [
      "name:praveen\n",
      "age:10\n",
      "email:p@gmail.com\n"
     ]
    }
   ],
   "source": [
    "named(\"praveen\",10,'p@gmail.com')"
   ]
  },
  {
   "cell_type": "code",
   "execution_count": 21,
   "id": "69b572bc-8af4-4a9c-9a20-c5ee199931bf",
   "metadata": {},
   "outputs": [
    {
     "name": "stdout",
     "output_type": "stream",
     "text": [
      "name:10\n",
      "age:praveen\n",
      "email:p@gmail.com\n"
     ]
    }
   ],
   "source": [
    "named(10,\"praveen\",'p@gmail.com')"
   ]
  },
  {
   "cell_type": "code",
   "execution_count": 22,
   "id": "e1e56069-4ff1-4986-9890-cc7b3cab3911",
   "metadata": {},
   "outputs": [
    {
     "name": "stdout",
     "output_type": "stream",
     "text": [
      "name:praveen\n",
      "age:21\n",
      "email:p@gmail.com\n"
     ]
    }
   ],
   "source": [
    "#position arg function\n",
    "#keyword arg fuction\n",
    "named(age=21,email=\"p@gmail.com\",name=\"praveen\")"
   ]
  },
  {
   "cell_type": "code",
   "execution_count": 23,
   "id": "e05e45b1-8188-4cd2-b6df-3c3d83f1ab02",
   "metadata": {},
   "outputs": [],
   "source": [
    "#default arg function\n",
    "def named(name,age,email,city=\"jaipur\"):\n",
    "    print(f\"name:{name}\\nage:{age}\\nemail:{email}\\ncity={city}\")"
   ]
  },
  {
   "cell_type": "code",
   "execution_count": 24,
   "id": "bbe2cf6b-85ad-4703-a995-4a12978e9ca0",
   "metadata": {},
   "outputs": [
    {
     "name": "stdout",
     "output_type": "stream",
     "text": [
      "name:praveen\n",
      "age:20\n",
      "email:p@gmail.com\n",
      "city=jaipur\n"
     ]
    }
   ],
   "source": [
    "named(\"praveen\",20,\"p@gmail.com\")"
   ]
  },
  {
   "cell_type": "code",
   "execution_count": 25,
   "id": "29368fd0-aa72-4fcb-9e51-3aa9b6dc74e6",
   "metadata": {},
   "outputs": [
    {
     "ename": "TypeError",
     "evalue": "named() missing 1 required positional argument: 'email'",
     "output_type": "error",
     "traceback": [
      "\u001b[1;31m---------------------------------------------------------------------------\u001b[0m",
      "\u001b[1;31mTypeError\u001b[0m                                 Traceback (most recent call last)",
      "Cell \u001b[1;32mIn[25], line 1\u001b[0m\n\u001b[1;32m----> 1\u001b[0m \u001b[43mnamed\u001b[49m\u001b[43m(\u001b[49m\u001b[38;5;124;43m\"\u001b[39;49m\u001b[38;5;124;43mpraveen\u001b[39;49m\u001b[38;5;124;43m\"\u001b[39;49m\u001b[43m,\u001b[49m\u001b[38;5;124;43m\"\u001b[39;49m\u001b[38;5;124;43mp@gmail.com\u001b[39;49m\u001b[38;5;124;43m\"\u001b[39;49m\u001b[43m,\u001b[49m\u001b[43m)\u001b[49m\n",
      "\u001b[1;31mTypeError\u001b[0m: named() missing 1 required positional argument: 'email'"
     ]
    }
   ],
   "source": [
    "named(\"praveen\",\"p@gmail.com\",)"
   ]
  },
  {
   "cell_type": "code",
   "execution_count": 28,
   "id": "e4a84282-f20a-4cf8-8f06-5afa81f1fed0",
   "metadata": {},
   "outputs": [
    {
     "name": "stdout",
     "output_type": "stream",
     "text": [
      "name:praveen\n",
      "age:20\n",
      "email:p@gmail.com\n",
      "city=kota\n"
     ]
    }
   ],
   "source": [
    "named(\"praveen\",20,\"p@gmail.com\",\"kota\")"
   ]
  },
  {
   "cell_type": "code",
   "execution_count": 30,
   "id": "7f781be0-2886-43bc-be47-aa1122491220",
   "metadata": {},
   "outputs": [
    {
     "name": "stdout",
     "output_type": "stream",
     "text": [
      "name:praveen\n",
      "age:20\n",
      "email:p@gmail.com\n",
      "city=kota\n"
     ]
    }
   ],
   "source": [
    "named(\"praveen\",20,\"p@gmail.com\",city=\"kota\")"
   ]
  },
  {
   "cell_type": "code",
   "execution_count": 31,
   "id": "e6c221c7-2620-4287-9d18-72748367608e",
   "metadata": {},
   "outputs": [
    {
     "ename": "SyntaxError",
     "evalue": "positional argument follows keyword argument (1924964537.py, line 2)",
     "output_type": "error",
     "traceback": [
      "\u001b[1;36m  Cell \u001b[1;32mIn[31], line 2\u001b[1;36m\u001b[0m\n\u001b[1;33m    named(age=30,\"ronak\")\u001b[0m\n\u001b[1;37m                        ^\u001b[0m\n\u001b[1;31mSyntaxError\u001b[0m\u001b[1;31m:\u001b[0m positional argument follows keyword argument\n"
     ]
    }
   ],
   "source": [
    "#hierarchy: P>k>D\n",
    "named(age=30,\"ronak\")"
   ]
  },
  {
   "cell_type": "code",
   "execution_count": 33,
   "id": "bf136859-83a6-4dfa-bdb7-4acf3d23b01d",
   "metadata": {},
   "outputs": [
    {
     "ename": "SyntaxError",
     "evalue": "positional argument follows keyword argument (1849366612.py, line 1)",
     "output_type": "error",
     "traceback": [
      "\u001b[1;36m  Cell \u001b[1;32mIn[33], line 1\u001b[1;36m\u001b[0m\n\u001b[1;33m    named(age=30,\"ronak\",\"p@gmai.com\",\"kota\")\u001b[0m\n\u001b[1;37m                                            ^\u001b[0m\n\u001b[1;31mSyntaxError\u001b[0m\u001b[1;31m:\u001b[0m positional argument follows keyword argument\n"
     ]
    }
   ],
   "source": [
    "named(age=30,\"ronak\",\"p@gmai.com\",\"kota\")"
   ]
  },
  {
   "cell_type": "code",
   "execution_count": 39,
   "id": "2d1b8419-3e3e-484e-a97c-2e21ca23412a",
   "metadata": {},
   "outputs": [
    {
     "name": "stdout",
     "output_type": "stream",
     "text": [
      "name:ronak\n",
      "age:30\n",
      "email:p@gmai.com\n",
      "city=kota\n"
     ]
    }
   ],
   "source": [
    "named(\"ronak\",30,email=\"p@gmai.com\",city=\"kota\")"
   ]
  },
  {
   "cell_type": "code",
   "execution_count": 40,
   "id": "38e528fc-5025-4521-b03d-08b537d7b3ce",
   "metadata": {},
   "outputs": [],
   "source": [
    "#variable len arg function/ position arbitrary arg function\n",
    "def named(*name):\n",
    "    print(name)\n",
    "    print(type(name))"
   ]
  },
  {
   "cell_type": "code",
   "execution_count": 41,
   "id": "ab629b41-b71c-43ce-a0f1-f84fcf42f2bb",
   "metadata": {},
   "outputs": [
    {
     "name": "stdout",
     "output_type": "stream",
     "text": [
      "('praven', 'lucky')\n",
      "<class 'tuple'>\n"
     ]
    }
   ],
   "source": [
    "named(\"praven\",\"lucky\")"
   ]
  },
  {
   "cell_type": "code",
   "execution_count": 48,
   "id": "ab215c52-ef14-45d4-b550-f3f638727b2b",
   "metadata": {},
   "outputs": [],
   "source": [
    "def named(*name):\n",
    "    for i in range(len(name)):\n",
    "        if i==4:\n",
    "            break\n",
    "        print(f\"student no.{i+1}: {name[i]}\")\n",
    "\n",
    "    print(type(name))"
   ]
  },
  {
   "cell_type": "code",
   "execution_count": 49,
   "id": "8dfed28d-71a8-4997-8cc9-16ac2990ba07",
   "metadata": {},
   "outputs": [
    {
     "name": "stdout",
     "output_type": "stream",
     "text": [
      "student no.1: praveen\n",
      "student no.2: gatik\n",
      "student no.3: mike\n",
      "student no.4: tony\n",
      "<class 'tuple'>\n"
     ]
    }
   ],
   "source": [
    "named(\"praveen\",\"gatik\",\"mike\",\"tony\",\"jhon\")"
   ]
  },
  {
   "cell_type": "code",
   "execution_count": 50,
   "id": "94fe872b-b764-4863-830e-14c01794075a",
   "metadata": {},
   "outputs": [],
   "source": [
    "#keyword arbitrary arg funtion\n",
    "def named(**name):\n",
    "    print(name)\n",
    "    print(type(name))"
   ]
  },
  {
   "cell_type": "code",
   "execution_count": 54,
   "id": "e90678f3-ea75-4de5-9414-501ef0b06cfe",
   "metadata": {},
   "outputs": [
    {
     "name": "stdout",
     "output_type": "stream",
     "text": [
      "{'start': 'praveen', 'last': 'chouhan', 'car': 'bmw', 'city': 'jaipur'}\n",
      "<class 'dict'>\n"
     ]
    }
   ],
   "source": [
    "named(start=\"praveen\",last=\"chouhan\",car=\"bmw\",city=\"jaipur\")"
   ]
  },
  {
   "cell_type": "code",
   "execution_count": 69,
   "id": "6261fc79-0912-48e0-934c-170e644dfe67",
   "metadata": {},
   "outputs": [],
   "source": [
    "def named(**names):\n",
    "    for i in range(1):\n",
    "        print(f\"name:{names['first_name']}\\n age:{names['age']}\")\n",
    "    print(names)"
   ]
  },
  {
   "cell_type": "code",
   "execution_count": 70,
   "id": "7d59d51d-73b0-43b8-9418-e86d8ace6b79",
   "metadata": {},
   "outputs": [
    {
     "name": "stdout",
     "output_type": "stream",
     "text": [
      "name:praveen\n",
      " age:30\n",
      "{'first_name': 'praveen', 'age': 30, 'email': 'p@gmail.com', 'contact': 7691091343}\n"
     ]
    }
   ],
   "source": [
    "named(first_name=\"praveen\",age=30,email=\"p@gmail.com\",contact=7691091343)"
   ]
  },
  {
   "cell_type": "code",
   "execution_count": 74,
   "id": "e00966b2-94fd-4faf-b63d-4344d9072271",
   "metadata": {},
   "outputs": [
    {
     "name": "stdout",
     "output_type": "stream",
     "text": [
      "name:praveen\n",
      " age:30\n",
      "{'first_name': 'praveen', 'age': 30, 'email': 'p@gmail.com'}\n"
     ]
    }
   ],
   "source": [
    "named(first_name=\"praveen\",age=30,email=\"p@gmail.com\")"
   ]
  },
  {
   "cell_type": "code",
   "execution_count": 76,
   "id": "d2dfa1e6-f752-416b-aff8-dba8f62b22d5",
   "metadata": {},
   "outputs": [
    {
     "name": "stdout",
     "output_type": "stream",
     "text": [
      "name:20\n",
      " age:parveen\n",
      "{'age': 'parveen', 'first_name': 20}\n"
     ]
    }
   ],
   "source": [
    "named(age=\"parveen\",first_name=20)"
   ]
  },
  {
   "cell_type": "code",
   "execution_count": 87,
   "id": "a99b6310-9e67-44f3-abc0-dd8cb4b37db5",
   "metadata": {},
   "outputs": [],
   "source": [
    "def common(batch_time,course,*name,**address):\n",
    "    print(f\"batch_time={batch_time}\\ncourse={course}\\nstud_name={name}\\nstud_address={address}\")"
   ]
  },
  {
   "cell_type": "code",
   "execution_count": 88,
   "id": "b993ad3b-1f5a-4ede-bdb5-9062d2177a05",
   "metadata": {},
   "outputs": [
    {
     "name": "stdout",
     "output_type": "stream",
     "text": [
      "batch_time=0.9\n",
      "course=multi-tech programing classes\n",
      "stud_name=('praveen', 'rahul', 'keshav', 'garvit')\n",
      "stud_address={'city': 'jaipur', 'city2': 'kota'}\n"
     ]
    }
   ],
   "source": [
    "common(0.9,\"multi-tech programing classes\",\"praveen\",\"rahul\",\"keshav\",\"garvit\",city=\"jaipur\",city2=\"kota\")"
   ]
  },
  {
   "cell_type": "code",
   "execution_count": 89,
   "id": "a1cc79fd-8219-4375-8ecb-9b39b461f5e4",
   "metadata": {},
   "outputs": [
    {
     "name": "stdout",
     "output_type": "stream",
     "text": [
      "batch_time=9\n",
      "course=python\n",
      "stud_name=()\n",
      "stud_address={}\n"
     ]
    }
   ],
   "source": [
    "common(course=\"python\",batch_time=9)"
   ]
  },
  {
   "cell_type": "code",
   "execution_count": 90,
   "id": "10300330-b63c-49b4-9e66-bb25a2800461",
   "metadata": {},
   "outputs": [],
   "source": [
    "#nested funtion"
   ]
  },
  {
   "cell_type": "code",
   "execution_count": 97,
   "id": "7def1431-e2f7-4627-a8f4-77b04bd86d86",
   "metadata": {},
   "outputs": [],
   "source": [
    "def upper():\n",
    "    def inner():\n",
    "        print(\"inner is runing\")\n",
    "    inner()\n",
    "    print(\"outer is runing\")\n",
    "    inner()"
   ]
  },
  {
   "cell_type": "code",
   "execution_count": 98,
   "id": "59d5abd1-9f42-41b1-970d-b389041b0e28",
   "metadata": {},
   "outputs": [
    {
     "name": "stdout",
     "output_type": "stream",
     "text": [
      "inner is runing\n",
      "outer is runing\n",
      "inner is runing\n"
     ]
    }
   ],
   "source": [
    "upper()"
   ]
  },
  {
   "cell_type": "code",
   "execution_count": 103,
   "id": "8fc279a0-32ff-4924-88d2-1e06070edca9",
   "metadata": {},
   "outputs": [
    {
     "data": {
      "text/plain": [
       "'Python Nonlocal Variables\\nIn Python, nonlocal variables are used in nested functions whose local scope is not defined. \\nThis means that the variable can be neither in the local nor the global scope.'"
      ]
     },
     "execution_count": 103,
     "metadata": {},
     "output_type": "execute_result"
    }
   ],
   "source": [
    "#local variable:-When we declare variables inside a function, these variables will have a local scope (within the function).\n",
    "#We cannot access them outside the function.\n",
    "'''Python Nonlocal Variables\n",
    "In Python, nonlocal variables are used in nested functions whose local scope is not defined. \n",
    "This means that the variable can be neither in the local nor the global scope.'''"
   ]
  },
  {
   "cell_type": "code",
   "execution_count": 104,
   "id": "311ad01b-fa92-419d-8146-9c1681a22174",
   "metadata": {},
   "outputs": [
    {
     "data": {
      "text/plain": [
       "'Python Global Variables\\nIn Python, a variable declared outside of the function or in global scope is known as a global variable. \\nThis means that a global variable can be accessed inside or outside of the function.'"
      ]
     },
     "execution_count": 104,
     "metadata": {},
     "output_type": "execute_result"
    }
   ],
   "source": [
    "\"\"\"Python Global Variables\n",
    "In Python, a variable declared outside of the function or in global scope is known as a global variable. \n",
    "This means that a global variable can be accessed inside or outside of the function.\"\"\""
   ]
  },
  {
   "cell_type": "code",
   "execution_count": 116,
   "id": "68bb146e-9fff-4a12-a07b-7f3f0ac2b7c1",
   "metadata": {},
   "outputs": [
    {
     "name": "stdout",
     "output_type": "stream",
     "text": [
      "global\n",
      "inner \n",
      " now out of function\n",
      "global\n"
     ]
    },
    {
     "ename": "NameError",
     "evalue": "name 'b' is not defined",
     "output_type": "error",
     "traceback": [
      "\u001b[1;31m---------------------------------------------------------------------------\u001b[0m",
      "\u001b[1;31mNameError\u001b[0m                                 Traceback (most recent call last)",
      "Cell \u001b[1;32mIn[116], line 9\u001b[0m\n\u001b[0;32m      6\u001b[0m checkvar()\n\u001b[0;32m      7\u001b[0m \u001b[38;5;28mprint\u001b[39m(a)\n\u001b[1;32m----> 9\u001b[0m \u001b[38;5;28mprint\u001b[39m(\u001b[43mb\u001b[49m)\n",
      "\u001b[1;31mNameError\u001b[0m: name 'b' is not defined"
     ]
    }
   ],
   "source": [
    "a=\"global\"\n",
    "def checkvar():\n",
    "    b=\"inner\"\n",
    "    print(a)\n",
    "    print(b,\"\\n now out of function\")\n",
    "checkvar()\n",
    "print(a)\n",
    "\n",
    "print(b)\n"
   ]
  },
  {
   "cell_type": "code",
   "execution_count": 111,
   "id": "358ca984-dd61-46b2-b579-dc35a60139e9",
   "metadata": {},
   "outputs": [
    {
     "name": "stdout",
     "output_type": "stream",
     "text": [
      "global\n",
      "inner \n",
      " now out of function\n"
     ]
    }
   ],
   "source": [
    "checkvar()"
   ]
  },
  {
   "cell_type": "code",
   "execution_count": 123,
   "id": "4ee77ce5-7326-4efd-9293-d3ac768b680d",
   "metadata": {},
   "outputs": [
    {
     "name": "stdin",
     "output_type": "stream",
     "text": [
      "enter the total balance: 2000\n"
     ]
    },
    {
     "name": "stdout",
     "output_type": "stream",
     "text": [
      "2000\n"
     ]
    }
   ],
   "source": [
    "total_balance=int(input(\"enter the total balance:\"))\n",
    "print(total_balance)\n",
    "global total_balance\n",
    "\n"
   ]
  },
  {
   "cell_type": "code",
   "execution_count": 128,
   "id": "b68c2c60-e9cc-4975-88c6-87bccd69c6f3",
   "metadata": {},
   "outputs": [
    {
     "name": "stdin",
     "output_type": "stream",
     "text": [
      "enter the total balance: 10000\n"
     ]
    }
   ],
   "source": [
    "total_balance=int(input(\"enter the total balance:\"))\n",
    "def withdraw():\n",
    "    global total_balance\n",
    "    total_balance\n",
    "    withd=int(input(\"enter the ammount for withdraw:\"))\n",
    "    total_balance=total_balance-withd\n",
    "    print(f\"Net balance:{total_balance}\")\n",
    "def upi():\n",
    "    print(f\"net balane:{total_balance}\")"
   ]
  },
  {
   "cell_type": "code",
   "execution_count": 129,
   "id": "f7ae097b-712b-47a9-853d-0c09d63f7bba",
   "metadata": {},
   "outputs": [
    {
     "data": {
      "text/plain": [
       "<function __main__.withdraw()>"
      ]
     },
     "execution_count": 129,
     "metadata": {},
     "output_type": "execute_result"
    }
   ],
   "source": [
    "withdraw"
   ]
  },
  {
   "cell_type": "code",
   "execution_count": 130,
   "id": "d301476c-39df-4371-a9d3-3695e4e95587",
   "metadata": {},
   "outputs": [
    {
     "name": "stdin",
     "output_type": "stream",
     "text": [
      "enter the ammount for withdraw: 2000\n"
     ]
    },
    {
     "name": "stdout",
     "output_type": "stream",
     "text": [
      "Net balance:8000\n"
     ]
    }
   ],
   "source": [
    "withdraw()"
   ]
  },
  {
   "cell_type": "code",
   "execution_count": 131,
   "id": "bc58b9ad-0610-4e3a-ba03-ec2bebc2ccf9",
   "metadata": {},
   "outputs": [
    {
     "name": "stdout",
     "output_type": "stream",
     "text": [
      "net balane:8000\n"
     ]
    }
   ],
   "source": [
    "upi()"
   ]
  },
  {
   "cell_type": "code",
   "execution_count": 132,
   "id": "4c8bfa77-12b8-4a95-a11a-58f31f11d926",
   "metadata": {},
   "outputs": [],
   "source": [
    "def display():\n",
    "    return \"hello everyone\""
   ]
  },
  {
   "cell_type": "code",
   "execution_count": 133,
   "id": "3f5100ff-eda8-4adf-b9cd-3c14fcd0a99e",
   "metadata": {},
   "outputs": [
    {
     "data": {
      "text/plain": [
       "'hello everyone'"
      ]
     },
     "execution_count": 133,
     "metadata": {},
     "output_type": "execute_result"
    }
   ],
   "source": [
    "display()"
   ]
  },
  {
   "cell_type": "code",
   "execution_count": 134,
   "id": "656d5429-c907-4cbd-a532-7477dd8434f0",
   "metadata": {},
   "outputs": [],
   "source": [
    "var=display()"
   ]
  },
  {
   "cell_type": "code",
   "execution_count": 135,
   "id": "1b4b6592-b51b-41f4-8b49-170df9137f77",
   "metadata": {},
   "outputs": [
    {
     "data": {
      "text/plain": [
       "'hello everyone'"
      ]
     },
     "execution_count": 135,
     "metadata": {},
     "output_type": "execute_result"
    }
   ],
   "source": [
    "var"
   ]
  },
  {
   "cell_type": "code",
   "execution_count": 136,
   "id": "5956fc78-8ca8-47dc-a7ae-cd5cd78da515",
   "metadata": {},
   "outputs": [],
   "source": [
    "def power(num,pow):\n",
    "    return num**pow"
   ]
  },
  {
   "cell_type": "code",
   "execution_count": 138,
   "id": "c113e782-a034-4f13-9c90-73beaa4e7945",
   "metadata": {},
   "outputs": [
    {
     "data": {
      "text/plain": [
       "1024"
      ]
     },
     "execution_count": 138,
     "metadata": {},
     "output_type": "execute_result"
    }
   ],
   "source": [
    "power(2,10)"
   ]
  },
  {
   "cell_type": "code",
   "execution_count": 139,
   "id": "20a6c1aa-a7d1-4ef0-aef2-96d96b2cd22d",
   "metadata": {},
   "outputs": [],
   "source": [
    "def outer():\n",
    "    def inner():\n",
    "        return\"I am in runing in inner world\"\n",
    "    return inner"
   ]
  },
  {
   "cell_type": "code",
   "execution_count": 140,
   "id": "7d0e337a-bc5f-4afa-85c8-1ce1af98084a",
   "metadata": {},
   "outputs": [
    {
     "data": {
      "text/plain": [
       "<function __main__.outer.<locals>.inner()>"
      ]
     },
     "execution_count": 140,
     "metadata": {},
     "output_type": "execute_result"
    }
   ],
   "source": [
    "outer()"
   ]
  },
  {
   "cell_type": "code",
   "execution_count": 141,
   "id": "d0c0f20a-cbd4-43d1-a005-cc06eebf5e02",
   "metadata": {},
   "outputs": [
    {
     "name": "stdout",
     "output_type": "stream",
     "text": [
      "<function outer.<locals>.inner at 0x000002B9C2F5CE00>\n"
     ]
    }
   ],
   "source": [
    "print(outer())"
   ]
  },
  {
   "cell_type": "code",
   "execution_count": 142,
   "id": "f6b3cb60-ccb3-4115-90f5-cb03ecf37040",
   "metadata": {},
   "outputs": [],
   "source": [
    "var=outer()"
   ]
  },
  {
   "cell_type": "code",
   "execution_count": 143,
   "id": "3f0e3253-2620-4b99-9689-27b598808578",
   "metadata": {},
   "outputs": [
    {
     "data": {
      "text/plain": [
       "<function __main__.outer.<locals>.inner()>"
      ]
     },
     "execution_count": 143,
     "metadata": {},
     "output_type": "execute_result"
    }
   ],
   "source": [
    "var"
   ]
  },
  {
   "cell_type": "code",
   "execution_count": 145,
   "id": "fe136671-174c-4385-94d3-5e56d75fd193",
   "metadata": {},
   "outputs": [
    {
     "data": {
      "text/plain": [
       "'I am in runing in inner world'"
      ]
     },
     "execution_count": 145,
     "metadata": {},
     "output_type": "execute_result"
    }
   ],
   "source": [
    "var()"
   ]
  },
  {
   "cell_type": "code",
   "execution_count": 144,
   "id": "46af228a-face-472c-a30f-0edf2b070a24",
   "metadata": {},
   "outputs": [
    {
     "data": {
      "text/plain": [
       "'I am in runing in inner world'"
      ]
     },
     "execution_count": 144,
     "metadata": {},
     "output_type": "execute_result"
    }
   ],
   "source": [
    "outer()()"
   ]
  },
  {
   "cell_type": "code",
   "execution_count": 152,
   "id": "865b9b58-f13b-44f1-ae8b-f7156ecd5782",
   "metadata": {},
   "outputs": [],
   "source": [
    "def sort():\n",
    "    x=[1,2,3,4,5,6,7,8,9,10]\n",
    "    even_list=[]\n",
    "    odd_list=[]\n",
    "    for i in range(len(x)):\n",
    "        if x[i]%2==0:\n",
    "            even_list.append(x[i])\n",
    "        else:\n",
    "            odd_list.append(x[i])\n",
    "    else:\n",
    "        print(f\"Even list:{even_list}\")\n",
    "        print(F\"Odd list :{odd_list}\")\n",
    "        "
   ]
  },
  {
   "cell_type": "code",
   "execution_count": 153,
   "id": "b45418c4-9e98-457e-b6e9-4cfe5e171bcd",
   "metadata": {},
   "outputs": [
    {
     "name": "stdout",
     "output_type": "stream",
     "text": [
      "Even list:[2, 4, 6, 8, 10]\n",
      "Odd list :[1, 3, 5, 7, 9]\n"
     ]
    }
   ],
   "source": [
    "sort()"
   ]
  },
  {
   "cell_type": "code",
   "execution_count": null,
   "id": "db3abfaf-5fbe-4d5c-991b-44912610085b",
   "metadata": {},
   "outputs": [],
   "source": []
  }
 ],
 "metadata": {
  "kernelspec": {
   "display_name": "Python 3 (ipykernel)",
   "language": "python",
   "name": "python3"
  },
  "language_info": {
   "codemirror_mode": {
    "name": "ipython",
    "version": 3
   },
   "file_extension": ".py",
   "mimetype": "text/x-python",
   "name": "python",
   "nbconvert_exporter": "python",
   "pygments_lexer": "ipython3",
   "version": "3.11.4"
  }
 },
 "nbformat": 4,
 "nbformat_minor": 5
}
