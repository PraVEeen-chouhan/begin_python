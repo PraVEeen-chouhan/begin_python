{
 "cells": [
  {
   "cell_type": "code",
   "execution_count": 1,
   "id": "9146b0c3-b950-4476-a1de-d731245fd20d",
   "metadata": {},
   "outputs": [],
   "source": [
    "#tuple\n",
    "#syntax :()\n",
    "#immutable"
   ]
  },
  {
   "cell_type": "code",
   "execution_count": 2,
   "id": "c7aaf41b-e783-4f57-b2f9-0f8cd7091e16",
   "metadata": {},
   "outputs": [
    {
     "data": {
      "text/plain": [
       "tuple"
      ]
     },
     "execution_count": 2,
     "metadata": {},
     "output_type": "execute_result"
    }
   ],
   "source": [
    "x=()\n",
    "type(x)"
   ]
  },
  {
   "cell_type": "code",
   "execution_count": 3,
   "id": "8689259e-e966-49a7-888a-bb6311858ebc",
   "metadata": {},
   "outputs": [],
   "source": [
    "x=(1,2,3,\"true\",4.5)"
   ]
  },
  {
   "cell_type": "code",
   "execution_count": 4,
   "id": "16178862-9c09-4bea-bc4a-9778f5e7dc50",
   "metadata": {},
   "outputs": [
    {
     "data": {
      "text/plain": [
       "(1, 2, 3, 'true', 4.5)"
      ]
     },
     "execution_count": 4,
     "metadata": {},
     "output_type": "execute_result"
    }
   ],
   "source": [
    "x"
   ]
  },
  {
   "cell_type": "code",
   "execution_count": 5,
   "id": "277a6c9e-3679-49fe-b933-b64aa270fa94",
   "metadata": {},
   "outputs": [],
   "source": [
    "#indexing in a tuple"
   ]
  },
  {
   "cell_type": "code",
   "execution_count": 6,
   "id": "2d03e8e3-0466-4273-9aae-3e68afe1d422",
   "metadata": {},
   "outputs": [
    {
     "data": {
      "text/plain": [
       "3"
      ]
     },
     "execution_count": 6,
     "metadata": {},
     "output_type": "execute_result"
    }
   ],
   "source": [
    "x[2]"
   ]
  },
  {
   "cell_type": "code",
   "execution_count": 7,
   "id": "f79caec4-cda9-4fb4-9250-b6ab0442d8a4",
   "metadata": {},
   "outputs": [
    {
     "data": {
      "text/plain": [
       "4.5"
      ]
     },
     "execution_count": 7,
     "metadata": {},
     "output_type": "execute_result"
    }
   ],
   "source": [
    "x[4]"
   ]
  },
  {
   "cell_type": "code",
   "execution_count": 10,
   "id": "1d6b1dcc-80c5-4dd5-bb70-a7a9a657da05",
   "metadata": {},
   "outputs": [
    {
     "data": {
      "text/plain": [
       "(3, 4.5)"
      ]
     },
     "execution_count": 10,
     "metadata": {},
     "output_type": "execute_result"
    }
   ],
   "source": [
    "x[2::2]"
   ]
  },
  {
   "cell_type": "code",
   "execution_count": 11,
   "id": "22a7599a-f1f7-412b-86c8-ab95e5131af5",
   "metadata": {},
   "outputs": [
    {
     "data": {
      "text/plain": [
       "1"
      ]
     },
     "execution_count": 11,
     "metadata": {},
     "output_type": "execute_result"
    }
   ],
   "source": [
    "x.count(\"true\")"
   ]
  },
  {
   "cell_type": "code",
   "execution_count": 12,
   "id": "5e3e4d80-27b5-4430-90b1-2af6233ae1d8",
   "metadata": {},
   "outputs": [
    {
     "data": {
      "text/plain": [
       "4"
      ]
     },
     "execution_count": 12,
     "metadata": {},
     "output_type": "execute_result"
    }
   ],
   "source": [
    "x.index(4.5)"
   ]
  },
  {
   "cell_type": "code",
   "execution_count": 15,
   "id": "52337295-c8bc-454f-9663-14e412ce8d36",
   "metadata": {},
   "outputs": [],
   "source": [
    "#nested tuple\n",
    "x=(1,2,(\"eric\",\"mike\"))"
   ]
  },
  {
   "cell_type": "code",
   "execution_count": 16,
   "id": "aa12eda2-fcf1-4a1c-8a5d-3962c428d868",
   "metadata": {},
   "outputs": [
    {
     "data": {
      "text/plain": [
       "('eric', 'mike')"
      ]
     },
     "execution_count": 16,
     "metadata": {},
     "output_type": "execute_result"
    }
   ],
   "source": [
    "x[2]"
   ]
  },
  {
   "cell_type": "code",
   "execution_count": 18,
   "id": "59c2652f-3f81-4376-8b80-32308383624d",
   "metadata": {},
   "outputs": [
    {
     "data": {
      "text/plain": [
       "'mike'"
      ]
     },
     "execution_count": 18,
     "metadata": {},
     "output_type": "execute_result"
    }
   ],
   "source": [
    "x[2][1]"
   ]
  },
  {
   "cell_type": "code",
   "execution_count": 22,
   "id": "e8968ae5-00a2-4b1b-be54-92a35507773f",
   "metadata": {},
   "outputs": [
    {
     "ename": "TypeError",
     "evalue": "'tuple' object does not support item assignment",
     "output_type": "error",
     "traceback": [
      "\u001b[1;31m---------------------------------------------------------------------------\u001b[0m",
      "\u001b[1;31mTypeError\u001b[0m                                 Traceback (most recent call last)",
      "Cell \u001b[1;32mIn[22], line 1\u001b[0m\n\u001b[1;32m----> 1\u001b[0m \u001b[43mx\u001b[49m\u001b[43m[\u001b[49m\u001b[38;5;241;43m2\u001b[39;49m\u001b[43m]\u001b[49m\u001b[43m[\u001b[49m\u001b[38;5;241;43m1\u001b[39;49m\u001b[43m]\u001b[49m\u001b[38;5;241m=\u001b[39m\u001b[38;5;124m\"\u001b[39m\u001b[38;5;124ma\u001b[39m\u001b[38;5;124m\"\u001b[39m                 \u001b[38;5;66;03m#does not support item assignment.........it immutable\u001b[39;00m\n",
      "\u001b[1;31mTypeError\u001b[0m: 'tuple' object does not support item assignment"
     ]
    }
   ],
   "source": [
    "x[2][1]=\"a\"                 #does not support item assignment.........it immutable"
   ]
  },
  {
   "cell_type": "code",
   "execution_count": 26,
   "id": "33cddfe2-788c-402a-9582-daa72262c45d",
   "metadata": {},
   "outputs": [],
   "source": [
    "#creating atuple using tuple()"
   ]
  },
  {
   "cell_type": "code",
   "execution_count": 27,
   "id": "29acccd7-2e46-4da2-ad45-eaec060231be",
   "metadata": {},
   "outputs": [],
   "source": [
    "x=tuple((1,2,2,3))"
   ]
  },
  {
   "cell_type": "code",
   "execution_count": 28,
   "id": "ac24c588-9824-4a37-b1d9-c895238d69c5",
   "metadata": {},
   "outputs": [
    {
     "data": {
      "text/plain": [
       "(1, 2, 2, 3)"
      ]
     },
     "execution_count": 28,
     "metadata": {},
     "output_type": "execute_result"
    }
   ],
   "source": [
    "x"
   ]
  },
  {
   "cell_type": "code",
   "execution_count": 29,
   "id": "b5b9335b-e9e2-4a02-800c-0e6776cefec5",
   "metadata": {},
   "outputs": [],
   "source": [
    "x=[1,2,3,4,[\"student\",\"records\",\"course\",(\"my course\",(\"python\",\"sql\",\"ml\",\"devops\"))]]"
   ]
  },
  {
   "cell_type": "code",
   "execution_count": 30,
   "id": "e0372ca6-2de7-4a2e-9123-4ef27aa4db12",
   "metadata": {},
   "outputs": [
    {
     "data": {
      "text/plain": [
       "[1,\n",
       " 2,\n",
       " 3,\n",
       " 4,\n",
       " ['student',\n",
       "  'records',\n",
       "  'course',\n",
       "  ('my course', ('python', 'sql', 'ml', 'devops'))]]"
      ]
     },
     "execution_count": 30,
     "metadata": {},
     "output_type": "execute_result"
    }
   ],
   "source": [
    "x"
   ]
  },
  {
   "cell_type": "code",
   "execution_count": 31,
   "id": "ec24c39a-fe65-4da4-8ec6-0d1b83b02dae",
   "metadata": {},
   "outputs": [
    {
     "data": {
      "text/plain": [
       "list"
      ]
     },
     "execution_count": 31,
     "metadata": {},
     "output_type": "execute_result"
    }
   ],
   "source": [
    "type(x)"
   ]
  },
  {
   "cell_type": "code",
   "execution_count": 37,
   "id": "2935dc0c-5927-4733-a64a-732923fa99ca",
   "metadata": {},
   "outputs": [],
   "source": [
    "z=x[4][3][1]"
   ]
  },
  {
   "cell_type": "code",
   "execution_count": 38,
   "id": "e76d2680-a4ff-4246-a519-fec8b17d358b",
   "metadata": {},
   "outputs": [
    {
     "data": {
      "text/plain": [
       "('python', 'sql', 'ml', 'devops')"
      ]
     },
     "execution_count": 38,
     "metadata": {},
     "output_type": "execute_result"
    }
   ],
   "source": [
    "z"
   ]
  },
  {
   "cell_type": "code",
   "execution_count": 39,
   "id": "aa288975-97ab-4d02-97fe-d3d53c489a2f",
   "metadata": {},
   "outputs": [
    {
     "ename": "TypeError",
     "evalue": "'tuple' object does not support item assignment",
     "output_type": "error",
     "traceback": [
      "\u001b[1;31m---------------------------------------------------------------------------\u001b[0m",
      "\u001b[1;31mTypeError\u001b[0m                                 Traceback (most recent call last)",
      "Cell \u001b[1;32mIn[39], line 1\u001b[0m\n\u001b[1;32m----> 1\u001b[0m \u001b[43mz\u001b[49m\u001b[43m[\u001b[49m\u001b[38;5;241;43m3\u001b[39;49m\u001b[43m]\u001b[49m\u001b[38;5;241m=\u001b[39m\u001b[38;5;124m\"\u001b[39m\u001b[38;5;124mai\u001b[39m\u001b[38;5;124m\"\u001b[39m\n",
      "\u001b[1;31mTypeError\u001b[0m: 'tuple' object does not support item assignment"
     ]
    }
   ],
   "source": [
    "z[3]=\"ai\""
   ]
  },
  {
   "cell_type": "code",
   "execution_count": 40,
   "id": "5b3ab9ce-c73b-470e-9192-e947393ffa75",
   "metadata": {},
   "outputs": [],
   "source": [
    "z=list(z)"
   ]
  },
  {
   "cell_type": "code",
   "execution_count": 41,
   "id": "db22f9dc-db8d-4189-a857-d14ea05716ed",
   "metadata": {},
   "outputs": [
    {
     "data": {
      "text/plain": [
       "list"
      ]
     },
     "execution_count": 41,
     "metadata": {},
     "output_type": "execute_result"
    }
   ],
   "source": [
    "type(z)"
   ]
  },
  {
   "cell_type": "code",
   "execution_count": 42,
   "id": "becaedbc-09b9-485a-873a-014bae45fa74",
   "metadata": {},
   "outputs": [],
   "source": [
    "z[3]=\"ai\""
   ]
  },
  {
   "cell_type": "code",
   "execution_count": 43,
   "id": "f8061a53-e6ef-4c68-8751-201b1d679372",
   "metadata": {},
   "outputs": [
    {
     "data": {
      "text/plain": [
       "['python', 'sql', 'ml', 'ai']"
      ]
     },
     "execution_count": 43,
     "metadata": {},
     "output_type": "execute_result"
    }
   ],
   "source": [
    "z"
   ]
  },
  {
   "cell_type": "code",
   "execution_count": 44,
   "id": "01921405-5397-43d8-8fe4-e2775c20b0da",
   "metadata": {},
   "outputs": [],
   "source": [
    "z=tuple(z)"
   ]
  },
  {
   "cell_type": "code",
   "execution_count": 45,
   "id": "5a82d68c-dab0-439c-9cb2-a14856d92336",
   "metadata": {},
   "outputs": [
    {
     "data": {
      "text/plain": [
       "('python', 'sql', 'ml', 'ai')"
      ]
     },
     "execution_count": 45,
     "metadata": {},
     "output_type": "execute_result"
    }
   ],
   "source": [
    "z"
   ]
  },
  {
   "cell_type": "code",
   "execution_count": 46,
   "id": "ce9ec492-7d59-4de3-9dcd-0109ca1afbad",
   "metadata": {},
   "outputs": [
    {
     "data": {
      "text/plain": [
       "tuple"
      ]
     },
     "execution_count": 46,
     "metadata": {},
     "output_type": "execute_result"
    }
   ],
   "source": [
    "type(z)"
   ]
  },
  {
   "cell_type": "code",
   "execution_count": 49,
   "id": "36df873f-8d89-416b-b630-cb1406247737",
   "metadata": {},
   "outputs": [
    {
     "data": {
      "text/plain": [
       "[1,\n",
       " 2,\n",
       " 3,\n",
       " 4,\n",
       " ['student',\n",
       "  'records',\n",
       "  'course',\n",
       "  ('my course', ('python', 'sql', 'ml', 'devops'))]]"
      ]
     },
     "execution_count": 49,
     "metadata": {},
     "output_type": "execute_result"
    }
   ],
   "source": [
    "x\n"
   ]
  },
  {
   "cell_type": "code",
   "execution_count": 52,
   "id": "5eda8966-b736-4b2c-a64f-3c86f37bdde5",
   "metadata": {},
   "outputs": [
    {
     "data": {
      "text/plain": [
       "('my course', ('python', 'sql', 'ml', 'devops'))"
      ]
     },
     "execution_count": 52,
     "metadata": {},
     "output_type": "execute_result"
    }
   ],
   "source": [
    "x[4][3]"
   ]
  },
  {
   "cell_type": "code",
   "execution_count": 53,
   "id": "4496362c-6f19-4f42-85bf-60c746e50785",
   "metadata": {},
   "outputs": [],
   "source": [
    "i=list(x[4][3])"
   ]
  },
  {
   "cell_type": "code",
   "execution_count": 54,
   "id": "ee849975-d3da-4804-840b-3195a786cea5",
   "metadata": {},
   "outputs": [
    {
     "data": {
      "text/plain": [
       "list"
      ]
     },
     "execution_count": 54,
     "metadata": {},
     "output_type": "execute_result"
    }
   ],
   "source": [
    "type(i)"
   ]
  },
  {
   "cell_type": "code",
   "execution_count": 55,
   "id": "e0246c1a-4f28-47ed-baba-1345c51dcf53",
   "metadata": {},
   "outputs": [
    {
     "data": {
      "text/plain": [
       "['my course', ('python', 'sql', 'ml', 'devops')]"
      ]
     },
     "execution_count": 55,
     "metadata": {},
     "output_type": "execute_result"
    }
   ],
   "source": [
    "i"
   ]
  },
  {
   "cell_type": "code",
   "execution_count": 56,
   "id": "95cd19ea-10be-44b1-b326-187d69861121",
   "metadata": {},
   "outputs": [],
   "source": [
    "i=tuple(i)"
   ]
  },
  {
   "cell_type": "code",
   "execution_count": 57,
   "id": "19e01c55-9449-4c4f-8328-29b9eabeaf1e",
   "metadata": {},
   "outputs": [
    {
     "data": {
      "text/plain": [
       "('my course', ('python', 'sql', 'ml', 'devops'))"
      ]
     },
     "execution_count": 57,
     "metadata": {},
     "output_type": "execute_result"
    }
   ],
   "source": [
    "x[4][3]"
   ]
  },
  {
   "cell_type": "code",
   "execution_count": 58,
   "id": "b30632f6-a98f-4584-8a68-efd7a8c88c6f",
   "metadata": {},
   "outputs": [
    {
     "data": {
      "text/plain": [
       "[1,\n",
       " 2,\n",
       " 3,\n",
       " 4,\n",
       " ['student',\n",
       "  'records',\n",
       "  'course',\n",
       "  ('my course', ('python', 'sql', 'ml', 'devops'))]]"
      ]
     },
     "execution_count": 58,
     "metadata": {},
     "output_type": "execute_result"
    }
   ],
   "source": [
    "x"
   ]
  },
  {
   "cell_type": "code",
   "execution_count": 59,
   "id": "ab42944e-20ae-4c1a-be31-0f124772267a",
   "metadata": {},
   "outputs": [],
   "source": [
    "y=(\"pyhton\")"
   ]
  },
  {
   "cell_type": "code",
   "execution_count": 62,
   "id": "31e3b4ff-4681-4c97-9fa5-5111e91fc0b0",
   "metadata": {},
   "outputs": [
    {
     "data": {
      "text/plain": [
       "str"
      ]
     },
     "execution_count": 62,
     "metadata": {},
     "output_type": "execute_result"
    }
   ],
   "source": [
    "type(y)"
   ]
  },
  {
   "cell_type": "code",
   "execution_count": 63,
   "id": "6b0805c1-f3a4-4bfe-99af-e9f341957f3a",
   "metadata": {},
   "outputs": [],
   "source": [
    "y=(1,)"
   ]
  },
  {
   "cell_type": "code",
   "execution_count": 64,
   "id": "fd5a6dc4-f4b6-4d4b-a14e-59a581711e25",
   "metadata": {},
   "outputs": [
    {
     "data": {
      "text/plain": [
       "tuple"
      ]
     },
     "execution_count": 64,
     "metadata": {},
     "output_type": "execute_result"
    }
   ],
   "source": [
    "type(y)"
   ]
  },
  {
   "cell_type": "code",
   "execution_count": 65,
   "id": "a49e30ca-7dbc-4243-9889-ab6faf730567",
   "metadata": {},
   "outputs": [
    {
     "data": {
      "text/plain": [
       "(1,)"
      ]
     },
     "execution_count": 65,
     "metadata": {},
     "output_type": "execute_result"
    }
   ],
   "source": [
    "y"
   ]
  },
  {
   "cell_type": "code",
   "execution_count": null,
   "id": "66b405ca-4873-473b-a340-5bc172b20b86",
   "metadata": {},
   "outputs": [],
   "source": []
  }
 ],
 "metadata": {
  "kernelspec": {
   "display_name": "Python 3 (ipykernel)",
   "language": "python",
   "name": "python3"
  },
  "language_info": {
   "codemirror_mode": {
    "name": "ipython",
    "version": 3
   },
   "file_extension": ".py",
   "mimetype": "text/x-python",
   "name": "python",
   "nbconvert_exporter": "python",
   "pygments_lexer": "ipython3",
   "version": "3.11.4"
  }
 },
 "nbformat": 4,
 "nbformat_minor": 5
}
