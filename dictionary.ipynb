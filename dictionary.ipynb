{
 "cells": [
  {
   "cell_type": "code",
   "execution_count": 1,
   "id": "b7d1be1f-ffd4-4eb6-b2cf-654e68eb4e8c",
   "metadata": {},
   "outputs": [],
   "source": [
    "#syntax :  {}\n",
    "# its have key and value pairs"
   ]
  },
  {
   "cell_type": "code",
   "execution_count": 2,
   "id": "b16bf5b5-a8f1-49e3-a154-8f5897f726ec",
   "metadata": {},
   "outputs": [],
   "source": [
    "x={\"name\":\"praveen\"}"
   ]
  },
  {
   "cell_type": "code",
   "execution_count": 3,
   "id": "564f503c-8a63-4855-8686-2ee5c6ae6d7d",
   "metadata": {},
   "outputs": [
    {
     "data": {
      "text/plain": [
       "{'name': 'praveen'}"
      ]
     },
     "execution_count": 3,
     "metadata": {},
     "output_type": "execute_result"
    }
   ],
   "source": [
    "x"
   ]
  },
  {
   "cell_type": "code",
   "execution_count": 4,
   "id": "051c6fc1-d086-4347-accd-9457aa2c1b86",
   "metadata": {},
   "outputs": [
    {
     "data": {
      "text/plain": [
       "dict"
      ]
     },
     "execution_count": 4,
     "metadata": {},
     "output_type": "execute_result"
    }
   ],
   "source": [
    "type(x)"
   ]
  },
  {
   "cell_type": "code",
   "execution_count": 5,
   "id": "8507035b-7c28-4d4b-9102-425599cbaf09",
   "metadata": {},
   "outputs": [],
   "source": [
    "# indexing in dict"
   ]
  },
  {
   "cell_type": "code",
   "execution_count": 7,
   "id": "0ed05826-0a82-454e-a2a4-24df880868d8",
   "metadata": {},
   "outputs": [
    {
     "data": {
      "text/plain": [
       "'praveen'"
      ]
     },
     "execution_count": 7,
     "metadata": {},
     "output_type": "execute_result"
    }
   ],
   "source": [
    "x[\"name\"]\n",
    "                              #indexing base on key value"
   ]
  },
  {
   "cell_type": "code",
   "execution_count": 8,
   "id": "c952143f-b8bc-4ae1-b228-944ebad8874c",
   "metadata": {},
   "outputs": [],
   "source": [
    "x[\"name\"]=\"eric\""
   ]
  },
  {
   "cell_type": "code",
   "execution_count": 9,
   "id": "2390cd7b-8500-4f98-8d3b-d5236e96a4a9",
   "metadata": {},
   "outputs": [
    {
     "data": {
      "text/plain": [
       "{'name': 'eric'}"
      ]
     },
     "execution_count": 9,
     "metadata": {},
     "output_type": "execute_result"
    }
   ],
   "source": [
    "x"
   ]
  },
  {
   "cell_type": "code",
   "execution_count": 12,
   "id": "9168ab0d-322c-4bf9-8608-21fbc1177dc6",
   "metadata": {},
   "outputs": [],
   "source": [
    "x={\"names\":[\"shubham\",\"rahul\",\"praveen\"],\"email\":[\"s@gmail.com\",\"r@gamil.com\",\"p@gmail.com\"]}"
   ]
  },
  {
   "cell_type": "code",
   "execution_count": 13,
   "id": "7e78afa0-b8a3-49b5-9887-e51d5baf0152",
   "metadata": {},
   "outputs": [
    {
     "data": {
      "text/plain": [
       "{'names': ['shubham', 'rahul', 'praveen'],\n",
       " 'email': ['s@gmail.com', 'r@gamil.com', 'p@gmail.com']}"
      ]
     },
     "execution_count": 13,
     "metadata": {},
     "output_type": "execute_result"
    }
   ],
   "source": [
    "x"
   ]
  },
  {
   "cell_type": "code",
   "execution_count": 14,
   "id": "ddbcf7d7-8bf0-4193-bb0a-785059aa7105",
   "metadata": {},
   "outputs": [
    {
     "data": {
      "text/plain": [
       "['shubham', 'rahul', 'praveen']"
      ]
     },
     "execution_count": 14,
     "metadata": {},
     "output_type": "execute_result"
    }
   ],
   "source": [
    "x[\"names\"]"
   ]
  },
  {
   "cell_type": "code",
   "execution_count": 15,
   "id": "eb39d83b-879e-405e-96fa-bb745ebc332c",
   "metadata": {},
   "outputs": [],
   "source": [
    "#dict methode"
   ]
  },
  {
   "cell_type": "code",
   "execution_count": 16,
   "id": "536408dc-df5f-4634-be1b-dec972305ab8",
   "metadata": {},
   "outputs": [],
   "source": [
    "y={\"age\":[20,19,18]}"
   ]
  },
  {
   "cell_type": "code",
   "execution_count": 17,
   "id": "b90a152f-d3c0-4455-a106-f4cba4fcdf26",
   "metadata": {},
   "outputs": [],
   "source": [
    "x.update(y)"
   ]
  },
  {
   "cell_type": "code",
   "execution_count": 18,
   "id": "b296c54f-b40c-4ccb-8f8e-2be412b81afe",
   "metadata": {},
   "outputs": [
    {
     "data": {
      "text/plain": [
       "{'names': ['shubham', 'rahul', 'praveen'],\n",
       " 'email': ['s@gmail.com', 'r@gamil.com', 'p@gmail.com'],\n",
       " 'age': [20, 19, 18]}"
      ]
     },
     "execution_count": 18,
     "metadata": {},
     "output_type": "execute_result"
    }
   ],
   "source": [
    "x"
   ]
  },
  {
   "cell_type": "code",
   "execution_count": 19,
   "id": "868627db-de1b-45de-8293-12d884fcd885",
   "metadata": {},
   "outputs": [
    {
     "data": {
      "text/plain": [
       "dict_keys(['names', 'email', 'age'])"
      ]
     },
     "execution_count": 19,
     "metadata": {},
     "output_type": "execute_result"
    }
   ],
   "source": [
    "x.keys()"
   ]
  },
  {
   "cell_type": "code",
   "execution_count": 20,
   "id": "e753f9ec-8acf-4bf6-a14f-aac1041dcdd2",
   "metadata": {},
   "outputs": [
    {
     "data": {
      "text/plain": [
       "dict_values([['shubham', 'rahul', 'praveen'], ['s@gmail.com', 'r@gamil.com', 'p@gmail.com'], [20, 19, 18]])"
      ]
     },
     "execution_count": 20,
     "metadata": {},
     "output_type": "execute_result"
    }
   ],
   "source": [
    "x.values()"
   ]
  },
  {
   "cell_type": "code",
   "execution_count": 24,
   "id": "fa6c8126-d5a2-4db0-9a64-0b0086cd8dde",
   "metadata": {},
   "outputs": [
    {
     "data": {
      "text/plain": [
       "dict_items([('names', ['shubham', 'rahul', 'praveen']), ('email', ['s@gmail.com', 'r@gamil.com', 'p@gmail.com']), ('age', [20, 19, 18])])"
      ]
     },
     "execution_count": 24,
     "metadata": {},
     "output_type": "execute_result"
    }
   ],
   "source": [
    "x.items()"
   ]
  },
  {
   "cell_type": "code",
   "execution_count": 25,
   "id": "06f0a586-75e7-469f-bd65-cafa1fe9474b",
   "metadata": {},
   "outputs": [
    {
     "data": {
      "text/plain": [
       "['shubham', 'rahul', 'praveen']"
      ]
     },
     "execution_count": 25,
     "metadata": {},
     "output_type": "execute_result"
    }
   ],
   "source": [
    "x.get(\"names\")"
   ]
  },
  {
   "cell_type": "code",
   "execution_count": 26,
   "id": "1e4ba727-e178-407c-af45-68496f2b082f",
   "metadata": {},
   "outputs": [
    {
     "data": {
      "text/plain": [
       "3"
      ]
     },
     "execution_count": 26,
     "metadata": {},
     "output_type": "execute_result"
    }
   ],
   "source": [
    "len(x)"
   ]
  },
  {
   "cell_type": "code",
   "execution_count": 27,
   "id": "fdf93b9e-0cad-42b0-8afd-e18d005aeaf0",
   "metadata": {},
   "outputs": [
    {
     "data": {
      "text/plain": [
       "<function dict.popitem()>"
      ]
     },
     "execution_count": 27,
     "metadata": {},
     "output_type": "execute_result"
    }
   ],
   "source": [
    "x.popitem"
   ]
  },
  {
   "cell_type": "code",
   "execution_count": 28,
   "id": "d87d76ae-1b09-4071-868a-8718d8bda344",
   "metadata": {},
   "outputs": [
    {
     "data": {
      "text/plain": [
       "('age', [20, 19, 18])"
      ]
     },
     "execution_count": 28,
     "metadata": {},
     "output_type": "execute_result"
    }
   ],
   "source": [
    "x.popitem()"
   ]
  },
  {
   "cell_type": "code",
   "execution_count": 29,
   "id": "2ad2ebdb-c13b-4e19-bdbc-3a111a3cd07b",
   "metadata": {},
   "outputs": [
    {
     "data": {
      "text/plain": [
       "['s@gmail.com', 'r@gamil.com', 'p@gmail.com']"
      ]
     },
     "execution_count": 29,
     "metadata": {},
     "output_type": "execute_result"
    }
   ],
   "source": [
    "x.pop(\"email\")"
   ]
  },
  {
   "cell_type": "code",
   "execution_count": 30,
   "id": "077d3151-fd3e-49f5-991d-969b96f4f26f",
   "metadata": {},
   "outputs": [
    {
     "data": {
      "text/plain": [
       "{'names': ['shubham', 'rahul', 'praveen']}"
      ]
     },
     "execution_count": 30,
     "metadata": {},
     "output_type": "execute_result"
    }
   ],
   "source": [
    "x"
   ]
  },
  {
   "cell_type": "code",
   "execution_count": 31,
   "id": "28e95984-fa6a-4601-85a3-3a0d5f887fb0",
   "metadata": {},
   "outputs": [],
   "source": [
    "x.clear()"
   ]
  },
  {
   "cell_type": "code",
   "execution_count": 32,
   "id": "cb6f7105-3150-4209-9536-50dbee8fb1dd",
   "metadata": {},
   "outputs": [
    {
     "data": {
      "text/plain": [
       "{}"
      ]
     },
     "execution_count": 32,
     "metadata": {},
     "output_type": "execute_result"
    }
   ],
   "source": [
    "x"
   ]
  },
  {
   "cell_type": "code",
   "execution_count": 33,
   "id": "f6e629f9-73d4-404c-a019-fd337fab3f45",
   "metadata": {},
   "outputs": [],
   "source": [
    "#fromkeys() :-- A dict methpode returns a dictionary with the specified keys and the specified value.\n"
   ]
  },
  {
   "cell_type": "code",
   "execution_count": 34,
   "id": "f4efef57-504a-4377-a086-e32313a1ade2",
   "metadata": {},
   "outputs": [
    {
     "data": {
      "text/plain": [
       "{'age': [20, 19, 18]}"
      ]
     },
     "execution_count": 34,
     "metadata": {},
     "output_type": "execute_result"
    }
   ],
   "source": [
    "y"
   ]
  },
  {
   "cell_type": "code",
   "execution_count": 36,
   "id": "483056cc-ef4e-44ac-9d4d-6583ea1a25ab",
   "metadata": {},
   "outputs": [
    {
     "data": {
      "text/plain": [
       "{'age': None}"
      ]
     },
     "execution_count": 36,
     "metadata": {},
     "output_type": "execute_result"
    }
   ],
   "source": [
    "y.fromkeys(y)"
   ]
  },
  {
   "cell_type": "code",
   "execution_count": 37,
   "id": "472d051e-068b-42d7-aab4-074f0dc1a29c",
   "metadata": {},
   "outputs": [
    {
     "name": "stdout",
     "output_type": "stream",
     "text": [
      "{'key1': None, 'key2': None, 'key3': None}\n"
     ]
    }
   ],
   "source": [
    "x = ('key1', 'key2', 'key3')\n",
    "thisdict = dict.fromkeys(x)\n",
    "print(thisdict)"
   ]
  },
  {
   "cell_type": "code",
   "execution_count": 38,
   "id": "1502bc26-b9bb-41e0-96e9-47389ed3acb6",
   "metadata": {},
   "outputs": [
    {
     "name": "stdout",
     "output_type": "stream",
     "text": [
      "{'key1': (12, 23, 43), 'key2': (12, 23, 43), 'key3': (12, 23, 43)}\n"
     ]
    }
   ],
   "source": [
    "x = ('key1', 'key2', 'key3')\n",
    "y = (12,23,43)\n",
    "\n",
    "thisdict = dict.fromkeys(x, y)\n",
    "print(thisdict)"
   ]
  },
  {
   "cell_type": "code",
   "execution_count": 39,
   "id": "02c9f4d8-d60f-4617-87bc-953782c98353",
   "metadata": {},
   "outputs": [],
   "source": [
    "#nested Dict"
   ]
  },
  {
   "cell_type": "code",
   "execution_count": 43,
   "id": "21f41ea1-af34-41b8-b55d-25a6e6dee1d5",
   "metadata": {},
   "outputs": [],
   "source": [
    "x={\"names\":{\"firstname\":\"praveen\",\"lastname\":\"chouhan\"}}"
   ]
  },
  {
   "cell_type": "code",
   "execution_count": 44,
   "id": "3a5bd6fe-984f-409f-b7a3-cda67ebae46d",
   "metadata": {},
   "outputs": [
    {
     "data": {
      "text/plain": [
       "{'names': {'firstname': 'praveen', 'lastname': 'chouhan'}}"
      ]
     },
     "execution_count": 44,
     "metadata": {},
     "output_type": "execute_result"
    }
   ],
   "source": [
    "x"
   ]
  },
  {
   "cell_type": "code",
   "execution_count": 45,
   "id": "7ba7cf30-8374-4542-87ac-f6de8d7103f0",
   "metadata": {},
   "outputs": [
    {
     "data": {
      "text/plain": [
       "{'firstname': 'praveen', 'lastname': 'chouhan'}"
      ]
     },
     "execution_count": 45,
     "metadata": {},
     "output_type": "execute_result"
    }
   ],
   "source": [
    "x[\"names\"]"
   ]
  },
  {
   "cell_type": "code",
   "execution_count": 46,
   "id": "40aeae05-136b-4f09-b1fb-af3a3ddc2fd5",
   "metadata": {},
   "outputs": [
    {
     "data": {
      "text/plain": [
       "'chouhan'"
      ]
     },
     "execution_count": 46,
     "metadata": {},
     "output_type": "execute_result"
    }
   ],
   "source": [
    "x[\"names\"][\"lastname\"]"
   ]
  },
  {
   "cell_type": "code",
   "execution_count": null,
   "id": "37f76c0e-76b4-4016-87e5-ba1c21b0cc32",
   "metadata": {},
   "outputs": [],
   "source": [
    "\n",
    "\n",
    "\n"
   ]
  }
 ],
 "metadata": {
  "kernelspec": {
   "display_name": "Python 3 (ipykernel)",
   "language": "python",
   "name": "python3"
  },
  "language_info": {
   "codemirror_mode": {
    "name": "ipython",
    "version": 3
   },
   "file_extension": ".py",
   "mimetype": "text/x-python",
   "name": "python",
   "nbconvert_exporter": "python",
   "pygments_lexer": "ipython3",
   "version": "3.11.4"
  }
 },
 "nbformat": 4,
 "nbformat_minor": 5
}
