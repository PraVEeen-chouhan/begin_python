{
 "cells": [
  {
   "cell_type": "code",
   "execution_count": 10,
   "id": "1a4761e6-6f7f-40a6-aaac-bb6a2a72a624",
   "metadata": {},
   "outputs": [],
   "source": [
    "#class"
   ]
  },
  {
   "cell_type": "code",
   "execution_count": 11,
   "id": "1e427cad-7edf-4d6b-ad06-45237c3e046b",
   "metadata": {},
   "outputs": [],
   "source": [
    "class test:\n",
    "    name=\"pyhton\""
   ]
  },
  {
   "cell_type": "code",
   "execution_count": 12,
   "id": "a2d8aa9b-7c07-4efb-8c46-3fef7c85c36a",
   "metadata": {},
   "outputs": [],
   "source": [
    "x=test()"
   ]
  },
  {
   "cell_type": "code",
   "execution_count": 13,
   "id": "9159ec9d-fc9b-44f5-b93e-f2479451dce8",
   "metadata": {},
   "outputs": [
    {
     "data": {
      "text/plain": [
       "<__main__.test at 0x2846209c990>"
      ]
     },
     "execution_count": 13,
     "metadata": {},
     "output_type": "execute_result"
    }
   ],
   "source": [
    "x"
   ]
  },
  {
   "cell_type": "code",
   "execution_count": 14,
   "id": "c828d8dd-c50b-40b8-8e54-a1bb48404b73",
   "metadata": {},
   "outputs": [
    {
     "data": {
      "text/plain": [
       "'pyhton'"
      ]
     },
     "execution_count": 14,
     "metadata": {},
     "output_type": "execute_result"
    }
   ],
   "source": [
    "x.name   #how to call the class variable"
   ]
  },
  {
   "cell_type": "code",
   "execution_count": 15,
   "id": "f76d4570-fab1-4e41-9bdd-9cc497649441",
   "metadata": {},
   "outputs": [
    {
     "data": {
      "text/plain": [
       "'pyhton'"
      ]
     },
     "execution_count": 15,
     "metadata": {},
     "output_type": "execute_result"
    }
   ],
   "source": [
    "test.name    #how to call class var"
   ]
  },
  {
   "cell_type": "code",
   "execution_count": 16,
   "id": "517aedeb-57d5-45e5-bc34-c534eca17db2",
   "metadata": {},
   "outputs": [],
   "source": [
    "class test1:\n",
    "    name=\"python\"\n",
    "    def display(a):\n",
    "        #print(a)\n",
    "        print(\"my function has been called\")\n",
    "    "
   ]
  },
  {
   "cell_type": "code",
   "execution_count": 17,
   "id": "2fdce47f-deaf-437a-9a95-10cce7003337",
   "metadata": {},
   "outputs": [],
   "source": [
    "x=test1()\n"
   ]
  },
  {
   "cell_type": "code",
   "execution_count": 18,
   "id": "835087c8-96a9-4cb7-b1cd-32e6e916781b",
   "metadata": {},
   "outputs": [
    {
     "data": {
      "text/plain": [
       "<__main__.test1 at 0x284620da510>"
      ]
     },
     "execution_count": 18,
     "metadata": {},
     "output_type": "execute_result"
    }
   ],
   "source": [
    "x"
   ]
  },
  {
   "cell_type": "code",
   "execution_count": 19,
   "id": "644b2f08-7d88-4d2b-985b-082b6f6eeea6",
   "metadata": {},
   "outputs": [
    {
     "name": "stdout",
     "output_type": "stream",
     "text": [
      "my function has been called\n"
     ]
    }
   ],
   "source": [
    "x.display()"
   ]
  },
  {
   "cell_type": "code",
   "execution_count": 20,
   "id": "d69784a6-73b4-4278-90e6-8a58271eec45",
   "metadata": {},
   "outputs": [],
   "source": [
    "class test_class:\n",
    "    def __init__(b):\n",
    "        b.name=\"praveen\"  #instance variable\n",
    "        print(\"no parameterized constructer has been called\")\n",
    "    def named(a):\n",
    "        print(\"your name is called\")"
   ]
  },
  {
   "cell_type": "code",
   "execution_count": 21,
   "id": "da9eecd7-ed5f-4331-a7c2-2efef8626bf9",
   "metadata": {},
   "outputs": [
    {
     "name": "stdout",
     "output_type": "stream",
     "text": [
      "no parameterized constructer has been called\n"
     ]
    }
   ],
   "source": [
    "x=test_class()"
   ]
  },
  {
   "cell_type": "code",
   "execution_count": 22,
   "id": "78ae415d-c9b1-475c-afe9-30bd0effe4e5",
   "metadata": {},
   "outputs": [
    {
     "data": {
      "text/plain": [
       "<__main__.test_class at 0x284620da0d0>"
      ]
     },
     "execution_count": 22,
     "metadata": {},
     "output_type": "execute_result"
    }
   ],
   "source": [
    "x"
   ]
  },
  {
   "cell_type": "code",
   "execution_count": 24,
   "id": "693698c7-9fe1-492a-bfa3-109ff09b4856",
   "metadata": {},
   "outputs": [
    {
     "data": {
      "text/plain": [
       "'praveen'"
      ]
     },
     "execution_count": 24,
     "metadata": {},
     "output_type": "execute_result"
    }
   ],
   "source": [
    "x.name           #objectname.classvar"
   ]
  },
  {
   "cell_type": "code",
   "execution_count": 25,
   "id": "f47c6a42-f3fd-4f31-bf81-3b838543761c",
   "metadata": {},
   "outputs": [],
   "source": [
    "class test_class():\n",
    "    def __init__(b):\n",
    "        b.name=\"praveen\"\n",
    "        print(\"cionstructer has been called\")\n",
    "        print(b.name)\n",
    "    def named(a):\n",
    "        print(f\"your name has been called:{a.name}\")"
   ]
  },
  {
   "cell_type": "code",
   "execution_count": 26,
   "id": "2c4b88dc-a73d-4606-a6f6-ff698f3acf05",
   "metadata": {},
   "outputs": [
    {
     "name": "stdout",
     "output_type": "stream",
     "text": [
      "cionstructer has been called\n",
      "praveen\n",
      "your name has been called:praveen\n"
     ]
    }
   ],
   "source": [
    "x=test_class()\n",
    "x.named()"
   ]
  },
  {
   "cell_type": "code",
   "execution_count": 91,
   "id": "ec8f92bb-27b4-4e81-bb95-462454f2859c",
   "metadata": {},
   "outputs": [],
   "source": [
    "class test_class:\n",
    "    def __init__(b,name,age,email):    #parameterized constercter\n",
    "        b.name=name\n",
    "        b.age=age\n",
    "        b.email=email\n",
    "        print(f\"constercter has been called and assign the value:\\n name:{b.name}\\n age:{b.age}\\n email:{b.email}\")\n",
    "    def named(a):\n",
    "        '''-----this will show you the username-------'''\n",
    "        print(f\"your name has been called : {a.name}\")\n",
    "    def aged(c):\n",
    "        print(f\"your name has been called : {c.age}\")\n",
    "    def emailed(d):\n",
    "        print(f\"youe email has been called : {d.email}\")\n",
    "\n",
    "\n",
    "\n",
    "\n",
    "\n",
    "\n",
    "#variable name or methode name should not be same\n",
    "        "
   ]
  },
  {
   "cell_type": "code",
   "execution_count": 92,
   "id": "c5b2be6f-df16-410e-bc4e-ae93d1297873",
   "metadata": {},
   "outputs": [
    {
     "name": "stdout",
     "output_type": "stream",
     "text": [
      "constercter has been called and assign the value:\n",
      " name:praveen\n",
      " age:21\n",
      " email:prchouhan2002@gmail.com\n"
     ]
    }
   ],
   "source": [
    "x=test_class(\"praveen\",21,\"prchouhan2002@gmail.com\")"
   ]
  },
  {
   "cell_type": "code",
   "execution_count": 93,
   "id": "e4a48959-bedd-4b3a-b21f-3732fe6f29f9",
   "metadata": {},
   "outputs": [
    {
     "data": {
      "text/plain": [
       "<__main__.test_class at 0x2846215bf10>"
      ]
     },
     "execution_count": 93,
     "metadata": {},
     "output_type": "execute_result"
    }
   ],
   "source": [
    "x"
   ]
  },
  {
   "cell_type": "code",
   "execution_count": 94,
   "id": "dfaac2bc-07d0-4d91-bbc1-d7eaf66811b3",
   "metadata": {},
   "outputs": [
    {
     "name": "stdout",
     "output_type": "stream",
     "text": [
      "your name has been called : praveen\n"
     ]
    }
   ],
   "source": [
    "x.named()\n",
    "#x.age()\n",
    "#x.email()"
   ]
  },
  {
   "cell_type": "code",
   "execution_count": 95,
   "id": "6c8888bf-a9db-468f-878f-1852780a3693",
   "metadata": {},
   "outputs": [
    {
     "name": "stdout",
     "output_type": "stream",
     "text": [
      "your name has been called : 21\n",
      "youe email has been called : prchouhan2002@gmail.com\n"
     ]
    }
   ],
   "source": [
    "x.aged()                   ##confussed\n",
    "x.emailed()"
   ]
  },
  {
   "cell_type": "code",
   "execution_count": 96,
   "id": "b5d58531-b5a8-4f96-8882-8d593ccf75dd",
   "metadata": {},
   "outputs": [
    {
     "data": {
      "text/plain": [
       "__main__.test_class"
      ]
     },
     "execution_count": 96,
     "metadata": {},
     "output_type": "execute_result"
    }
   ],
   "source": [
    "type(x)"
   ]
  },
  {
   "cell_type": "code",
   "execution_count": 97,
   "id": "5f9fe63b-ca1e-40ef-9c68-53f8dce01c7d",
   "metadata": {},
   "outputs": [
    {
     "name": "stdout",
     "output_type": "stream",
     "text": [
      "Help on class test_class in module __main__:\n",
      "\n",
      "class test_class(builtins.object)\n",
      " |  test_class(name, age, email)\n",
      " |  \n",
      " |  Methods defined here:\n",
      " |  \n",
      " |  __init__(b, name, age, email)\n",
      " |      Initialize self.  See help(type(self)) for accurate signature.\n",
      " |  \n",
      " |  aged(c)\n",
      " |  \n",
      " |  emailed(d)\n",
      " |  \n",
      " |  named(a)\n",
      " |      -----this will show you the username-------\n",
      " |  \n",
      " |  ----------------------------------------------------------------------\n",
      " |  Data descriptors defined here:\n",
      " |  \n",
      " |  __dict__\n",
      " |      dictionary for instance variables (if defined)\n",
      " |  \n",
      " |  __weakref__\n",
      " |      list of weak references to the object (if defined)\n",
      "\n"
     ]
    }
   ],
   "source": [
    "help(test_class)"
   ]
  },
  {
   "cell_type": "code",
   "execution_count": 98,
   "id": "cb4efb89-d045-4a1f-bdcf-27e88223a7e7",
   "metadata": {},
   "outputs": [],
   "source": [
    "class test_class:\n",
    "    def __init__(self,name,age,email):    #parameterized constercter\n",
    "        self.name=name\n",
    "        self.age=age\n",
    "        self.email=email\n",
    "        print(f\"constercter has been called and assign the value:\\n name:{self.name}\\n age:{self.age}\\n email:{self.email}\")\n",
    "    def named(self):\n",
    "        '''-----this will show you the username-------'''\n",
    "        print(f\"your name has been called : {self.name}\")\n",
    "    def aged(self):\n",
    "        print(f\"your name has been called : {self.age}\")\n",
    "    def emailed(self):\n",
    "        print(f\"youe email has been called : {self.email}\")\n",
    "        "
   ]
  },
  {
   "cell_type": "code",
   "execution_count": 99,
   "id": "c52a4c99-c739-4b8f-a0f6-cda509ec67ab",
   "metadata": {},
   "outputs": [
    {
     "name": "stdout",
     "output_type": "stream",
     "text": [
      "constercter has been called and assign the value:\n",
      " name:praveen\n",
      " age:21\n",
      " email:prchouhan2002@gmail\n"
     ]
    }
   ],
   "source": [
    "x=test_class(\"praveen\",21,\"prchouhan2002@gmail\")"
   ]
  },
  {
   "cell_type": "code",
   "execution_count": 100,
   "id": "40691338-6fdc-418a-8137-9fcbc1370c1c",
   "metadata": {},
   "outputs": [
    {
     "name": "stdout",
     "output_type": "stream",
     "text": [
      "your name has been called : praveen\n",
      "your name has been called : 21\n",
      "youe email has been called : prchouhan2002@gmail\n"
     ]
    }
   ],
   "source": [
    "x.named()\n",
    "x.aged()\n",
    "x.emailed()"
   ]
  },
  {
   "cell_type": "code",
   "execution_count": 101,
   "id": "ba255879-ad51-483c-aa6a-d41f29e4be85",
   "metadata": {},
   "outputs": [],
   "source": [
    "#single level inheritance"
   ]
  },
  {
   "cell_type": "code",
   "execution_count": 117,
   "id": "1e2b3bab-980a-4205-b5fe-c760626ad210",
   "metadata": {},
   "outputs": [],
   "source": [
    "class parent:\n",
    "    def par(self):\n",
    "        print(\"parent methode has been called\")\n",
    "class child(parent):\n",
    "    def child1(self):\n",
    "        print(\"child class hass been called\")"
   ]
  },
  {
   "cell_type": "code",
   "execution_count": 118,
   "id": "8132a6df-5a67-437d-bca0-a1974721bccb",
   "metadata": {},
   "outputs": [],
   "source": [
    "x=parent()\n",
    "y=child()"
   ]
  },
  {
   "cell_type": "code",
   "execution_count": 121,
   "id": "29a5977b-3d19-4c51-a784-1d20367be9d6",
   "metadata": {},
   "outputs": [
    {
     "name": "stdout",
     "output_type": "stream",
     "text": [
      "parent methode has been called\n",
      "child class hass been called\n"
     ]
    }
   ],
   "source": [
    "x.par()\n",
    "y.child1()"
   ]
  },
  {
   "cell_type": "code",
   "execution_count": 116,
   "id": "db9f214e-8847-4c14-8cf3-6d84e034ebe1",
   "metadata": {},
   "outputs": [
    {
     "name": "stdout",
     "output_type": "stream",
     "text": [
      "child class hass been called\n"
     ]
    }
   ],
   "source": [
    "y.child1()"
   ]
  },
  {
   "cell_type": "code",
   "execution_count": 122,
   "id": "dc9c299c-d39e-42c7-a4b0-623ebb64e4d6",
   "metadata": {},
   "outputs": [
    {
     "name": "stdout",
     "output_type": "stream",
     "text": [
      "parent methode has been called\n"
     ]
    }
   ],
   "source": [
    "y.par()"
   ]
  },
  {
   "cell_type": "code",
   "execution_count": 124,
   "id": "5ec3a905-b838-450e-ac92-cd3e8a266e4d",
   "metadata": {},
   "outputs": [],
   "source": [
    "class grand:\n",
    "    def grand1(self):\n",
    "        print(\"grand dunction has been called\")\n",
    "class parent(grand):\n",
    "    def par(self):\n",
    "        print(\"parent methode has been called\")\n",
    "class children(parent):\n",
    "    def child(self):\n",
    "        print(\"child methode has been called\")\n",
    "        "
   ]
  },
  {
   "cell_type": "code",
   "execution_count": 125,
   "id": "65c88e2e-c03e-4189-aec7-988496dff867",
   "metadata": {},
   "outputs": [],
   "source": [
    "x=children()"
   ]
  },
  {
   "cell_type": "code",
   "execution_count": 126,
   "id": "ebea0161-9c93-4529-8540-7e17b9bdc4c5",
   "metadata": {},
   "outputs": [
    {
     "name": "stdout",
     "output_type": "stream",
     "text": [
      "grand dunction has been called\n"
     ]
    }
   ],
   "source": [
    "x.grand1()"
   ]
  },
  {
   "cell_type": "code",
   "execution_count": 127,
   "id": "8cb28cb5-9fb8-4180-9352-6a1b55d3ddc3",
   "metadata": {},
   "outputs": [
    {
     "name": "stdout",
     "output_type": "stream",
     "text": [
      "parent methode has been called\n"
     ]
    }
   ],
   "source": [
    "x.par()"
   ]
  },
  {
   "cell_type": "code",
   "execution_count": 128,
   "id": "3c6c5451-2e54-4ed4-b343-3d888c0b49d6",
   "metadata": {},
   "outputs": [
    {
     "name": "stdout",
     "output_type": "stream",
     "text": [
      "child methode has been called\n"
     ]
    }
   ],
   "source": [
    "x.child()"
   ]
  },
  {
   "cell_type": "code",
   "execution_count": 129,
   "id": "e935e5e0-893a-4666-b494-26e3ba0ab988",
   "metadata": {},
   "outputs": [],
   "source": [
    "y=parent()"
   ]
  },
  {
   "cell_type": "code",
   "execution_count": 130,
   "id": "b0dd7d98-a20e-40cd-9ca7-7701043dcb83",
   "metadata": {},
   "outputs": [
    {
     "name": "stdout",
     "output_type": "stream",
     "text": [
      "grand dunction has been called\n"
     ]
    }
   ],
   "source": [
    "y.grand1()"
   ]
  },
  {
   "cell_type": "code",
   "execution_count": 131,
   "id": "9750d76f-f9fd-46d6-b550-bafd6ba2c8fa",
   "metadata": {},
   "outputs": [
    {
     "name": "stdout",
     "output_type": "stream",
     "text": [
      "parent methode has been called\n"
     ]
    }
   ],
   "source": [
    "y.par()"
   ]
  },
  {
   "cell_type": "code",
   "execution_count": 132,
   "id": "8f058fa0-3941-454a-ac57-89f318d1436a",
   "metadata": {},
   "outputs": [
    {
     "ename": "AttributeError",
     "evalue": "'parent' object has no attribute 'child'",
     "output_type": "error",
     "traceback": [
      "\u001b[1;31m---------------------------------------------------------------------------\u001b[0m",
      "\u001b[1;31mAttributeError\u001b[0m                            Traceback (most recent call last)",
      "Cell \u001b[1;32mIn[132], line 1\u001b[0m\n\u001b[1;32m----> 1\u001b[0m \u001b[43my\u001b[49m\u001b[38;5;241;43m.\u001b[39;49m\u001b[43mchild\u001b[49m()\n",
      "\u001b[1;31mAttributeError\u001b[0m: 'parent' object has no attribute 'child'"
     ]
    }
   ],
   "source": [
    "y.child()"
   ]
  },
  {
   "cell_type": "code",
   "execution_count": 143,
   "id": "f9b60a71-a885-4a20-bbef-f411cd91a339",
   "metadata": {},
   "outputs": [],
   "source": [
    "class parent(grand):\n",
    "    def __init__(self):                         #self is a reference to the object instance for which you are currently performing the application.\n",
    "        print(\"parent constercter has been called\")\n",
    "    def par(self):\n",
    "        print(\"parent methode has been called\")\n",
    "class children(parent):\n",
    "    def __init__(self):\n",
    "        super().__init__()                           # super allows you to access attributes (methods, members, etc) of an ancestor type.\n",
    "        print(\"child constercter has been called\")\n",
    "    def child(self):\n",
    "        print(\"child methode has been called\")"
   ]
  },
  {
   "cell_type": "code",
   "execution_count": 144,
   "id": "e5662311-74b7-4a7a-847f-facbe170876d",
   "metadata": {},
   "outputs": [
    {
     "name": "stdout",
     "output_type": "stream",
     "text": [
      "parent constercter has been called\n",
      "child constercter has been called\n"
     ]
    }
   ],
   "source": [
    "y=children()"
   ]
  },
  {
   "cell_type": "code",
   "execution_count": 145,
   "id": "b11dee9f-3de4-4d4a-adb2-de34ab15b1cf",
   "metadata": {},
   "outputs": [
    {
     "name": "stdout",
     "output_type": "stream",
     "text": [
      "parent constercter has been called\n",
      "child constercter has been called\n"
     ]
    }
   ],
   "source": [
    "y.__init__()"
   ]
  },
  {
   "cell_type": "code",
   "execution_count": 146,
   "id": "d1f057c9-7b3d-4a69-a260-6eda16a19667",
   "metadata": {},
   "outputs": [
    {
     "name": "stdout",
     "output_type": "stream",
     "text": [
      "parent methode has been called\n"
     ]
    }
   ],
   "source": [
    "y.par()"
   ]
  },
  {
   "cell_type": "code",
   "execution_count": 273,
   "id": "1a2ff75e-bfdb-4368-ba60-917b7861115a",
   "metadata": {},
   "outputs": [
    {
     "data": {
      "text/plain": [
       "\"class person:\\n    def __init__(self, firstname, lastname):\\n        self.firstname = firstname\\n        self.lastname = lastname\\n    def fullname(self):\\n        print(firstname, ' ', lastname)\\n    \\nclass student(person):\\n    def __init__(self, firstname, lastname, grade):\\n        self.grade = grade\\n        super().__init__(firstname, lastname) # calling base constructor\\n    def display_details():\\n        super().fullname() # calling base class method\\n        print('Grade ', self.grade)\\n        \\nstd = student('James', 'Bond', '10')\\nstd.display_details()\""
      ]
     },
     "execution_count": 273,
     "metadata": {},
     "output_type": "execute_result"
    }
   ],
   "source": [
    "'''class person:\n",
    "    def __init__(self, firstname, lastname):\n",
    "        self.firstname = firstname\n",
    "        self.lastname = lastname\n",
    "    def fullname(self):\n",
    "        print(firstname, ' ', lastname)\n",
    "    \n",
    "class student(person):\n",
    "    def __init__(self, firstname, lastname, grade):\n",
    "        self.grade = grade\n",
    "        super().__init__(firstname, lastname) # calling base constructor\n",
    "    def display_details():\n",
    "        super().fullname() # calling base class method\n",
    "        print('Grade ', self.grade)\n",
    "        \n",
    "std = student('James', 'Bond', '10')\n",
    "std.display_details()'''"
   ]
  },
  {
   "cell_type": "code",
   "execution_count": null,
   "id": "df92a622-75e1-4b2a-8046-db9b91c2effc",
   "metadata": {},
   "outputs": [],
   "source": []
  },
  {
   "cell_type": "code",
   "execution_count": 175,
   "id": "71ccbe69-ec76-4e1b-8a92-3900d31c430c",
   "metadata": {},
   "outputs": [],
   "source": [
    "#polymorphism in pyhton"
   ]
  },
  {
   "cell_type": "code",
   "execution_count": 182,
   "id": "8ebbb50e-ee96-4017-af60-56743395d1a9",
   "metadata": {},
   "outputs": [],
   "source": [
    "class bird:\n",
    "    def intro(self):\n",
    "        print(\"ther are many types of the birds\")\n",
    "    def flight(self):\n",
    "        print(\"most of the birds are fly and some cannot\")\n",
    "class sparrow(bird):\n",
    "    def flight(self):\n",
    "        print(\"sparrow can fly\")\n",
    "class ostrich(bird):\n",
    "    def flight(self):\n",
    "        print(\"ostrich cannot fly\")"
   ]
  },
  {
   "cell_type": "code",
   "execution_count": 183,
   "id": "9730a657-9ca8-470c-bf4e-b1f955c00604",
   "metadata": {},
   "outputs": [],
   "source": [
    "bird=bird()"
   ]
  },
  {
   "cell_type": "code",
   "execution_count": 184,
   "id": "8166585f-e7b0-4232-b592-893f0c5b35e6",
   "metadata": {},
   "outputs": [
    {
     "name": "stdout",
     "output_type": "stream",
     "text": [
      "ther are many types of the birds\n",
      "most of the birds are fly and some cannot\n"
     ]
    }
   ],
   "source": [
    "bird.intro()\n",
    "bird.flight()"
   ]
  },
  {
   "cell_type": "code",
   "execution_count": 185,
   "id": "5e89146a-f372-4575-b9eb-3678b9696abe",
   "metadata": {},
   "outputs": [],
   "source": [
    "spw=sparrow()"
   ]
  },
  {
   "cell_type": "code",
   "execution_count": 186,
   "id": "7fab321d-2637-4dec-a295-73f86e6f11c9",
   "metadata": {},
   "outputs": [
    {
     "name": "stdout",
     "output_type": "stream",
     "text": [
      "ther are many types of the birds\n",
      "sparrow can fly\n"
     ]
    }
   ],
   "source": [
    "spw.intro()\n",
    "spw.flight()"
   ]
  },
  {
   "cell_type": "code",
   "execution_count": 187,
   "id": "b4eb9b12-d868-41f7-b50e-27d346f35b7d",
   "metadata": {},
   "outputs": [],
   "source": [
    "ost=ostrich()"
   ]
  },
  {
   "cell_type": "code",
   "execution_count": 188,
   "id": "79476f7d-d9b6-4e64-bb2a-c20fc1f7415c",
   "metadata": {},
   "outputs": [
    {
     "name": "stdout",
     "output_type": "stream",
     "text": [
      "ther are many types of the birds\n",
      "ostrich cannot fly\n"
     ]
    }
   ],
   "source": [
    "ost.intro()\n",
    "ost.flight()"
   ]
  },
  {
   "cell_type": "code",
   "execution_count": 200,
   "id": "63ac1a30-0871-4c98-b97c-41bd7ee9ff57",
   "metadata": {},
   "outputs": [],
   "source": [
    "class travling:\n",
    "    def __init__(self,place,duration,country):\n",
    "        self.place=place\n",
    "        self.duration=duration\n",
    "        self.country=country\n",
    "    def get_place(self):\n",
    "        print(f\"you are going to : {self.place}\")\n",
    "    def get_duration(self):\n",
    "        print(f\"your duration is the : {self.duration}\")\n",
    "    def get_country(self):\n",
    "        print(f\"you going in {self.country} country\")"
   ]
  },
  {
   "cell_type": "code",
   "execution_count": 201,
   "id": "3b773e9c-94ed-4f17-973f-4f7412c250b3",
   "metadata": {},
   "outputs": [],
   "source": [
    "x=travling(\"london\",200,\"UK\")\n",
    "y=travling(\"jaipur\",20,\"india\")\n"
   ]
  },
  {
   "cell_type": "code",
   "execution_count": 202,
   "id": "e2cd5629-52d7-410e-b52c-b55525c16ce6",
   "metadata": {},
   "outputs": [
    {
     "name": "stdout",
     "output_type": "stream",
     "text": [
      "you are going to : london\n",
      "your duration is the : 200\n",
      "you going in UK country\n",
      "you are going to : jaipur\n",
      "your duration is the : 20\n",
      "you going in india country\n"
     ]
    }
   ],
   "source": [
    "z=[x,y]\n",
    "for i in range(len(z)):\n",
    "    z[i].get_place()\n",
    "    z[i].get_duration()\n",
    "    z[i].get_country()"
   ]
  },
  {
   "cell_type": "code",
   "execution_count": 205,
   "id": "8f4e2376-bbea-48c8-ae5b-618cf4ad94ad",
   "metadata": {},
   "outputs": [],
   "source": [
    "class India():\n",
    "\tdef capital(self):\n",
    "\t\tprint(\"New Delhi is the capital of India.\")\n",
    "\tdef language(self):\n",
    "\t\tprint(\"Hindi is the most widely spoken language of India.\")\n",
    "\tdef type(self):\n",
    "\t\tprint(\"India is a developing country.\")\n",
    "class USA():\n",
    "\tdef capital(self):\n",
    "\t\tprint(\"Washington, D.C. is the capital of USA.\")\n",
    "\tdef language(self):\n",
    "\t\tprint(\"English is the primary language of USA.\")\n",
    "\tdef type(self):\n",
    "\t\tprint(\"USA is a developed country.\")\n",
    "\n"
   ]
  },
  {
   "cell_type": "code",
   "execution_count": 206,
   "id": "f8b17816-4251-4b77-a842-ea4fd7e28190",
   "metadata": {},
   "outputs": [],
   "source": [
    "obj_ind = India()\n",
    "obj_usa = USA()"
   ]
  },
  {
   "cell_type": "code",
   "execution_count": 207,
   "id": "a7af01cd-14e9-4bc2-a8a3-0284bd4b232e",
   "metadata": {},
   "outputs": [
    {
     "name": "stdout",
     "output_type": "stream",
     "text": [
      "New Delhi is the capital of India.\n",
      "Hindi is the most widely spoken language of India.\n",
      "India is a developing country.\n",
      "Washington, D.C. is the capital of USA.\n",
      "English is the primary language of USA.\n",
      "USA is a developed country.\n"
     ]
    }
   ],
   "source": [
    "for country in (obj_ind, obj_usa):\n",
    "\tcountry.capital()\n",
    "\tcountry.language()\n",
    "\tcountry.type()\n"
   ]
  },
  {
   "cell_type": "code",
   "execution_count": 212,
   "id": "58dcee2e-fdd3-491e-8fee-6d9c94e8405c",
   "metadata": {},
   "outputs": [],
   "source": [
    "x=10"
   ]
  },
  {
   "cell_type": "code",
   "execution_count": 209,
   "id": "64fe3b1f-8ce3-4f93-8a1b-3911c4dec979",
   "metadata": {},
   "outputs": [],
   "source": [
    "_x=5"
   ]
  },
  {
   "cell_type": "code",
   "execution_count": 210,
   "id": "dbdab655-64a0-43ee-80b2-4ecaef9591d4",
   "metadata": {},
   "outputs": [
    {
     "data": {
      "text/plain": [
       "10"
      ]
     },
     "execution_count": 210,
     "metadata": {},
     "output_type": "execute_result"
    }
   ],
   "source": [
    "x"
   ]
  },
  {
   "cell_type": "code",
   "execution_count": 274,
   "id": "0630f0b9-3715-44c5-9201-a0d968a6ed93",
   "metadata": {},
   "outputs": [
    {
     "data": {
      "text/plain": [
       "5"
      ]
     },
     "execution_count": 274,
     "metadata": {},
     "output_type": "execute_result"
    }
   ],
   "source": [
    "#underscore importance\n",
    "\n",
    "\n",
    "_x"
   ]
  },
  {
   "cell_type": "code",
   "execution_count": 275,
   "id": "fb2c4c8a-c603-48ef-ac37-5c60ed518bbc",
   "metadata": {},
   "outputs": [
    {
     "data": {
      "text/plain": [
       "9"
      ]
     },
     "execution_count": 275,
     "metadata": {},
     "output_type": "execute_result"
    }
   ],
   "source": [
    "_"
   ]
  },
  {
   "cell_type": "code",
   "execution_count": 276,
   "id": "80db2c6e-2799-4e91-b545-ca04917441fc",
   "metadata": {},
   "outputs": [],
   "source": [
    "_a=3"
   ]
  },
  {
   "cell_type": "code",
   "execution_count": 277,
   "id": "f652bc56-d9d3-4b12-b5b8-18f8b8015405",
   "metadata": {},
   "outputs": [
    {
     "data": {
      "text/plain": [
       "9"
      ]
     },
     "execution_count": 277,
     "metadata": {},
     "output_type": "execute_result"
    }
   ],
   "source": [
    "_"
   ]
  },
  {
   "cell_type": "code",
   "execution_count": 278,
   "id": "94e66bcf-3981-4546-ad5d-ea42dc3fd6df",
   "metadata": {},
   "outputs": [
    {
     "data": {
      "text/plain": [
       "3"
      ]
     },
     "execution_count": 278,
     "metadata": {},
     "output_type": "execute_result"
    }
   ],
   "source": [
    "_a"
   ]
  },
  {
   "cell_type": "code",
   "execution_count": 279,
   "id": "759d21c2-b404-4278-badc-26cb7c44d733",
   "metadata": {},
   "outputs": [
    {
     "data": {
      "text/plain": [
       "9"
      ]
     },
     "execution_count": 279,
     "metadata": {},
     "output_type": "execute_result"
    }
   ],
   "source": [
    "_"
   ]
  },
  {
   "cell_type": "code",
   "execution_count": 280,
   "id": "7c070b2b-f68d-4fbb-bd95-74973adf3923",
   "metadata": {},
   "outputs": [
    {
     "name": "stdout",
     "output_type": "stream",
     "text": [
      "2+2\n"
     ]
    }
   ],
   "source": [
    "print(\"2+2\")"
   ]
  },
  {
   "cell_type": "code",
   "execution_count": 281,
   "id": "621c7153-ebcb-46b1-8926-e316d9ddc43f",
   "metadata": {},
   "outputs": [
    {
     "data": {
      "text/plain": [
       "9"
      ]
     },
     "execution_count": 281,
     "metadata": {},
     "output_type": "execute_result"
    }
   ],
   "source": [
    "_"
   ]
  },
  {
   "cell_type": "code",
   "execution_count": 282,
   "id": "d4873293-a498-4909-b663-d4a0353a7fa0",
   "metadata": {},
   "outputs": [
    {
     "name": "stdout",
     "output_type": "stream",
     "text": [
      "Test\n",
      "Test\n",
      "Test\n",
      "Test\n",
      "Test\n",
      "Test\n",
      "Test\n",
      "Test\n",
      "Test\n",
      "Test\n"
     ]
    }
   ],
   "source": [
    "# Ignore a value of specific location/index\n",
    "for _ in range(10):\n",
    "\tprint (\"Test\")\n",
    "\n"
   ]
  },
  {
   "cell_type": "code",
   "execution_count": 283,
   "id": "490fa723-c1eb-4e39-a82d-501a586c774b",
   "metadata": {},
   "outputs": [
    {
     "data": {
      "text/plain": [
       "'Python has theirs by default keywords which we can not use as the variable name.\\nTo avoid such conflict between python keyword and variable we use underscore after the name '"
      ]
     },
     "execution_count": 283,
     "metadata": {},
     "output_type": "execute_result"
    }
   ],
   "source": [
    "# Single Underscore after a name \n",
    "\"\"\"Python has theirs by default keywords which we can not use as the variable name.\n",
    "To avoid such conflict between python keyword and variable we use underscore after the name \"\"\"\n",
    "# pyhton keyword are converty in the var"
   ]
  },
  {
   "cell_type": "code",
   "execution_count": 284,
   "id": "8e762545-1788-4371-ad02-0aa678d80244",
   "metadata": {},
   "outputs": [
    {
     "name": "stdout",
     "output_type": "stream",
     "text": [
      "1\n",
      "<class '__main__.MyClass'>\n"
     ]
    }
   ],
   "source": [
    "class MyClass():\n",
    "\tdef __init__(self):\n",
    "\t\tprint(\"OWK\")\n",
    "def my_definition(var1=1, class_=MyClass):\n",
    "\tprint(var1)\n",
    "\tprint(class_)\n",
    "my_definition()\n"
   ]
  },
  {
   "cell_type": "code",
   "execution_count": 285,
   "id": "2e47df6f-c74d-40f1-9fc0-23b354e7c95b",
   "metadata": {},
   "outputs": [
    {
     "data": {
      "text/plain": [
       "'Leading Underscore before variable/function /method name indicates to the programmer that It is for internal use only, \\nthat can be modified whenever the class wants. '"
      ]
     },
     "execution_count": 285,
     "metadata": {},
     "output_type": "execute_result"
    }
   ],
   "source": [
    "# Single Underscore before a name\n",
    "\"\"\"Leading Underscore before variable/function /method name indicates to the programmer that It is for internal use only, \n",
    "that can be modified whenever the class wants. \"\"\"\n",
    "#If specify from Import * all the names starting with _ will not import."
   ]
  },
  {
   "cell_type": "code",
   "execution_count": 286,
   "id": "473c48cf-2e0a-4a02-841c-39bb455bc993",
   "metadata": {},
   "outputs": [
    {
     "name": "stdout",
     "output_type": "stream",
     "text": [
      "10\n",
      "12\n"
     ]
    }
   ],
   "source": [
    "class Prefix:\n",
    "\tdef __init__(self):\n",
    "\t\tself.public = 10\n",
    "\t\tself._private = 12\n",
    "test = Prefix()\n",
    "print(test.public)\n",
    "print(test._private)\n"
   ]
  },
  {
   "cell_type": "code",
   "execution_count": 287,
   "id": "05d0528c-24ad-4610-8f0a-e5a4ebdda015",
   "metadata": {},
   "outputs": [
    {
     "data": {
      "text/plain": [
       "'The Python syntax is utilized such that underscores can be used as visual separators for digit grouping reasons to boost readability. \\nThis is a typical feature of most current languages and can aid in the readability of long literals,\\nor literals whose value should clearly separated into portions.'"
      ]
     },
     "execution_count": 287,
     "metadata": {},
     "output_type": "execute_result"
    }
   ],
   "source": [
    "#Single underscore in numeric literals\n",
    "\"\"\"The Python syntax is utilized such that underscores can be used as visual separators for digit grouping reasons to boost readability. \n",
    "This is a typical feature of most current languages and can aid in the readability of long literals,\n",
    "or literals whose value should clearly separated into portions.\"\"\""
   ]
  },
  {
   "cell_type": "code",
   "execution_count": 288,
   "id": "d8b3a14d-6c39-4e53-b14d-8e3de06dcbaa",
   "metadata": {},
   "outputs": [],
   "source": [
    "# grouping decimal for easy readability of long literals\n",
    "amount = 10_000_000.0\n",
    " \n",
    "# grouping hexadecimal for easy readability of long literals\n",
    "addr = 0xCAFE_F00D\n",
    " \n",
    "# grouping bits  for easy readability of long literals\n",
    "flags = 0b_0011_1111_0100_1110"
   ]
  },
  {
   "cell_type": "code",
   "execution_count": 289,
   "id": "c055fb3e-6083-4bdf-be6a-3b3eb1e78f01",
   "metadata": {},
   "outputs": [
    {
     "data": {
      "text/plain": [
       "10000000.0"
      ]
     },
     "execution_count": 289,
     "metadata": {},
     "output_type": "execute_result"
    }
   ],
   "source": [
    "amount"
   ]
  },
  {
   "cell_type": "code",
   "execution_count": 290,
   "id": "9e6bfcea-6013-4ed3-84f1-c9e3030ee8a5",
   "metadata": {},
   "outputs": [
    {
     "data": {
      "text/plain": [
       "3405705229"
      ]
     },
     "execution_count": 290,
     "metadata": {},
     "output_type": "execute_result"
    }
   ],
   "source": [
    "addr"
   ]
  },
  {
   "cell_type": "code",
   "execution_count": 291,
   "id": "5669fbf3-fb0d-42d2-a0f6-428bb1bfbb8b",
   "metadata": {},
   "outputs": [
    {
     "data": {
      "text/plain": [
       "16206"
      ]
     },
     "execution_count": 291,
     "metadata": {},
     "output_type": "execute_result"
    }
   ],
   "source": [
    "flags"
   ]
  },
  {
   "cell_type": "code",
   "execution_count": 292,
   "id": "1247f460-3925-4e00-b21f-197c82c73457",
   "metadata": {},
   "outputs": [
    {
     "data": {
      "text/plain": [
       "'The leading double underscore tells the Python interpreter to rewrite the name in order to avoid conflict in a subclass.\\nInterpreter changes variable name with class extension and that feature known as the Mangling. '"
      ]
     },
     "execution_count": 292,
     "metadata": {},
     "output_type": "execute_result"
    }
   ],
   "source": [
    "# double underscore befor a name\n",
    "\"\"\"The leading double underscore tells the Python interpreter to rewrite the name in order to avoid conflict in a subclass.\n",
    "Interpreter changes variable name with class extension and that feature known as the Mangling. \"\"\"\n",
    "# the Python interpreter to rewrite the name in order to avoid conflict"
   ]
  },
  {
   "cell_type": "code",
   "execution_count": 293,
   "id": "da929bd2-6393-4932-af6d-6c859fa221d5",
   "metadata": {},
   "outputs": [],
   "source": [
    "class Myclass():\n",
    "\tdef __init__(self):\n",
    "\t\tself.__variable = 10\n",
    "\n",
    "\tdef func(self):\n",
    "         print(self.__variable)\n"
   ]
  },
  {
   "cell_type": "code",
   "execution_count": 294,
   "id": "990906dd-67f4-4b52-861b-db9aee3a1f38",
   "metadata": {},
   "outputs": [],
   "source": [
    "\n",
    "\n",
    "\n",
    "myc=Myclass()"
   ]
  },
  {
   "cell_type": "code",
   "execution_count": 295,
   "id": "11e03cf6-9cbb-4184-a81a-9fe786be1776",
   "metadata": {},
   "outputs": [
    {
     "name": "stdout",
     "output_type": "stream",
     "text": [
      "10\n"
     ]
    }
   ],
   "source": [
    "myc.func()"
   ]
  },
  {
   "cell_type": "code",
   "execution_count": 296,
   "id": "b1f5c42f-e80b-45f7-ae93-d899452959b3",
   "metadata": {},
   "outputs": [
    {
     "data": {
      "text/plain": [
       "'The name starts with __ and ends with the same considering special methods in Python.\\nPython provides these methods to use as the operator overloading depending on the user.'"
      ]
     },
     "execution_count": 296,
     "metadata": {},
     "output_type": "execute_result"
    }
   ],
   "source": [
    "#Double underscore before and after a name\n",
    "\"\"\"The name starts with __ and ends with the same considering special methods in Python.\n",
    "Python provides these methods to use as the operator overloading depending on the user.\"\"\"\n",
    "# Python provides this convention to differentiate between the user-defined function with the module’s function "
   ]
  },
  {
   "cell_type": "code",
   "execution_count": 297,
   "id": "96ed65cf-3ba6-4b6c-9791-72932dde16f9",
   "metadata": {},
   "outputs": [],
   "source": [
    "class Myclass():\n",
    "\tdef __add__(a,b):\n",
    "\t\tprint (a*b)\n",
    "obj=Myclass"
   ]
  },
  {
   "cell_type": "code",
   "execution_count": 298,
   "id": "ef9f6256-6afd-485f-8373-3ac9fc48346a",
   "metadata": {},
   "outputs": [
    {
     "name": "stdout",
     "output_type": "stream",
     "text": [
      "12\n"
     ]
    }
   ],
   "source": [
    "obj.__add__(4,3)"
   ]
  },
  {
   "cell_type": "code",
   "execution_count": 299,
   "id": "d0537b42-b539-433d-8504-b860d906713b",
   "metadata": {},
   "outputs": [
    {
     "name": "stdout",
     "output_type": "stream",
     "text": [
      "40\n"
     ]
    }
   ],
   "source": [
    "obj.__add__(8,5)"
   ]
  },
  {
   "cell_type": "code",
   "execution_count": null,
   "id": "6726707e-215c-47b6-9e0b-2bdb54da8898",
   "metadata": {},
   "outputs": [],
   "source": []
  },
  {
   "cell_type": "code",
   "execution_count": null,
   "id": "32edf3c8-7dfd-45d3-a7bb-f5c34ea9f59e",
   "metadata": {},
   "outputs": [],
   "source": []
  },
  {
   "cell_type": "code",
   "execution_count": null,
   "id": "b459b15d-45f7-461a-8f53-1bcf0b5cf67d",
   "metadata": {},
   "outputs": [],
   "source": []
  },
  {
   "cell_type": "code",
   "execution_count": null,
   "id": "72f105aa-191b-498d-ab02-af6bc2ee29af",
   "metadata": {},
   "outputs": [],
   "source": []
  }
 ],
 "metadata": {
  "kernelspec": {
   "display_name": "Python 3 (ipykernel)",
   "language": "python",
   "name": "python3"
  },
  "language_info": {
   "codemirror_mode": {
    "name": "ipython",
    "version": 3
   },
   "file_extension": ".py",
   "mimetype": "text/x-python",
   "name": "python",
   "nbconvert_exporter": "python",
   "pygments_lexer": "ipython3",
   "version": "3.11.4"
  }
 },
 "nbformat": 4,
 "nbformat_minor": 5
}
