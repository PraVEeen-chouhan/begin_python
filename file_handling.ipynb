{
 "cells": [
  {
   "cell_type": "code",
   "execution_count": 1,
   "id": "fb89f552-6672-4ca9-9d83-c8d9e05032fb",
   "metadata": {},
   "outputs": [],
   "source": [
    "#file Handling"
   ]
  },
  {
   "cell_type": "code",
   "execution_count": 2,
   "id": "07ad7e6c-f4f8-4e31-824d-f9e40f5b280e",
   "metadata": {},
   "outputs": [
    {
     "data": {
      "text/plain": [
       "'open(filename,filemode)'"
      ]
     },
     "execution_count": 2,
     "metadata": {},
     "output_type": "execute_result"
    }
   ],
   "source": [
    "'''open(filename,filemode)'''"
   ]
  },
  {
   "cell_type": "code",
   "execution_count": null,
   "id": "2e7ab4e1-9cad-43cc-8bd1-81d33df3e132",
   "metadata": {},
   "outputs": [],
   "source": [
    "print(\"Mode\tDescription\"\n",
    "'r\tOpen a file for reading. (default)'\n",
    "'w\tOpen a file for writing. Creates a new file if it does not exist or truncates the file if it exists.'\n",
    "'x\tOpen a file for exclusive creation. If the file already exists, the operation fails.'\n",
    "'a\tOpen a file for appending at the end of the file without truncating it. Creates a new file if it does not exist.'\n",
    "'t\tOpen in text mode. (default)'\n",
    "'b\tOpen in binary mode.'\n",
    "\"+\tOpen a file for updating (reading and writing)\")"
   ]
  },
  {
   "cell_type": "code",
   "execution_count": 18,
   "id": "b689c02b-4f08-411e-a854-69ef0a68e304",
   "metadata": {},
   "outputs": [],
   "source": [
    "a=open(\"p1.txt\",\"r\")"
   ]
  },
  {
   "cell_type": "code",
   "execution_count": 20,
   "id": "4c59a90a-8037-40a9-b8f2-fa70a071d366",
   "metadata": {},
   "outputs": [
    {
     "data": {
      "text/plain": [
       "''"
      ]
     },
     "execution_count": 20,
     "metadata": {},
     "output_type": "execute_result"
    }
   ],
   "source": [
    "a.read()"
   ]
  },
  {
   "cell_type": "code",
   "execution_count": 21,
   "id": "a852075a-7c1d-4b7d-9d6a-f4c847594d4b",
   "metadata": {},
   "outputs": [],
   "source": [
    "a=open(\"p1.txt\",\"w\")"
   ]
  },
  {
   "cell_type": "code",
   "execution_count": 22,
   "id": "614f08c8-0e46-4f2b-8c97-25184e6ba51e",
   "metadata": {},
   "outputs": [
    {
     "data": {
      "text/plain": [
       "32"
      ]
     },
     "execution_count": 22,
     "metadata": {},
     "output_type": "execute_result"
    }
   ],
   "source": [
    "a.write(\"hey everyone I'm praveen chouhan\")"
   ]
  },
  {
   "cell_type": "code",
   "execution_count": 24,
   "id": "74158f34-27dc-424a-9375-c8a18808f491",
   "metadata": {},
   "outputs": [
    {
     "data": {
      "text/plain": [
       "\"hey everyone I'm praveen chouhan\""
      ]
     },
     "execution_count": 24,
     "metadata": {},
     "output_type": "execute_result"
    }
   ],
   "source": [
    "a=open(\"p1.txt\",\"r\")\n",
    "a.read()"
   ]
  },
  {
   "cell_type": "code",
   "execution_count": 25,
   "id": "61b17674-24dc-45da-8fff-60f23250c8b0",
   "metadata": {},
   "outputs": [],
   "source": [
    "a.close()"
   ]
  },
  {
   "cell_type": "code",
   "execution_count": 34,
   "id": "ac3843f8-f040-4384-a72d-9a4332f5f9bb",
   "metadata": {},
   "outputs": [],
   "source": [
    "a=open(r\"p2.txt\",\"x\")"
   ]
  },
  {
   "cell_type": "code",
   "execution_count": 35,
   "id": "9670579a-5202-4cb3-9faf-a5e9287d11c6",
   "metadata": {},
   "outputs": [
    {
     "data": {
      "text/plain": [
       "32"
      ]
     },
     "execution_count": 35,
     "metadata": {},
     "output_type": "execute_result"
    }
   ],
   "source": [
    "a.write(\"hii everyone I'm praveen chouhan\")"
   ]
  },
  {
   "cell_type": "code",
   "execution_count": 37,
   "id": "6bea35aa-049f-4c46-9e26-20680a89e68f",
   "metadata": {},
   "outputs": [],
   "source": [
    "a=open(\"p2.txt\",\"w\")"
   ]
  },
  {
   "cell_type": "code",
   "execution_count": 38,
   "id": "0312fa96-49a1-4468-a295-b52c83d590d0",
   "metadata": {},
   "outputs": [
    {
     "data": {
      "text/plain": [
       "29"
      ]
     },
     "execution_count": 38,
     "metadata": {},
     "output_type": "execute_result"
    }
   ],
   "source": [
    "a.write(\"hii everyone its my secod txt\")"
   ]
  },
  {
   "cell_type": "code",
   "execution_count": 39,
   "id": "b793ed92-8b9b-49c0-a48e-eb38a715348f",
   "metadata": {},
   "outputs": [
    {
     "ename": "UnsupportedOperation",
     "evalue": "not readable",
     "output_type": "error",
     "traceback": [
      "\u001b[1;31m---------------------------------------------------------------------------\u001b[0m",
      "\u001b[1;31mUnsupportedOperation\u001b[0m                      Traceback (most recent call last)",
      "Cell \u001b[1;32mIn[39], line 1\u001b[0m\n\u001b[1;32m----> 1\u001b[0m \u001b[43ma\u001b[49m\u001b[38;5;241;43m.\u001b[39;49m\u001b[43mread\u001b[49m\u001b[43m(\u001b[49m\u001b[43m)\u001b[49m\n",
      "\u001b[1;31mUnsupportedOperation\u001b[0m: not readable"
     ]
    }
   ],
   "source": [
    "a.read()"
   ]
  },
  {
   "cell_type": "code",
   "execution_count": 40,
   "id": "38cd964c-1854-4511-8d0c-594fe9905fcf",
   "metadata": {},
   "outputs": [],
   "source": [
    "a.close()"
   ]
  },
  {
   "cell_type": "code",
   "execution_count": 41,
   "id": "8dd65a56-2de3-44cf-b617-2ca9149fc8a8",
   "metadata": {},
   "outputs": [],
   "source": [
    "a=open(\"p2.txt\",\"r\")"
   ]
  },
  {
   "cell_type": "code",
   "execution_count": 42,
   "id": "44c53e82-41db-4997-8685-15b89eb96594",
   "metadata": {},
   "outputs": [
    {
     "data": {
      "text/plain": [
       "'hii everyone its my secod txthan'"
      ]
     },
     "execution_count": 42,
     "metadata": {},
     "output_type": "execute_result"
    }
   ],
   "source": [
    "a.read()"
   ]
  },
  {
   "cell_type": "code",
   "execution_count": 43,
   "id": "1abe4fd5-9dd0-448f-af38-c612bc3c1d19",
   "metadata": {},
   "outputs": [],
   "source": [
    "a=open(\"p3.txt\",\"x\")"
   ]
  },
  {
   "cell_type": "code",
   "execution_count": 44,
   "id": "0a8ad35d-9d60-440d-83b2-8f66c32c5818",
   "metadata": {},
   "outputs": [
    {
     "data": {
      "text/plain": [
       "28"
      ]
     },
     "execution_count": 44,
     "metadata": {},
     "output_type": "execute_result"
    }
   ],
   "source": [
    "a.write(\"new txt for check the x mode\")"
   ]
  },
  {
   "cell_type": "code",
   "execution_count": 45,
   "id": "e79f72a2-c6f8-4434-aa8d-60e73f64c3af",
   "metadata": {},
   "outputs": [],
   "source": [
    "a.close()"
   ]
  },
  {
   "cell_type": "code",
   "execution_count": 47,
   "id": "96b6ee08-910e-453c-9395-67f8d6226721",
   "metadata": {},
   "outputs": [],
   "source": [
    "a=open(\"p3.txt\",\"r\")"
   ]
  },
  {
   "cell_type": "code",
   "execution_count": 48,
   "id": "5c18713f-8cdb-4fc2-ab74-64ff5fd88cae",
   "metadata": {},
   "outputs": [
    {
     "data": {
      "text/plain": [
       "'new txt for check the x mode'"
      ]
     },
     "execution_count": 48,
     "metadata": {},
     "output_type": "execute_result"
    }
   ],
   "source": [
    "a.read()"
   ]
  },
  {
   "cell_type": "code",
   "execution_count": 49,
   "id": "29db5d58-d3db-412c-88df-51845d76356f",
   "metadata": {},
   "outputs": [],
   "source": [
    "a.close()"
   ]
  },
  {
   "cell_type": "code",
   "execution_count": 50,
   "id": "a5256e99-8a98-462a-a112-b9022a41f3a8",
   "metadata": {},
   "outputs": [
    {
     "ename": "ValueError",
     "evalue": "I/O operation on closed file.",
     "output_type": "error",
     "traceback": [
      "\u001b[1;31m---------------------------------------------------------------------------\u001b[0m",
      "\u001b[1;31mValueError\u001b[0m                                Traceback (most recent call last)",
      "Cell \u001b[1;32mIn[50], line 1\u001b[0m\n\u001b[1;32m----> 1\u001b[0m \u001b[43ma\u001b[49m\u001b[38;5;241;43m.\u001b[39;49m\u001b[43mread\u001b[49m\u001b[43m(\u001b[49m\u001b[43m)\u001b[49m\n",
      "\u001b[1;31mValueError\u001b[0m: I/O operation on closed file."
     ]
    }
   ],
   "source": [
    "a.read()"
   ]
  },
  {
   "cell_type": "code",
   "execution_count": 51,
   "id": "f182b069-38c4-42da-a28b-43548ed7ad5d",
   "metadata": {},
   "outputs": [
    {
     "data": {
      "text/plain": [
       "'new txt for check th'"
      ]
     },
     "execution_count": 51,
     "metadata": {},
     "output_type": "execute_result"
    }
   ],
   "source": [
    "a=open(\"p3.txt\",\"r\")\n",
    "a.readline(20)\n"
   ]
  },
  {
   "cell_type": "code",
   "execution_count": 52,
   "id": "f71d08b7-ff7b-4487-bc32-7fe8ea958e31",
   "metadata": {},
   "outputs": [
    {
     "data": {
      "text/plain": [
       "'e x mode'"
      ]
     },
     "execution_count": 52,
     "metadata": {},
     "output_type": "execute_result"
    }
   ],
   "source": [
    "a.read(20)"
   ]
  },
  {
   "cell_type": "code",
   "execution_count": 53,
   "id": "b7f57b01-69b9-453d-9e1f-ebd56d8c6130",
   "metadata": {},
   "outputs": [],
   "source": [
    "a=open(\"p3.txt\",\"w\")"
   ]
  },
  {
   "cell_type": "code",
   "execution_count": 54,
   "id": "6f1580c6-a780-45d4-b6df-ffbb9a14fd34",
   "metadata": {},
   "outputs": [
    {
     "data": {
      "text/plain": [
       "27"
      ]
     },
     "execution_count": 54,
     "metadata": {},
     "output_type": "execute_result"
    }
   ],
   "source": [
    "a.write(\"hii my self praveen chouhan\")"
   ]
  },
  {
   "cell_type": "code",
   "execution_count": 55,
   "id": "0b67c358-f4e1-479e-ab22-aa4beec8464d",
   "metadata": {},
   "outputs": [
    {
     "data": {
      "text/plain": [
       "34"
      ]
     },
     "execution_count": 55,
     "metadata": {},
     "output_type": "execute_result"
    }
   ],
   "source": [
    "a.write(\"my brothers name is keshav chouhan\")"
   ]
  },
  {
   "cell_type": "code",
   "execution_count": 56,
   "id": "bf72e087-3a2b-44f4-8a3c-327ff4cd6ec6",
   "metadata": {},
   "outputs": [],
   "source": [
    "a.close()"
   ]
  },
  {
   "cell_type": "code",
   "execution_count": 65,
   "id": "5415fb69-d4c7-428f-9e21-b7a923af2d2f",
   "metadata": {},
   "outputs": [],
   "source": [
    "a=open(\"p3.txt\",\"r\")"
   ]
  },
  {
   "cell_type": "code",
   "execution_count": 66,
   "id": "17557902-c00c-4cef-8189-4b58b199409f",
   "metadata": {},
   "outputs": [
    {
     "data": {
      "text/plain": [
       "'hii my self praveen chouhanmy brothers name is keshav chouhan'"
      ]
     },
     "execution_count": 66,
     "metadata": {},
     "output_type": "execute_result"
    }
   ],
   "source": [
    "a.readline()"
   ]
  },
  {
   "cell_type": "code",
   "execution_count": 67,
   "id": "2edb254c-d31d-4e68-aa7c-84a41bfc1d71",
   "metadata": {},
   "outputs": [
    {
     "data": {
      "text/plain": [
       "[]"
      ]
     },
     "execution_count": 67,
     "metadata": {},
     "output_type": "execute_result"
    }
   ],
   "source": [
    "a.readlines()"
   ]
  },
  {
   "cell_type": "code",
   "execution_count": 68,
   "id": "2e35fec8-6d61-4596-8c7a-c2383ccbbe37",
   "metadata": {},
   "outputs": [],
   "source": [
    "a.close()"
   ]
  },
  {
   "cell_type": "code",
   "execution_count": 69,
   "id": "f375824a-9134-4deb-9268-8c45515b203c",
   "metadata": {},
   "outputs": [
    {
     "data": {
      "text/plain": [
       "['hii my self praveen chouhanmy brothers name is keshav chouhan']"
      ]
     },
     "execution_count": 69,
     "metadata": {},
     "output_type": "execute_result"
    }
   ],
   "source": [
    "a=open(\"p3.txt\",\"r\")\n",
    "a.readlines()"
   ]
  },
  {
   "cell_type": "code",
   "execution_count": 71,
   "id": "3c8a46ea-1208-43e5-9511-83420acdfce2",
   "metadata": {},
   "outputs": [],
   "source": [
    "a.close()"
   ]
  },
  {
   "cell_type": "code",
   "execution_count": 72,
   "id": "17a98ca1-7e0a-4742-bafe-d2f9b4626bb2",
   "metadata": {},
   "outputs": [
    {
     "data": {
      "text/plain": [
       "'hii my self praveen chouhanmy brothers name is keshav chouhan'"
      ]
     },
     "execution_count": 72,
     "metadata": {},
     "output_type": "execute_result"
    }
   ],
   "source": [
    "a=open(\"p3.txt\",\"r\")\n",
    "a.readline()"
   ]
  },
  {
   "cell_type": "code",
   "execution_count": 73,
   "id": "c2d1b3a5-00fa-42ae-95fc-99074dbe2724",
   "metadata": {},
   "outputs": [],
   "source": [
    "a.close()"
   ]
  },
  {
   "cell_type": "code",
   "execution_count": 74,
   "id": "b976371b-efbf-4ecf-9f2c-9a0bbf8d800a",
   "metadata": {},
   "outputs": [],
   "source": [
    "a=open(\"p3.txt\",\"w\")"
   ]
  },
  {
   "cell_type": "code",
   "execution_count": 75,
   "id": "6e7638e7-3a06-4788-89d5-51f72d29e2b5",
   "metadata": {},
   "outputs": [
    {
     "data": {
      "text/plain": [
       "65"
      ]
     },
     "execution_count": 75,
     "metadata": {},
     "output_type": "execute_result"
    }
   ],
   "source": [
    "a.write(\"hii I belongs to rawatbhata\\nwhich is famous by neclure poer plant\")"
   ]
  },
  {
   "cell_type": "code",
   "execution_count": 76,
   "id": "888dec12-c2ef-4f5b-8e61-839f08610ac0",
   "metadata": {},
   "outputs": [
    {
     "data": {
      "text/plain": [
       "15"
      ]
     },
     "execution_count": 76,
     "metadata": {},
     "output_type": "execute_result"
    }
   ],
   "source": [
    "a.write(\"praveen chouhan\")"
   ]
  },
  {
   "cell_type": "code",
   "execution_count": 77,
   "id": "abb9bbfa-6846-4035-920b-b2f7dbc87c08",
   "metadata": {},
   "outputs": [],
   "source": [
    "a.close()"
   ]
  },
  {
   "cell_type": "code",
   "execution_count": 78,
   "id": "20f3a2d7-4d9f-40c2-85fc-cb3560cf4ce3",
   "metadata": {},
   "outputs": [],
   "source": [
    "a=open(\"p3.txt\",\"r\")"
   ]
  },
  {
   "cell_type": "code",
   "execution_count": 79,
   "id": "45b53c66-f999-4a16-8f38-623412f3eb26",
   "metadata": {},
   "outputs": [
    {
     "data": {
      "text/plain": [
       "'hii I belongs to rawatbhata\\nwhich is famous by neclure poer plantpraveen chouhan'"
      ]
     },
     "execution_count": 79,
     "metadata": {},
     "output_type": "execute_result"
    }
   ],
   "source": [
    "a.read()"
   ]
  },
  {
   "cell_type": "code",
   "execution_count": 80,
   "id": "cc6fb9d5-4e58-4fff-b62b-bb4640cc2c15",
   "metadata": {},
   "outputs": [
    {
     "data": {
      "text/plain": [
       "''"
      ]
     },
     "execution_count": 80,
     "metadata": {},
     "output_type": "execute_result"
    }
   ],
   "source": [
    "a.readline()"
   ]
  },
  {
   "cell_type": "code",
   "execution_count": 81,
   "id": "529dae44-582a-4ae0-b308-c10c6bfee3aa",
   "metadata": {},
   "outputs": [],
   "source": [
    "a.close()"
   ]
  },
  {
   "cell_type": "code",
   "execution_count": 82,
   "id": "3a11ff55-45c8-494c-93d7-acd6e4139154",
   "metadata": {},
   "outputs": [],
   "source": [
    "a=open(\"p3.txt\",\"r\")"
   ]
  },
  {
   "cell_type": "code",
   "execution_count": 83,
   "id": "46d8d329-4373-4569-8c64-acc27ac2024d",
   "metadata": {},
   "outputs": [
    {
     "data": {
      "text/plain": [
       "['hii I belongs to rawatbhata\\n',\n",
       " 'which is famous by neclure poer plantpraveen chouhan']"
      ]
     },
     "execution_count": 83,
     "metadata": {},
     "output_type": "execute_result"
    }
   ],
   "source": [
    "a.readlines()"
   ]
  },
  {
   "cell_type": "code",
   "execution_count": 86,
   "id": "2b12d855-7444-4da0-96ed-799c8b250d8d",
   "metadata": {},
   "outputs": [],
   "source": [
    "a=open(\"p3.txt\",\"+w\")"
   ]
  },
  {
   "cell_type": "code",
   "execution_count": 87,
   "id": "b880cb0d-2fde-435e-ae69-dac80598bb64",
   "metadata": {},
   "outputs": [
    {
     "data": {
      "text/plain": [
       "15"
      ]
     },
     "execution_count": 87,
     "metadata": {},
     "output_type": "execute_result"
    }
   ],
   "source": [
    "a.write(\"hii how are you\")"
   ]
  },
  {
   "cell_type": "code",
   "execution_count": 88,
   "id": "8b78198a-1245-41fb-9fea-6137e8858928",
   "metadata": {},
   "outputs": [
    {
     "data": {
      "text/plain": [
       "''"
      ]
     },
     "execution_count": 88,
     "metadata": {},
     "output_type": "execute_result"
    }
   ],
   "source": [
    "a.read()"
   ]
  },
  {
   "cell_type": "code",
   "execution_count": 90,
   "id": "4279ea09-7984-4231-8feb-a69cf6f5ed68",
   "metadata": {},
   "outputs": [],
   "source": [
    "a=open(\"p3.txt\",\"+r\")"
   ]
  },
  {
   "cell_type": "code",
   "execution_count": 91,
   "id": "04e7f752-6864-4729-b6ef-5a0b930cab09",
   "metadata": {},
   "outputs": [
    {
     "data": {
      "text/plain": [
       "'hii how are you'"
      ]
     },
     "execution_count": 91,
     "metadata": {},
     "output_type": "execute_result"
    }
   ],
   "source": [
    "a.read()"
   ]
  },
  {
   "cell_type": "code",
   "execution_count": 92,
   "id": "d5eb3fba-db55-4c98-b119-8d7d2c88f709",
   "metadata": {},
   "outputs": [
    {
     "data": {
      "text/plain": [
       "''"
      ]
     },
     "execution_count": 92,
     "metadata": {},
     "output_type": "execute_result"
    }
   ],
   "source": [
    "a.readline()"
   ]
  },
  {
   "cell_type": "code",
   "execution_count": 93,
   "id": "3a6cff6f-2025-4ed5-a51d-698cb943c15f",
   "metadata": {},
   "outputs": [],
   "source": [
    "a.close()"
   ]
  },
  {
   "cell_type": "code",
   "execution_count": 94,
   "id": "d65c7692-7d19-4a5d-8ea9-c34c2a2fc7ad",
   "metadata": {},
   "outputs": [],
   "source": [
    "a=open(\"p3.txt\",\"r\")"
   ]
  },
  {
   "cell_type": "code",
   "execution_count": 95,
   "id": "1c7125b6-b3b4-4028-b347-bcff1622f47e",
   "metadata": {},
   "outputs": [
    {
     "data": {
      "text/plain": [
       "['hii how are you']"
      ]
     },
     "execution_count": 95,
     "metadata": {},
     "output_type": "execute_result"
    }
   ],
   "source": [
    "a.readlines()"
   ]
  },
  {
   "cell_type": "code",
   "execution_count": 109,
   "id": "2a6ce911-3308-413f-9aa9-06b4b91d9af4",
   "metadata": {},
   "outputs": [],
   "source": [
    "a=open(\"p3.txt\",\"a\")"
   ]
  },
  {
   "cell_type": "code",
   "execution_count": 111,
   "id": "2f4618b4-5534-46fb-b20f-73a6fd9ff653",
   "metadata": {},
   "outputs": [
    {
     "data": {
      "text/plain": [
       "14"
      ]
     },
     "execution_count": 111,
     "metadata": {},
     "output_type": "execute_result"
    }
   ],
   "source": [
    "a.write(\"keshav chouhan\")"
   ]
  },
  {
   "cell_type": "code",
   "execution_count": 112,
   "id": "fbbb0a45-fcda-44c5-8817-52005ad902d5",
   "metadata": {},
   "outputs": [
    {
     "ename": "UnsupportedOperation",
     "evalue": "not readable",
     "output_type": "error",
     "traceback": [
      "\u001b[1;31m---------------------------------------------------------------------------\u001b[0m",
      "\u001b[1;31mUnsupportedOperation\u001b[0m                      Traceback (most recent call last)",
      "Cell \u001b[1;32mIn[112], line 1\u001b[0m\n\u001b[1;32m----> 1\u001b[0m \u001b[43ma\u001b[49m\u001b[38;5;241;43m.\u001b[39;49m\u001b[43mread\u001b[49m\u001b[43m(\u001b[49m\u001b[43m)\u001b[49m\n",
      "\u001b[1;31mUnsupportedOperation\u001b[0m: not readable"
     ]
    }
   ],
   "source": [
    "a.read()"
   ]
  },
  {
   "cell_type": "code",
   "execution_count": 113,
   "id": "7ca56c02-d673-4bd2-92df-26ec2cca0acc",
   "metadata": {},
   "outputs": [],
   "source": [
    "a=open(\"p3.txt\",\"r\")"
   ]
  },
  {
   "cell_type": "code",
   "execution_count": 114,
   "id": "705e5155-5719-4b98-a624-0b6049772123",
   "metadata": {},
   "outputs": [
    {
     "data": {
      "text/plain": [
       "'hii how are youkeshav chouhan\\nkeshav chouhankeshav chouhan'"
      ]
     },
     "execution_count": 114,
     "metadata": {},
     "output_type": "execute_result"
    }
   ],
   "source": [
    "a.read()"
   ]
  },
  {
   "cell_type": "code",
   "execution_count": 116,
   "id": "feec6296-10ef-42da-861a-19a0356c9ee6",
   "metadata": {},
   "outputs": [],
   "source": [
    "a=open(r\"starpattern.ipynb\")"
   ]
  },
  {
   "cell_type": "code",
   "execution_count": 117,
   "id": "52fd52d1-8642-4907-b0a3-630faab8f3fc",
   "metadata": {},
   "outputs": [
    {
     "name": "stdout",
     "output_type": "stream",
     "text": [
      "line no.1 : {\n",
      "line no.2 :  \"cells\": [\n",
      "line no.3 :   {\n",
      "line no.4 :    \"cell_type\": \"code\",\n",
      "line no.5 :    \"execution_count\": 2,\n",
      "line no.6 :    \"id\": \"08933d04-ebf2-464d-960d-76254d4d28a7\",\n",
      "line no.7 :    \"metadata\": {},\n",
      "line no.8 :    \"outputs\": [\n",
      "line no.9 :     {\n",
      "line no.10 :      \"name\": \"stdin\",\n",
      "line no.11 :      \"output_type\": \"stream\",\n",
      "line no.12 :      \"text\": [\n",
      "line no.13 :       \"enter the no. of row: 5\\n\"\n",
      "line no.14 :      ]\n",
      "line no.15 :     },\n",
      "line no.16 :     {\n",
      "line no.17 :      \"name\": \"stdout\",\n",
      "line no.18 :      \"output_type\": \"stream\",\n",
      "line no.19 :      \"text\": [\n",
      "line no.20 :       \"    * \\n\",\n",
      "line no.21 :       \"   * * \\n\",\n",
      "line no.22 :       \"  * * * \\n\",\n",
      "line no.23 :       \" * * * * \\n\",\n",
      "line no.24 :       \"* * * * * \\n\"\n",
      "line no.25 :      ]\n",
      "line no.26 :     }\n",
      "line no.27 :    ],\n",
      "line no.28 :    \"source\": [\n",
      "line no.29 :     \"row=int(input(\\\"enter the no. of row:\\\"))\\n\",\n",
      "line no.30 :     \"for i in range(row):\\n\",\n",
      "line no.31 :     \"    print(\\\" \\\"*(row-i-1)+\\\"* \\\"*(i+1))\"\n",
      "line no.32 :    ]\n",
      "line no.33 :   },\n",
      "line no.34 :   {\n",
      "line no.35 :    \"cell_type\": \"code\",\n",
      "line no.36 :    \"execution_count\": 3,\n",
      "line no.37 :    \"id\": \"3692621d-2694-4bc5-8fb2-a6a43350730f\",\n",
      "line no.38 :    \"metadata\": {},\n",
      "line no.39 :    \"outputs\": [\n",
      "line no.40 :     {\n",
      "line no.41 :      \"name\": \"stdin\",\n",
      "line no.42 :      \"output_type\": \"stream\",\n",
      "line no.43 :      \"text\": [\n",
      "line no.44 :       \"enter the no. of row: 5\\n\"\n",
      "line no.45 :      ]\n",
      "line no.46 :     },\n",
      "line no.47 :     {\n",
      "line no.48 :      \"name\": \"stdout\",\n",
      "line no.49 :      \"output_type\": \"stream\",\n",
      "line no.50 :      \"text\": [\n",
      "line no.51 :       \"* * * * * \\n\",\n",
      "line no.52 :       \" * * * * \\n\",\n",
      "line no.53 :       \"  * * * \\n\",\n",
      "line no.54 :       \"   * * \\n\",\n",
      "line no.55 :       \"    * \\n\"\n",
      "line no.56 :      ]\n",
      "line no.57 :     }\n",
      "line no.58 :    ],\n",
      "line no.59 :    \"source\": [\n",
      "line no.60 :     \"row=int(input(\\\"enter the no. of row:\\\"))\\n\",\n",
      "line no.61 :     \"for i in range(row,0,-1):\\n\",\n",
      "line no.62 :     \"    print(\\\" \\\"*(row-i)+\\\"* \\\"*(i))\\n\"\n",
      "line no.63 :    ]\n",
      "line no.64 :   },\n",
      "line no.65 :   {\n",
      "line no.66 :    \"cell_type\": \"code\",\n",
      "line no.67 :    \"execution_count\": 5,\n",
      "line no.68 :    \"id\": \"908aba26-84bd-40c4-9ef9-7092bc18c225\",\n",
      "line no.69 :    \"metadata\": {},\n",
      "line no.70 :    \"outputs\": [\n",
      "line no.71 :     {\n",
      "line no.72 :      \"name\": \"stdin\",\n",
      "line no.73 :      \"output_type\": \"stream\",\n",
      "line no.74 :      \"text\": [\n",
      "line no.75 :       \"enter the no. of row: 5\\n\"\n",
      "line no.76 :      ]\n",
      "line no.77 :     },\n",
      "line no.78 :     {\n",
      "line no.79 :      \"name\": \"stdout\",\n",
      "line no.80 :      \"output_type\": \"stream\",\n",
      "line no.81 :      \"text\": [\n",
      "line no.82 :       \"*\\n\",\n",
      "line no.83 :       \"**\\n\",\n",
      "line no.84 :       \"***\\n\",\n",
      "line no.85 :       \"****\\n\",\n",
      "line no.86 :       \"*****\\n\"\n",
      "line no.87 :      ]\n",
      "line no.88 :     }\n",
      "line no.89 :    ],\n",
      "line no.90 :    \"source\": [\n",
      "line no.91 :     \"row=int(input(\\\"enter the no. of row:\\\"))\\n\",\n",
      "line no.92 :     \"for i in range(row):\\n\",\n",
      "line no.93 :     \"    print(\\\"*\\\"*(i+1))\\n\"\n",
      "line no.94 :    ]\n",
      "line no.95 :   },\n",
      "line no.96 :   {\n",
      "line no.97 :    \"cell_type\": \"code\",\n",
      "line no.98 :    \"execution_count\": 6,\n",
      "line no.99 :    \"id\": \"6836e5e7-83eb-420e-a1a8-142a96fa1850\",\n",
      "line no.100 :    \"metadata\": {},\n",
      "line no.101 :    \"outputs\": [\n",
      "line no.102 :     {\n",
      "line no.103 :      \"name\": \"stdin\",\n",
      "line no.104 :      \"output_type\": \"stream\",\n",
      "line no.105 :      \"text\": [\n",
      "line no.106 :       \"enter the no. of row: 5\\n\"\n",
      "line no.107 :      ]\n",
      "line no.108 :     },\n",
      "line no.109 :     {\n",
      "line no.110 :      \"name\": \"stdout\",\n",
      "line no.111 :      \"output_type\": \"stream\",\n",
      "line no.112 :      \"text\": [\n",
      "line no.113 :       \"*****\\n\",\n",
      "line no.114 :       \"****\\n\",\n",
      "line no.115 :       \"***\\n\",\n",
      "line no.116 :       \"**\\n\",\n",
      "line no.117 :       \"*\\n\"\n",
      "line no.118 :      ]\n",
      "line no.119 :     }\n",
      "line no.120 :    ],\n",
      "line no.121 :    \"source\": [\n",
      "line no.122 :     \"row=int(input(\\\"enter the no. of row:\\\"))\\n\",\n",
      "line no.123 :     \"for i in range(row,0,-1):\\n\",\n",
      "line no.124 :     \"    print(\\\"*\\\"*i)\\n\",\n",
      "line no.125 :     \"    \"\n",
      "line no.126 :    ]\n",
      "line no.127 :   },\n",
      "line no.128 :   {\n",
      "line no.129 :    \"cell_type\": \"code\",\n",
      "line no.130 :    \"execution_count\": 9,\n",
      "line no.131 :    \"id\": \"4828864b-79f9-4ef1-a713-2706c464b83f\",\n",
      "line no.132 :    \"metadata\": {},\n",
      "line no.133 :    \"outputs\": [\n",
      "line no.134 :     {\n",
      "line no.135 :      \"name\": \"stdin\",\n",
      "line no.136 :      \"output_type\": \"stream\",\n",
      "line no.137 :      \"text\": [\n",
      "line no.138 :       \"enter the no. of row: 5\\n\"\n",
      "line no.139 :      ]\n",
      "line no.140 :     },\n",
      "line no.141 :     {\n",
      "line no.142 :      \"name\": \"stdout\",\n",
      "line no.143 :      \"output_type\": \"stream\",\n",
      "line no.144 :      \"text\": [\n",
      "line no.145 :       \"*****\\n\",\n",
      "line no.146 :       \" ****\\n\",\n",
      "line no.147 :       \"  ***\\n\",\n",
      "line no.148 :       \"   **\\n\",\n",
      "line no.149 :       \"    *\\n\"\n",
      "line no.150 :      ]\n",
      "line no.151 :     }\n",
      "line no.152 :    ],\n",
      "line no.153 :    \"source\": [\n",
      "line no.154 :     \"row=int(input(\\\"enter the no. of row:\\\"))\\n\",\n",
      "line no.155 :     \"for i in range(row,0,-1):\\n\",\n",
      "line no.156 :     \"    print(\\\" \\\"*(row-i)+\\\"*\\\"*(i))\"\n",
      "line no.157 :    ]\n",
      "line no.158 :   },\n",
      "line no.159 :   {\n",
      "line no.160 :    \"cell_type\": \"code\",\n",
      "line no.161 :    \"execution_count\": 11,\n",
      "line no.162 :    \"id\": \"45cf4e7d-c66b-452a-ab88-d85dc08b3301\",\n",
      "line no.163 :    \"metadata\": {},\n",
      "line no.164 :    \"outputs\": [\n",
      "line no.165 :     {\n",
      "line no.166 :      \"name\": \"stdin\",\n",
      "line no.167 :      \"output_type\": \"stream\",\n",
      "line no.168 :      \"text\": [\n",
      "line no.169 :       \"enter the no. of row: 5\\n\"\n",
      "line no.170 :      ]\n",
      "line no.171 :     },\n",
      "line no.172 :     {\n",
      "line no.173 :      \"name\": \"stdout\",\n",
      "line no.174 :      \"output_type\": \"stream\",\n",
      "line no.175 :      \"text\": [\n",
      "line no.176 :       \"    *\\n\",\n",
      "line no.177 :       \"   **\\n\",\n",
      "line no.178 :       \"  ***\\n\",\n",
      "line no.179 :       \" ****\\n\",\n",
      "line no.180 :       \"*****\\n\"\n",
      "line no.181 :      ]\n",
      "line no.182 :     }\n",
      "line no.183 :    ],\n",
      "line no.184 :    \"source\": [\n",
      "line no.185 :     \"row=int(input(\\\"enter the no. of row:\\\"))\\n\",\n",
      "line no.186 :     \"for i in range(row):\\n\",\n",
      "line no.187 :     \"    print(\\\" \\\"*(row-i-1)+\\\"*\\\"*(i+1))\\n\",\n",
      "line no.188 :     \"    \"\n",
      "line no.189 :    ]\n",
      "line no.190 :   },\n",
      "line no.191 :   {\n",
      "line no.192 :    \"cell_type\": \"code\",\n",
      "line no.193 :    \"execution_count\": 12,\n",
      "line no.194 :    \"id\": \"c1ab7146-3875-4871-842a-065afc64ed5a\",\n",
      "line no.195 :    \"metadata\": {},\n",
      "line no.196 :    \"outputs\": [\n",
      "line no.197 :     {\n",
      "line no.198 :      \"name\": \"stdout\",\n",
      "line no.199 :      \"output_type\": \"stream\",\n",
      "line no.200 :      \"text\": [\n",
      "line no.201 :       \"         * \\n\",\n",
      "line no.202 :       \"        * * \\n\",\n",
      "line no.203 :       \"       * * * \\n\",\n",
      "line no.204 :       \"      * * * * \\n\",\n",
      "line no.205 :       \"     * * * * * \\n\",\n",
      "line no.206 :       \"    * * * * * * \\n\",\n",
      "line no.207 :       \"   * * * * * * * \\n\",\n",
      "line no.208 :       \"  * * * * * * * * \\n\",\n",
      "line no.209 :       \" * * * * * * * * * \\n\",\n",
      "line no.210 :       \"* * * * * * * * * * \\n\",\n",
      "line no.211 :       \" * * * * * * * * * \\n\",\n",
      "line no.212 :       \"  * * * * * * * * \\n\",\n",
      "line no.213 :       \"   * * * * * * * \\n\",\n",
      "line no.214 :       \"    * * * * * * \\n\",\n",
      "line no.215 :       \"     * * * * * \\n\",\n",
      "line no.216 :       \"      * * * * \\n\",\n",
      "line no.217 :       \"       * * * \\n\",\n",
      "line no.218 :       \"        * * \\n\",\n",
      "line no.219 :       \"         * \\n\"\n",
      "line no.220 :      ]\n",
      "line no.221 :     }\n",
      "line no.222 :    ],\n",
      "line no.223 :    \"source\": [\n",
      "line no.224 :     \"def pyramid(row):\\n\",\n",
      "line no.225 :     \"    for i in range(row):\\n\",\n",
      "line no.226 :     \"        print(\\\" \\\"*(row-i-1)+\\\"* \\\"*(i+1))\\n\",\n",
      "line no.227 :     \"    for i in range(row-1,0,-1):\\n\",\n",
      "line no.228 :     \"        print(\\\" \\\"*(row-i)+\\\"* \\\"*(i))\\n\",\n",
      "line no.229 :     \"pyramid(10)\"\n",
      "line no.230 :    ]\n",
      "line no.231 :   },\n",
      "line no.232 :   {\n",
      "line no.233 :    \"cell_type\": \"code\",\n",
      "line no.234 :    \"execution_count\": 13,\n",
      "line no.235 :    \"id\": \"53a1e8e8-8a78-457c-94ad-2e46403e2066\",\n",
      "line no.236 :    \"metadata\": {},\n",
      "line no.237 :    \"outputs\": [\n",
      "line no.238 :     {\n",
      "line no.239 :      \"name\": \"stdout\",\n",
      "line no.240 :      \"output_type\": \"stream\",\n",
      "line no.241 :      \"text\": [\n",
      "line no.242 :       \"12345\\n\",\n",
      "line no.243 :       \"1234\\n\",\n",
      "line no.244 :       \"123\\n\",\n",
      "line no.245 :       \"12\\n\",\n",
      "line no.246 :       \"1\\n\"\n",
      "line no.247 :      ]\n",
      "line no.248 :     }\n",
      "line no.249 :    ],\n",
      "line no.250 :    \"source\": [\n",
      "line no.251 :     \"for i in range(5):\\n\",\n",
      "line no.252 :     \"    for j in range(5-i):\\n\",\n",
      "line no.253 :     \"        print(j+1,end=\\\"\\\")\\n\",\n",
      "line no.254 :     \"    print()\\n\",\n",
      "line no.255 :     \"    \"\n",
      "line no.256 :    ]\n",
      "line no.257 :   },\n",
      "line no.258 :   {\n",
      "line no.259 :    \"cell_type\": \"code\",\n",
      "line no.260 :    \"execution_count\": null,\n",
      "line no.261 :    \"id\": \"28468b2d-15f4-4d5f-95af-4b2ceeaafc69\",\n",
      "line no.262 :    \"metadata\": {},\n",
      "line no.263 :    \"outputs\": [],\n",
      "line no.264 :    \"source\": []\n",
      "line no.265 :   }\n",
      "line no.266 :  ],\n",
      "line no.267 :  \"metadata\": {\n",
      "line no.268 :   \"kernelspec\": {\n",
      "line no.269 :    \"display_name\": \"Python 3 (ipykernel)\",\n",
      "line no.270 :    \"language\": \"python\",\n",
      "line no.271 :    \"name\": \"python3\"\n",
      "line no.272 :   },\n",
      "line no.273 :   \"language_info\": {\n",
      "line no.274 :    \"codemirror_mode\": {\n",
      "line no.275 :     \"name\": \"ipython\",\n",
      "line no.276 :     \"version\": 3\n",
      "line no.277 :    },\n",
      "line no.278 :    \"file_extension\": \".py\",\n",
      "line no.279 :    \"mimetype\": \"text/x-python\",\n",
      "line no.280 :    \"name\": \"python\",\n",
      "line no.281 :    \"nbconvert_exporter\": \"python\",\n",
      "line no.282 :    \"pygments_lexer\": \"ipython3\",\n",
      "line no.283 :    \"version\": \"3.11.4\"\n",
      "line no.284 :   }\n",
      "line no.285 :  },\n",
      "line no.286 :  \"nbformat\": 4,\n",
      "line no.287 :  \"nbformat_minor\": 5\n",
      "line no.288 : }\n"
     ]
    }
   ],
   "source": [
    "b=a.readlines()\n",
    "for i in range(len(b)):\n",
    "    print(f\"line no.{i+1} : {b[i]}\",end=\"\")"
   ]
  },
  {
   "cell_type": "code",
   "execution_count": 118,
   "id": "841e65f1-8f25-49b9-a7d3-a0132bdab631",
   "metadata": {},
   "outputs": [
    {
     "data": {
      "text/plain": [
       "288"
      ]
     },
     "execution_count": 118,
     "metadata": {},
     "output_type": "execute_result"
    }
   ],
   "source": [
    "len(b)"
   ]
  },
  {
   "cell_type": "code",
   "execution_count": 1,
   "id": "cb63ff12-4769-4651-b520-b6028c30b6c7",
   "metadata": {},
   "outputs": [],
   "source": [
    "a=open(\"p3.txt\",\"r\")"
   ]
  },
  {
   "cell_type": "code",
   "execution_count": null,
   "id": "741d029e-da3d-4e47-a1a3-46c415e9330e",
   "metadata": {},
   "outputs": [],
   "source": []
  }
 ],
 "metadata": {
  "kernelspec": {
   "display_name": "Python 3 (ipykernel)",
   "language": "python",
   "name": "python3"
  },
  "language_info": {
   "codemirror_mode": {
    "name": "ipython",
    "version": 3
   },
   "file_extension": ".py",
   "mimetype": "text/x-python",
   "name": "python",
   "nbconvert_exporter": "python",
   "pygments_lexer": "ipython3",
   "version": "3.11.4"
  }
 },
 "nbformat": 4,
 "nbformat_minor": 5
}
