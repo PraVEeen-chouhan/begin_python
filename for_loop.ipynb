{
 "cells": [
  {
   "cell_type": "code",
   "execution_count": 1,
   "id": "b0c78c65-c07b-4650-ac2a-aa20f35fb17d",
   "metadata": {},
   "outputs": [
    {
     "name": "stdin",
     "output_type": "stream",
     "text": [
      "enter your name : praveen\n"
     ]
    }
   ],
   "source": [
    "x=input(\"enter your name :\")"
   ]
  },
  {
   "cell_type": "code",
   "execution_count": 2,
   "id": "0db2cd28-54ba-4362-bb01-126d58119f9d",
   "metadata": {},
   "outputs": [
    {
     "data": {
      "text/plain": [
       "'r'"
      ]
     },
     "execution_count": 2,
     "metadata": {},
     "output_type": "execute_result"
    }
   ],
   "source": [
    "x[1]\n"
   ]
  },
  {
   "cell_type": "code",
   "execution_count": 3,
   "id": "005b7f0a-2e9c-43c0-b106-feb8d55240da",
   "metadata": {},
   "outputs": [
    {
     "name": "stdout",
     "output_type": "stream",
     "text": [
      "p\n",
      "r\n",
      "a\n",
      "v\n",
      "e\n",
      "e\n",
      "n\n"
     ]
    }
   ],
   "source": [
    "for i in x:\n",
    "    print(i)"
   ]
  },
  {
   "cell_type": "code",
   "execution_count": 4,
   "id": "a5aa5565-8c95-4e37-83eb-fae9c9e35423",
   "metadata": {},
   "outputs": [
    {
     "name": "stdout",
     "output_type": "stream",
     "text": [
      "0\n",
      "1\n",
      "2\n",
      "3\n",
      "4\n",
      "5\n",
      "6\n"
     ]
    }
   ],
   "source": [
    "for i in range(len(x)):\n",
    "    print(i)"
   ]
  },
  {
   "cell_type": "code",
   "execution_count": 5,
   "id": "82c0de24-6ff8-4c4d-9f9a-4d54f41b74fc",
   "metadata": {},
   "outputs": [
    {
     "name": "stdout",
     "output_type": "stream",
     "text": [
      "0 :- p\n",
      "1 :- r\n",
      "2 :- a\n",
      "3 :- v\n",
      "4 :- e\n",
      "5 :- e\n",
      "6 :- n\n"
     ]
    }
   ],
   "source": [
    "for i in range(len(x)):\n",
    "    print(i,\":-\",x[i])"
   ]
  },
  {
   "cell_type": "code",
   "execution_count": 6,
   "id": "19d7cba1-dc9e-4b6c-a20d-57392b9176a0",
   "metadata": {},
   "outputs": [
    {
     "name": "stdout",
     "output_type": "stream",
     "text": [
      "0\n",
      "2\n",
      "4\n",
      "6\n",
      "8\n",
      "10\n",
      "12\n",
      "14\n",
      "16\n",
      "18\n"
     ]
    }
   ],
   "source": [
    "for i in range(0,20,2):\n",
    "    if i==13:\n",
    "        break\n",
    "    print(i)"
   ]
  },
  {
   "cell_type": "code",
   "execution_count": 7,
   "id": "9bb115ea-6657-4a50-9825-fd7b7dd0413d",
   "metadata": {},
   "outputs": [
    {
     "name": "stdout",
     "output_type": "stream",
     "text": [
      "0\n",
      "2\n",
      "4\n",
      "6\n",
      "8\n",
      "10\n",
      "12\n",
      "14\n"
     ]
    }
   ],
   "source": [
    "for i in range(0,15,2):\n",
    "    if i==9:\n",
    "        break\n",
    "    print(i)"
   ]
  },
  {
   "cell_type": "code",
   "execution_count": 13,
   "id": "2b96c9e8-fc47-4b6c-b3f9-a41770530ede",
   "metadata": {},
   "outputs": [
    {
     "name": "stdin",
     "output_type": "stream",
     "text": [
      "enter your name : praveen,rahul,keshav\n"
     ]
    }
   ],
   "source": [
    "x=list[input(\"enter your name :\")]"
   ]
  },
  {
   "cell_type": "code",
   "execution_count": 14,
   "id": "fed9e1f0-0999-4cd1-b8ff-0ec23a8e60ba",
   "metadata": {},
   "outputs": [
    {
     "name": "stdout",
     "output_type": "stream",
     "text": [
      "*list['praveen,rahul,keshav']\n"
     ]
    }
   ],
   "source": [
    "for i in x:\n",
    "    print(i)"
   ]
  },
  {
   "cell_type": "code",
   "execution_count": 15,
   "id": "2e05deb8-36ef-4d6c-9be0-d400a3a092a7",
   "metadata": {},
   "outputs": [
    {
     "data": {
      "text/plain": [
       "list['praveen,rahul,keshav']"
      ]
     },
     "execution_count": 15,
     "metadata": {},
     "output_type": "execute_result"
    }
   ],
   "source": [
    "x"
   ]
  },
  {
   "cell_type": "code",
   "execution_count": 16,
   "id": "f76832a1-a129-46d2-8e63-8d62a90d1d4f",
   "metadata": {},
   "outputs": [
    {
     "ename": "TypeError",
     "evalue": "object of type 'types.GenericAlias' has no len()",
     "output_type": "error",
     "traceback": [
      "\u001b[1;31m---------------------------------------------------------------------------\u001b[0m",
      "\u001b[1;31mTypeError\u001b[0m                                 Traceback (most recent call last)",
      "Cell \u001b[1;32mIn[16], line 1\u001b[0m\n\u001b[1;32m----> 1\u001b[0m \u001b[38;5;28;43mlen\u001b[39;49m\u001b[43m(\u001b[49m\u001b[43mx\u001b[49m\u001b[43m)\u001b[49m  \n",
      "\u001b[1;31mTypeError\u001b[0m: object of type 'types.GenericAlias' has no len()"
     ]
    }
   ],
   "source": [
    "len(x)  "
   ]
  },
  {
   "cell_type": "code",
   "execution_count": 17,
   "id": "e823a85b-a0f3-4b61-90e8-39b34b926ff5",
   "metadata": {},
   "outputs": [
    {
     "data": {
      "text/plain": [
       "types.GenericAlias"
      ]
     },
     "execution_count": 17,
     "metadata": {},
     "output_type": "execute_result"
    }
   ],
   "source": [
    "type(x)"
   ]
  },
  {
   "cell_type": "code",
   "execution_count": 18,
   "id": "ff4dd984-0f4d-4983-9346-d0a91e58b182",
   "metadata": {},
   "outputs": [
    {
     "name": "stdin",
     "output_type": "stream",
     "text": [
      "enter your name : praveen chouhan\n"
     ]
    }
   ],
   "source": [
    "x=set(input(\"enter your name :\"))"
   ]
  },
  {
   "cell_type": "code",
   "execution_count": 19,
   "id": "2fb6cf5f-f439-4aab-beed-47ce96252086",
   "metadata": {},
   "outputs": [
    {
     "data": {
      "text/plain": [
       "{' ', 'a', 'c', 'e', 'h', 'n', 'o', 'p', 'r', 'u', 'v'}"
      ]
     },
     "execution_count": 19,
     "metadata": {},
     "output_type": "execute_result"
    }
   ],
   "source": [
    "x\n"
   ]
  },
  {
   "cell_type": "code",
   "execution_count": 20,
   "id": "9be299b6-f1b7-4a96-aa22-e39bd618424b",
   "metadata": {},
   "outputs": [
    {
     "name": "stdin",
     "output_type": "stream",
     "text": [
      "enter your name: praveen\n"
     ]
    },
    {
     "name": "stdout",
     "output_type": "stream",
     "text": [
      "p\n",
      "0\n",
      "1\n",
      "2\n",
      "3\n",
      "4\n",
      "5\n",
      "6\n",
      "r\n",
      "0\n",
      "1\n",
      "2\n",
      "3\n",
      "4\n",
      "5\n",
      "6\n",
      "a\n",
      "0\n",
      "1\n",
      "2\n",
      "3\n",
      "4\n",
      "5\n",
      "6\n",
      "v\n",
      "0\n",
      "1\n",
      "2\n",
      "3\n",
      "4\n",
      "5\n",
      "6\n",
      "e\n",
      "0\n",
      "1\n",
      "2\n",
      "3\n",
      "4\n",
      "5\n",
      "6\n",
      "e\n",
      "0\n",
      "1\n",
      "2\n",
      "3\n",
      "4\n",
      "5\n",
      "6\n",
      "n\n",
      "0\n",
      "1\n",
      "2\n",
      "3\n",
      "4\n",
      "5\n",
      "6\n"
     ]
    }
   ],
   "source": [
    "x=input(\"enter your name:\")\n",
    "for i in x:\n",
    "    print(i)\n",
    "    for j in range(len(x)):\n",
    "        print(j)"
   ]
  },
  {
   "cell_type": "code",
   "execution_count": 21,
   "id": "cbc7b5d9-3d84-4c21-81d3-3b1f5f1522d8",
   "metadata": {},
   "outputs": [
    {
     "name": "stdout",
     "output_type": "stream",
     "text": [
      "-1\n",
      "-3\n",
      "-5\n",
      "-7\n",
      "-9\n"
     ]
    }
   ],
   "source": [
    "for i in range(-1,-10,-2):     #step 1 is always exist \n",
    "    print(i)"
   ]
  },
  {
   "cell_type": "markdown",
   "id": "691a31b7-92f5-4190-a207-628067dc5e9d",
   "metadata": {},
   "source": [
    "x=int(input(\"how many no. u want:\"))\n",
    "names=[]\n",
    "for i in range(x):\n",
    "    print(i)\n",
    "    name=input(\"enter name:\")\n",
    "    if name==\"quit\":\n",
    "        print(\"loop has break this time\")\n",
    "        break\n",
    "    elif (name==\"rahul\" or name==\"nama\"):\n",
    "        continue\n",
    "    else:\n",
    "        names.append(name)\n",
    "print(names)\n",
    "        "
   ]
  },
  {
   "cell_type": "code",
   "execution_count": 24,
   "id": "c533ded0-84ef-41e1-8ce2-bec2fab83ee3",
   "metadata": {},
   "outputs": [
    {
     "name": "stdin",
     "output_type": "stream",
     "text": [
      "how many no. u want: 5\n",
      "enter name: praveen\\\n",
      "enter name: garvit\n",
      "enter name: nama\n",
      "enter name: rahul\n",
      "enter name: keshav\n"
     ]
    },
    {
     "name": "stdout",
     "output_type": "stream",
     "text": [
      "['praveen\\\\', 'garvit', 'keshav']\n"
     ]
    }
   ],
   "source": [
    "x=int(input(\"how many no. u want:\"))\n",
    "names=[]\n",
    "for i in range(x):\n",
    "    name=input(\"enter name:\")\n",
    "    if name==\"quit\":\n",
    "        print(\"loop has break this time\")\n",
    "        break\n",
    "    elif (name==\"rahul\" or name==\"nama\"):\n",
    "        continue\n",
    "    else:\n",
    "        names.append(name)\n",
    "print(names)"
   ]
  },
  {
   "cell_type": "code",
   "execution_count": 26,
   "id": "1e4bd4c0-2cc1-44c3-8840-589efdd38d3f",
   "metadata": {},
   "outputs": [],
   "source": [
    "\n",
    "##String methode"
   ]
  },
  {
   "cell_type": "code",
   "execution_count": 40,
   "id": "dd6361c0-9ac7-449e-89bd-8e0c5d140d2f",
   "metadata": {},
   "outputs": [],
   "source": [
    "x=\"                    python                   \""
   ]
  },
  {
   "cell_type": "code",
   "execution_count": 41,
   "id": "06f75e69-900b-4378-afc3-0d348a79095c",
   "metadata": {},
   "outputs": [
    {
     "data": {
      "text/plain": [
       "'                    python                   '"
      ]
     },
     "execution_count": 41,
     "metadata": {},
     "output_type": "execute_result"
    }
   ],
   "source": [
    "x"
   ]
  },
  {
   "cell_type": "code",
   "execution_count": 42,
   "id": "b3534bdf-556e-4ede-8b8c-b8a8e2f72103",
   "metadata": {},
   "outputs": [
    {
     "data": {
      "text/plain": [
       "'python                   '"
      ]
     },
     "execution_count": 42,
     "metadata": {},
     "output_type": "execute_result"
    }
   ],
   "source": [
    "x.lstrip()"
   ]
  },
  {
   "cell_type": "code",
   "execution_count": 43,
   "id": "30136b0c-42c9-40cb-80f9-dd8f37f8a638",
   "metadata": {},
   "outputs": [
    {
     "data": {
      "text/plain": [
       "'                    python'"
      ]
     },
     "execution_count": 43,
     "metadata": {},
     "output_type": "execute_result"
    }
   ],
   "source": [
    "x.rstrip()"
   ]
  },
  {
   "cell_type": "code",
   "execution_count": 44,
   "id": "f62717f0-83e1-4653-bcea-3c5e686943c8",
   "metadata": {},
   "outputs": [
    {
     "name": "stdout",
     "output_type": "stream",
     "text": [
      "praveen chouhan\n",
      "praveen chouhan\n"
     ]
    }
   ],
   "source": [
    "x=\"praveen chouhan\"\n",
    "\n",
    "print(x.lstrip())\n",
    "print(x.rstrip())"
   ]
  },
  {
   "cell_type": "code",
   "execution_count": 45,
   "id": "2ed71dcc-f3d6-4f1e-b3db-0be300459c14",
   "metadata": {},
   "outputs": [
    {
     "data": {
      "text/plain": [
       "'python'"
      ]
     },
     "execution_count": 45,
     "metadata": {},
     "output_type": "execute_result"
    }
   ],
   "source": [
    "x=\"python                         \"\n",
    "x.rstrip()"
   ]
  },
  {
   "cell_type": "code",
   "execution_count": 55,
   "id": "d484fd17-b733-48a6-90ff-7e7baa0a0662",
   "metadata": {},
   "outputs": [
    {
     "name": "stdin",
     "output_type": "stream",
     "text": [
      "enter ur name: 1.7\n"
     ]
    },
    {
     "name": "stdout",
     "output_type": "stream",
     "text": [
      "none of the above the parameter are matched\n"
     ]
    }
   ],
   "source": [
    "x=input(\"enter ur name:\")\n",
    "if x.isdigit():\n",
    "    print(\"value is x is digit:\" ,x)\n",
    "elif x.isalpha():\n",
    "    print(\"value us x is alphabets:\",x)\n",
    "elif x.isalnum():\n",
    "    print(\"value is x is a digit and alphabetes :\", x)\n",
    "elif x.isspace():\n",
    "    print(\"value of x is empty:\",x)\n",
    "else:\n",
    "    print(\"none of the above the parameter are matched\")"
   ]
  },
  {
   "cell_type": "code",
   "execution_count": 60,
   "id": "e680cd49-14b0-411a-8c0c-519d7710d4f8",
   "metadata": {},
   "outputs": [
    {
     "name": "stdin",
     "output_type": "stream",
     "text": [
      "enter ur string: PraVEEn\n"
     ]
    },
    {
     "name": "stdout",
     "output_type": "stream",
     "text": [
      "pRAveeN\n",
      "praveen\n",
      "PRAVEEN\n"
     ]
    }
   ],
   "source": [
    "x=input(\"enter ur string:\")\n",
    "print(x.swapcase())\n",
    "print(x.lower())\n",
    "print(x.upper())\n"
   ]
  },
  {
   "cell_type": "code",
   "execution_count": 61,
   "id": "0c8e0193-7773-41ff-8c67-d3dc5a78aab7",
   "metadata": {},
   "outputs": [
    {
     "data": {
      "text/plain": [
       "['p', 'r', 'a', 'v', 'e', 'e', 'n']"
      ]
     },
     "execution_count": 61,
     "metadata": {},
     "output_type": "execute_result"
    }
   ],
   "source": [
    "x=\"praveen\"\n",
    "list(x)"
   ]
  },
  {
   "cell_type": "code",
   "execution_count": 63,
   "id": "e4e6c9b8-b28f-4f48-a2af-73b848d7e952",
   "metadata": {},
   "outputs": [
    {
     "data": {
      "text/plain": [
       "6"
      ]
     },
     "execution_count": 63,
     "metadata": {},
     "output_type": "execute_result"
    }
   ],
   "source": [
    "x.find('n')"
   ]
  },
  {
   "cell_type": "code",
   "execution_count": 67,
   "id": "e00ee742-7a8f-4d0b-87cf-eb64796585d2",
   "metadata": {},
   "outputs": [
    {
     "data": {
      "text/plain": [
       "4"
      ]
     },
     "execution_count": 67,
     "metadata": {},
     "output_type": "execute_result"
    }
   ],
   "source": [
    "x.find(\"e\")"
   ]
  },
  {
   "cell_type": "code",
   "execution_count": 69,
   "id": "1565d93b-ccf7-441a-bdd2-e94bd4c346b0",
   "metadata": {},
   "outputs": [],
   "source": [
    "x={\"names\":[\"praveen\",\"mike\",\"jhon\"],\"coures\":[\"pyhton\",\"dsa\",\"my_sql\"]}"
   ]
  },
  {
   "cell_type": "code",
   "execution_count": 70,
   "id": "bb2dffd4-dc99-4269-9e26-8e6279595d65",
   "metadata": {},
   "outputs": [
    {
     "data": {
      "text/plain": [
       "{'names': ['praveen', 'mike', 'jhon'], 'coures': ['pyhton', 'dsa', 'my_sql']}"
      ]
     },
     "execution_count": 70,
     "metadata": {},
     "output_type": "execute_result"
    }
   ],
   "source": [
    "x"
   ]
  },
  {
   "cell_type": "code",
   "execution_count": 71,
   "id": "4520f4f0-d86f-49c3-95dc-4538e845e91b",
   "metadata": {},
   "outputs": [
    {
     "data": {
      "text/plain": [
       "dict"
      ]
     },
     "execution_count": 71,
     "metadata": {},
     "output_type": "execute_result"
    }
   ],
   "source": [
    "type(x)"
   ]
  },
  {
   "cell_type": "code",
   "execution_count": 74,
   "id": "5f881245-615b-422b-ab83-7f71567e0220",
   "metadata": {},
   "outputs": [],
   "source": [
    "x[\"mode\"]=[\"ofline\",\"online\"]    # for adding new element "
   ]
  },
  {
   "cell_type": "code",
   "execution_count": 75,
   "id": "1a4f478c-4125-47a6-b632-d5a92016505f",
   "metadata": {},
   "outputs": [
    {
     "data": {
      "text/plain": [
       "{'names': ['praveen', 'mike', 'jhon'],\n",
       " 'coures': ['pyhton', 'dsa', 'my_sql'],\n",
       " 'mode': ['ofline', 'online']}"
      ]
     },
     "execution_count": 75,
     "metadata": {},
     "output_type": "execute_result"
    }
   ],
   "source": [
    "x"
   ]
  },
  {
   "cell_type": "code",
   "execution_count": 76,
   "id": "81d897f8-a1ba-4e56-b89d-98f2a46e5675",
   "metadata": {},
   "outputs": [
    {
     "name": "stdout",
     "output_type": "stream",
     "text": [
      "0 0\n",
      "0 2\n",
      "0 4\n",
      "2 0\n",
      "2 2\n",
      "2 4\n",
      "4 0\n",
      "4 2\n",
      "4 4\n"
     ]
    }
   ],
   "source": [
    "#Nested for loop \n",
    "for i in range(0,5,2):\n",
    "    for j in range(0,5,2):\n",
    "        print(i,j)"
   ]
  },
  {
   "cell_type": "code",
   "execution_count": 77,
   "id": "caaad7bf-4a30-4ecd-acc3-912fbb9ac1f6",
   "metadata": {},
   "outputs": [
    {
     "name": "stdout",
     "output_type": "stream",
     "text": [
      "0 0\n",
      "0 2\n",
      "0 4\n",
      "1 0\n",
      "1 2\n",
      "1 4\n"
     ]
    }
   ],
   "source": [
    "for i in range(2):\n",
    "    for j in range(0,5,2):\n",
    "        print(i,j)"
   ]
  },
  {
   "cell_type": "code",
   "execution_count": 78,
   "id": "fa22357b-929d-4d29-b34d-36f202765274",
   "metadata": {},
   "outputs": [
    {
     "name": "stdout",
     "output_type": "stream",
     "text": [
      "the man\n",
      "      is perfect\n",
      "      super hero\n"
     ]
    }
   ],
   "source": [
    "print(\"\"\"the man\n",
    "      is perfect\n",
    "      super hero\"\"\")"
   ]
  },
  {
   "cell_type": "code",
   "execution_count": 79,
   "id": "e002acbb-e087-46b9-abaa-36f4bcf5aeee",
   "metadata": {},
   "outputs": [
    {
     "name": "stdout",
     "output_type": "stream",
     "text": [
      "it's me\n"
     ]
    }
   ],
   "source": [
    "print(\"it's me\")"
   ]
  },
  {
   "cell_type": "code",
   "execution_count": 83,
   "id": "277e7864-2b81-4626-88d1-a188dd0604c3",
   "metadata": {},
   "outputs": [
    {
     "name": "stdout",
     "output_type": "stream",
     "text": [
      "it's me\n"
     ]
    }
   ],
   "source": [
    "print('''it's me''')"
   ]
  },
  {
   "cell_type": "code",
   "execution_count": 84,
   "id": "acaf6116-b937-4f83-adc2-3e701bed2b39",
   "metadata": {},
   "outputs": [
    {
     "name": "stdout",
     "output_type": "stream",
     "text": [
      "hello/praveen\n"
     ]
    }
   ],
   "source": [
    "print(\"hello/praveen\")"
   ]
  },
  {
   "cell_type": "code",
   "execution_count": 87,
   "id": "a035816d-82b7-4d99-9620-0249d5541142",
   "metadata": {},
   "outputs": [
    {
     "name": "stdout",
     "output_type": "stream",
     "text": [
      "hello\tpraveen\n"
     ]
    }
   ],
   "source": [
    "print(\"hello\",end=\"\\t\")    #end= is used to add string\n",
    "print(\"praveen\")"
   ]
  },
  {
   "cell_type": "code",
   "execution_count": 109,
   "id": "2949a05e-aa3c-438b-9c46-b37300335efb",
   "metadata": {},
   "outputs": [
    {
     "name": "stdout",
     "output_type": "stream",
     "text": [
      " *** \n",
      "*   *\n",
      "*****\n",
      "*   *\n",
      "*   *\n"
     ]
    },
    {
     "name": "stderr",
     "output_type": "stream",
     "text": [
      "<>:3: SyntaxWarning: invalid decimal literal\n",
      "<>:3: SyntaxWarning: invalid decimal literal\n",
      "C:\\Users\\acer\\AppData\\Local\\Temp\\ipykernel_15756\\1550340202.py:3: SyntaxWarning: invalid decimal literal\n",
      "  if ((col==2 or col==1 or col==3) and row==0 ) or (col==0 and row!=0) or (col==4and row!=0) or row==2:\n"
     ]
    }
   ],
   "source": [
    "for row in range(5):\n",
    "    for col in range(5):\n",
    "        if ((col==2 or col==1 or col==3) and row==0 ) or (col==0 and row!=0) or (col==4and row!=0) or row==2:\n",
    "            print(\"*\",end=\"\")\n",
    "        else:\n",
    "            print(end=\" \")\n",
    "    print()"
   ]
  },
  {
   "cell_type": "code",
   "execution_count": 117,
   "id": "20b65de1-90ab-460b-9c63-a033bdb3d68b",
   "metadata": {},
   "outputs": [
    {
     "name": "stdout",
     "output_type": "stream",
     "text": [
      " *** \n",
      "*   *\n",
      "*****\n",
      "*   *\n",
      "*   *\n"
     ]
    },
    {
     "name": "stderr",
     "output_type": "stream",
     "text": [
      "<>:3: SyntaxWarning: invalid decimal literal\n",
      "<>:3: SyntaxWarning: invalid decimal literal\n",
      "C:\\Users\\acer\\AppData\\Local\\Temp\\ipykernel_15756\\1844080791.py:3: SyntaxWarning: invalid decimal literal\n",
      "  if (row==0 and (col>0 and col<4)) or (col==0 and row!=0) or (col==4and row!=0) or row==2:\n"
     ]
    }
   ],
   "source": [
    "for row in range(5):\n",
    "    for col in range(5):\n",
    "        if (row==0 and (col>0 and col<4)) or (col==0 and row!=0) or (col==4and row!=0) or row==2:\n",
    "            print(\"*\",end=\"\")\n",
    "        else:\n",
    "            print(end=\" \")\n",
    "    print()"
   ]
  },
  {
   "cell_type": "code",
   "execution_count": 139,
   "id": "b62af37a-fb9a-47ad-bf26-1bfe22592299",
   "metadata": {},
   "outputs": [
    {
     "name": "stdout",
     "output_type": "stream",
     "text": [
      "     \n",
      "*    \n",
      "**   \n",
      "***  \n",
      "**** \n"
     ]
    }
   ],
   "source": [
    "for i in range(5):\n",
    "    for j in range(5):\n",
    "        if (j<i):\n",
    "            print(\"*\",end=\"\")\n",
    "        else:\n",
    "            print(end=\" \")\n",
    "    print()\n"
   ]
  },
  {
   "cell_type": "code",
   "execution_count": 147,
   "id": "bdc075e7-83f1-4ec0-97d4-49c827875cea",
   "metadata": {},
   "outputs": [
    {
     "name": "stdout",
     "output_type": "stream",
     "text": [
      "\n",
      "*\n",
      "**\n",
      "***\n",
      "****\n"
     ]
    }
   ],
   "source": [
    "for i in range(5):\n",
    "    for j in range(1,1+i):\n",
    "        print(\"*\",end=\"\")\n",
    "    print()"
   ]
  },
  {
   "cell_type": "code",
   "execution_count": 16,
   "id": "3dbd1efa-870c-4bb0-ab2a-9dd04f311791",
   "metadata": {},
   "outputs": [
    {
     "name": "stdout",
     "output_type": "stream",
     "text": [
      "\n",
      "*\n",
      "**\n",
      "***\n",
      "****\n"
     ]
    }
   ],
   "source": [
    "for i in range(5):\n",
    "    print(\"*\"*(i))"
   ]
  },
  {
   "cell_type": "code",
   "execution_count": 15,
   "id": "c5d6137a-90b3-40af-929b-249c6b63081e",
   "metadata": {},
   "outputs": [
    {
     "name": "stdout",
     "output_type": "stream",
     "text": [
      "*****\n",
      " ****\n",
      "  ***\n",
      "   **\n",
      "    *\n"
     ]
    }
   ],
   "source": [
    "for i in range(5,0,-1):\n",
    "    print(\" \"*(5-i)+\"*\"*(i))"
   ]
  },
  {
   "cell_type": "code",
   "execution_count": 17,
   "id": "63d28972-ee6d-4e05-a046-b965270fe2ce",
   "metadata": {},
   "outputs": [
    {
     "name": "stdout",
     "output_type": "stream",
     "text": [
      "*****\n",
      "**** \n",
      "***  \n",
      "**   \n",
      "*    \n"
     ]
    }
   ],
   "source": [
    "for i in range(5):\n",
    "    print(\"*\"*(5-i)+\" \"*(i))"
   ]
  },
  {
   "cell_type": "code",
   "execution_count": 156,
   "id": "e3dc471c-3414-442b-b682-461249494612",
   "metadata": {},
   "outputs": [
    {
     "name": "stdout",
     "output_type": "stream",
     "text": [
      "*\n",
      "***\n",
      "*****\n",
      "*******\n",
      "*********\n"
     ]
    }
   ],
   "source": [
    "k=1\n",
    "for i in range(5):\n",
    "    for j in range(1,1+k):\n",
    "        print(\"*\",end=\"\")\n",
    "    k=k+2\n",
    "    print()"
   ]
  },
  {
   "cell_type": "code",
   "execution_count": 18,
   "id": "869e9d79-617b-4121-bb86-6db2302830e8",
   "metadata": {},
   "outputs": [
    {
     "name": "stdout",
     "output_type": "stream",
     "text": [
      "     \n",
      "    *\n",
      "   **\n",
      "  ***\n",
      " ****\n"
     ]
    }
   ],
   "source": [
    "for i in range(5):\n",
    "    print(\" \"*(5-i)+\"*\"*(i))"
   ]
  },
  {
   "cell_type": "code",
   "execution_count": 3,
   "id": "4e43d07c-432a-458f-a06e-3c491991bd27",
   "metadata": {},
   "outputs": [
    {
     "name": "stdin",
     "output_type": "stream",
     "text": [
      "enter the value of the row: 5\n"
     ]
    },
    {
     "name": "stdout",
     "output_type": "stream",
     "text": [
      "    * \n",
      "   * * \n",
      "  * * * \n",
      " * * * * \n",
      "* * * * * \n"
     ]
    }
   ],
   "source": [
    "n=int(input(\"enter the value of the row:\"))\n",
    "for i in range(0,n):\n",
    "    for j in range(0,n-i-1):   \n",
    "        print(end=\" \")\n",
    "    for j in range(0,i+1):\n",
    "        print(\"*\",end=\" \")\n",
    "    print()\n",
    "            \n",
    "          \n"
   ]
  },
  {
   "cell_type": "code",
   "execution_count": 4,
   "id": "4b638414-e3db-49ea-b790-d36e48164405",
   "metadata": {},
   "outputs": [
    {
     "name": "stdin",
     "output_type": "stream",
     "text": [
      "enter the row value: 10\n"
     ]
    },
    {
     "name": "stdout",
     "output_type": "stream",
     "text": [
      "* * * * * * * * * * \n",
      " * * * * * * * * * \n",
      "  * * * * * * * * \n",
      "   * * * * * * * \n",
      "    * * * * * * \n",
      "     * * * * * \n",
      "      * * * * \n",
      "       * * * \n",
      "        * * \n",
      "         * \n"
     ]
    }
   ],
   "source": [
    "num=int(input(\"enter the row value:\"))\n",
    "for i in range(num,0,-1):\n",
    "    for j in range(0,num-i):\n",
    "        print(end=\" \")\n",
    "    for j in range(0,i):\n",
    "        print(\"*\",end=\" \")\n",
    "    print()\n",
    "    \n",
    "    "
   ]
  },
  {
   "cell_type": "code",
   "execution_count": 8,
   "id": "c7d91988-3d04-4522-a5b8-929eb48070de",
   "metadata": {},
   "outputs": [
    {
     "name": "stdin",
     "output_type": "stream",
     "text": [
      "enter your row: 4\n"
     ]
    },
    {
     "name": "stdout",
     "output_type": "stream",
     "text": [
      "   * \n",
      "  * * \n",
      " * * * \n",
      "* * * * \n"
     ]
    }
   ],
   "source": [
    "row=int(input(\"enter your row:\"))\n",
    "for i in range(row):\n",
    "    print(\" \"*(row-i-1)+\"* \"*(i+1))"
   ]
  },
  {
   "cell_type": "code",
   "execution_count": 11,
   "id": "5153bcf6-9153-48d8-8f27-1f4acf030fdb",
   "metadata": {},
   "outputs": [
    {
     "name": "stdin",
     "output_type": "stream",
     "text": [
      "enter your row: 5\n"
     ]
    },
    {
     "name": "stdout",
     "output_type": "stream",
     "text": [
      "* * * * * \n",
      " * * * * \n",
      "  * * * \n",
      "   * * \n",
      "    * \n"
     ]
    }
   ],
   "source": [
    "row=int(input(\"enter your row:\"))\n",
    "for i in range(row,0,-1):\n",
    "    print(\" \"*(row-i)+\"* \"*(i))"
   ]
  },
  {
   "cell_type": "code",
   "execution_count": 12,
   "id": "60079713-6213-4483-be51-68adfb2f4eb5",
   "metadata": {},
   "outputs": [
    {
     "name": "stdin",
     "output_type": "stream",
     "text": [
      "enter the max star no. in row: 4\n"
     ]
    },
    {
     "name": "stdout",
     "output_type": "stream",
     "text": [
      "   * \n",
      "  * * \n",
      " * * * \n",
      "* * * * \n",
      " * * * \n",
      "  * * \n",
      "   * \n"
     ]
    }
   ],
   "source": [
    "#both are combine\n",
    "row=int(input(\"enter the max star no. in row:\"))\n",
    "for i in range(row):\n",
    "    print(\" \"*(row-i-1)+\"* \"*(i+1))\n",
    "for i in range(row-1,0,-1):\n",
    "    print(\" \"*(row-i)+\"* \"*(i))"
   ]
  },
  {
   "cell_type": "code",
   "execution_count": 67,
   "id": "8d0e4bb6-1e31-4a1e-8e16-69b3c5b51d62",
   "metadata": {},
   "outputs": [],
   "source": [
    "def pyramid(row):\n",
    "    for i in range(row):\n",
    "        print(\" \"*(row-i-1)+\"* \"*(i+1))\n",
    "    for i in range(row-1,0,-1):\n",
    "        print(\" \"*(row-i)+\"* \"*(i))\n",
    "    "
   ]
  },
  {
   "cell_type": "code",
   "execution_count": 68,
   "id": "bdb0b46a-8445-473d-b2b7-6758dbad0f4d",
   "metadata": {},
   "outputs": [
    {
     "name": "stdout",
     "output_type": "stream",
     "text": [
      "                                                                                                   * \n",
      "                                                                                                  * * \n",
      "                                                                                                 * * * \n",
      "                                                                                                * * * * \n",
      "                                                                                               * * * * * \n",
      "                                                                                              * * * * * * \n",
      "                                                                                             * * * * * * * \n",
      "                                                                                            * * * * * * * * \n",
      "                                                                                           * * * * * * * * * \n",
      "                                                                                          * * * * * * * * * * \n",
      "                                                                                         * * * * * * * * * * * \n",
      "                                                                                        * * * * * * * * * * * * \n",
      "                                                                                       * * * * * * * * * * * * * \n",
      "                                                                                      * * * * * * * * * * * * * * \n",
      "                                                                                     * * * * * * * * * * * * * * * \n",
      "                                                                                    * * * * * * * * * * * * * * * * \n",
      "                                                                                   * * * * * * * * * * * * * * * * * \n",
      "                                                                                  * * * * * * * * * * * * * * * * * * \n",
      "                                                                                 * * * * * * * * * * * * * * * * * * * \n",
      "                                                                                * * * * * * * * * * * * * * * * * * * * \n",
      "                                                                               * * * * * * * * * * * * * * * * * * * * * \n",
      "                                                                              * * * * * * * * * * * * * * * * * * * * * * \n",
      "                                                                             * * * * * * * * * * * * * * * * * * * * * * * \n",
      "                                                                            * * * * * * * * * * * * * * * * * * * * * * * * \n",
      "                                                                           * * * * * * * * * * * * * * * * * * * * * * * * * \n",
      "                                                                          * * * * * * * * * * * * * * * * * * * * * * * * * * \n",
      "                                                                         * * * * * * * * * * * * * * * * * * * * * * * * * * * \n",
      "                                                                        * * * * * * * * * * * * * * * * * * * * * * * * * * * * \n",
      "                                                                       * * * * * * * * * * * * * * * * * * * * * * * * * * * * * \n",
      "                                                                      * * * * * * * * * * * * * * * * * * * * * * * * * * * * * * \n",
      "                                                                     * * * * * * * * * * * * * * * * * * * * * * * * * * * * * * * \n",
      "                                                                    * * * * * * * * * * * * * * * * * * * * * * * * * * * * * * * * \n",
      "                                                                   * * * * * * * * * * * * * * * * * * * * * * * * * * * * * * * * * \n",
      "                                                                  * * * * * * * * * * * * * * * * * * * * * * * * * * * * * * * * * * \n",
      "                                                                 * * * * * * * * * * * * * * * * * * * * * * * * * * * * * * * * * * * \n",
      "                                                                * * * * * * * * * * * * * * * * * * * * * * * * * * * * * * * * * * * * \n",
      "                                                               * * * * * * * * * * * * * * * * * * * * * * * * * * * * * * * * * * * * * \n",
      "                                                              * * * * * * * * * * * * * * * * * * * * * * * * * * * * * * * * * * * * * * \n",
      "                                                             * * * * * * * * * * * * * * * * * * * * * * * * * * * * * * * * * * * * * * * \n",
      "                                                            * * * * * * * * * * * * * * * * * * * * * * * * * * * * * * * * * * * * * * * * \n",
      "                                                           * * * * * * * * * * * * * * * * * * * * * * * * * * * * * * * * * * * * * * * * * \n",
      "                                                          * * * * * * * * * * * * * * * * * * * * * * * * * * * * * * * * * * * * * * * * * * \n",
      "                                                         * * * * * * * * * * * * * * * * * * * * * * * * * * * * * * * * * * * * * * * * * * * \n",
      "                                                        * * * * * * * * * * * * * * * * * * * * * * * * * * * * * * * * * * * * * * * * * * * * \n",
      "                                                       * * * * * * * * * * * * * * * * * * * * * * * * * * * * * * * * * * * * * * * * * * * * * \n",
      "                                                      * * * * * * * * * * * * * * * * * * * * * * * * * * * * * * * * * * * * * * * * * * * * * * \n",
      "                                                     * * * * * * * * * * * * * * * * * * * * * * * * * * * * * * * * * * * * * * * * * * * * * * * \n",
      "                                                    * * * * * * * * * * * * * * * * * * * * * * * * * * * * * * * * * * * * * * * * * * * * * * * * \n",
      "                                                   * * * * * * * * * * * * * * * * * * * * * * * * * * * * * * * * * * * * * * * * * * * * * * * * * \n",
      "                                                  * * * * * * * * * * * * * * * * * * * * * * * * * * * * * * * * * * * * * * * * * * * * * * * * * * \n",
      "                                                 * * * * * * * * * * * * * * * * * * * * * * * * * * * * * * * * * * * * * * * * * * * * * * * * * * * \n",
      "                                                * * * * * * * * * * * * * * * * * * * * * * * * * * * * * * * * * * * * * * * * * * * * * * * * * * * * \n",
      "                                               * * * * * * * * * * * * * * * * * * * * * * * * * * * * * * * * * * * * * * * * * * * * * * * * * * * * * \n",
      "                                              * * * * * * * * * * * * * * * * * * * * * * * * * * * * * * * * * * * * * * * * * * * * * * * * * * * * * * \n",
      "                                             * * * * * * * * * * * * * * * * * * * * * * * * * * * * * * * * * * * * * * * * * * * * * * * * * * * * * * * \n",
      "                                            * * * * * * * * * * * * * * * * * * * * * * * * * * * * * * * * * * * * * * * * * * * * * * * * * * * * * * * * \n",
      "                                           * * * * * * * * * * * * * * * * * * * * * * * * * * * * * * * * * * * * * * * * * * * * * * * * * * * * * * * * * \n",
      "                                          * * * * * * * * * * * * * * * * * * * * * * * * * * * * * * * * * * * * * * * * * * * * * * * * * * * * * * * * * * \n",
      "                                         * * * * * * * * * * * * * * * * * * * * * * * * * * * * * * * * * * * * * * * * * * * * * * * * * * * * * * * * * * * \n",
      "                                        * * * * * * * * * * * * * * * * * * * * * * * * * * * * * * * * * * * * * * * * * * * * * * * * * * * * * * * * * * * * \n",
      "                                       * * * * * * * * * * * * * * * * * * * * * * * * * * * * * * * * * * * * * * * * * * * * * * * * * * * * * * * * * * * * * \n",
      "                                      * * * * * * * * * * * * * * * * * * * * * * * * * * * * * * * * * * * * * * * * * * * * * * * * * * * * * * * * * * * * * * \n",
      "                                     * * * * * * * * * * * * * * * * * * * * * * * * * * * * * * * * * * * * * * * * * * * * * * * * * * * * * * * * * * * * * * * \n",
      "                                    * * * * * * * * * * * * * * * * * * * * * * * * * * * * * * * * * * * * * * * * * * * * * * * * * * * * * * * * * * * * * * * * \n",
      "                                   * * * * * * * * * * * * * * * * * * * * * * * * * * * * * * * * * * * * * * * * * * * * * * * * * * * * * * * * * * * * * * * * * \n",
      "                                  * * * * * * * * * * * * * * * * * * * * * * * * * * * * * * * * * * * * * * * * * * * * * * * * * * * * * * * * * * * * * * * * * * \n",
      "                                 * * * * * * * * * * * * * * * * * * * * * * * * * * * * * * * * * * * * * * * * * * * * * * * * * * * * * * * * * * * * * * * * * * * \n",
      "                                * * * * * * * * * * * * * * * * * * * * * * * * * * * * * * * * * * * * * * * * * * * * * * * * * * * * * * * * * * * * * * * * * * * * \n",
      "                               * * * * * * * * * * * * * * * * * * * * * * * * * * * * * * * * * * * * * * * * * * * * * * * * * * * * * * * * * * * * * * * * * * * * * \n",
      "                              * * * * * * * * * * * * * * * * * * * * * * * * * * * * * * * * * * * * * * * * * * * * * * * * * * * * * * * * * * * * * * * * * * * * * * \n",
      "                             * * * * * * * * * * * * * * * * * * * * * * * * * * * * * * * * * * * * * * * * * * * * * * * * * * * * * * * * * * * * * * * * * * * * * * * \n",
      "                            * * * * * * * * * * * * * * * * * * * * * * * * * * * * * * * * * * * * * * * * * * * * * * * * * * * * * * * * * * * * * * * * * * * * * * * * \n",
      "                           * * * * * * * * * * * * * * * * * * * * * * * * * * * * * * * * * * * * * * * * * * * * * * * * * * * * * * * * * * * * * * * * * * * * * * * * * \n",
      "                          * * * * * * * * * * * * * * * * * * * * * * * * * * * * * * * * * * * * * * * * * * * * * * * * * * * * * * * * * * * * * * * * * * * * * * * * * * \n",
      "                         * * * * * * * * * * * * * * * * * * * * * * * * * * * * * * * * * * * * * * * * * * * * * * * * * * * * * * * * * * * * * * * * * * * * * * * * * * * \n",
      "                        * * * * * * * * * * * * * * * * * * * * * * * * * * * * * * * * * * * * * * * * * * * * * * * * * * * * * * * * * * * * * * * * * * * * * * * * * * * * \n",
      "                       * * * * * * * * * * * * * * * * * * * * * * * * * * * * * * * * * * * * * * * * * * * * * * * * * * * * * * * * * * * * * * * * * * * * * * * * * * * * * \n",
      "                      * * * * * * * * * * * * * * * * * * * * * * * * * * * * * * * * * * * * * * * * * * * * * * * * * * * * * * * * * * * * * * * * * * * * * * * * * * * * * * \n",
      "                     * * * * * * * * * * * * * * * * * * * * * * * * * * * * * * * * * * * * * * * * * * * * * * * * * * * * * * * * * * * * * * * * * * * * * * * * * * * * * * * \n",
      "                    * * * * * * * * * * * * * * * * * * * * * * * * * * * * * * * * * * * * * * * * * * * * * * * * * * * * * * * * * * * * * * * * * * * * * * * * * * * * * * * * \n",
      "                   * * * * * * * * * * * * * * * * * * * * * * * * * * * * * * * * * * * * * * * * * * * * * * * * * * * * * * * * * * * * * * * * * * * * * * * * * * * * * * * * * \n",
      "                  * * * * * * * * * * * * * * * * * * * * * * * * * * * * * * * * * * * * * * * * * * * * * * * * * * * * * * * * * * * * * * * * * * * * * * * * * * * * * * * * * * \n",
      "                 * * * * * * * * * * * * * * * * * * * * * * * * * * * * * * * * * * * * * * * * * * * * * * * * * * * * * * * * * * * * * * * * * * * * * * * * * * * * * * * * * * * \n",
      "                * * * * * * * * * * * * * * * * * * * * * * * * * * * * * * * * * * * * * * * * * * * * * * * * * * * * * * * * * * * * * * * * * * * * * * * * * * * * * * * * * * * * \n",
      "               * * * * * * * * * * * * * * * * * * * * * * * * * * * * * * * * * * * * * * * * * * * * * * * * * * * * * * * * * * * * * * * * * * * * * * * * * * * * * * * * * * * * * \n",
      "              * * * * * * * * * * * * * * * * * * * * * * * * * * * * * * * * * * * * * * * * * * * * * * * * * * * * * * * * * * * * * * * * * * * * * * * * * * * * * * * * * * * * * * \n",
      "             * * * * * * * * * * * * * * * * * * * * * * * * * * * * * * * * * * * * * * * * * * * * * * * * * * * * * * * * * * * * * * * * * * * * * * * * * * * * * * * * * * * * * * * \n",
      "            * * * * * * * * * * * * * * * * * * * * * * * * * * * * * * * * * * * * * * * * * * * * * * * * * * * * * * * * * * * * * * * * * * * * * * * * * * * * * * * * * * * * * * * * \n",
      "           * * * * * * * * * * * * * * * * * * * * * * * * * * * * * * * * * * * * * * * * * * * * * * * * * * * * * * * * * * * * * * * * * * * * * * * * * * * * * * * * * * * * * * * * * \n",
      "          * * * * * * * * * * * * * * * * * * * * * * * * * * * * * * * * * * * * * * * * * * * * * * * * * * * * * * * * * * * * * * * * * * * * * * * * * * * * * * * * * * * * * * * * * * \n",
      "         * * * * * * * * * * * * * * * * * * * * * * * * * * * * * * * * * * * * * * * * * * * * * * * * * * * * * * * * * * * * * * * * * * * * * * * * * * * * * * * * * * * * * * * * * * * \n",
      "        * * * * * * * * * * * * * * * * * * * * * * * * * * * * * * * * * * * * * * * * * * * * * * * * * * * * * * * * * * * * * * * * * * * * * * * * * * * * * * * * * * * * * * * * * * * * \n",
      "       * * * * * * * * * * * * * * * * * * * * * * * * * * * * * * * * * * * * * * * * * * * * * * * * * * * * * * * * * * * * * * * * * * * * * * * * * * * * * * * * * * * * * * * * * * * * * \n",
      "      * * * * * * * * * * * * * * * * * * * * * * * * * * * * * * * * * * * * * * * * * * * * * * * * * * * * * * * * * * * * * * * * * * * * * * * * * * * * * * * * * * * * * * * * * * * * * * \n",
      "     * * * * * * * * * * * * * * * * * * * * * * * * * * * * * * * * * * * * * * * * * * * * * * * * * * * * * * * * * * * * * * * * * * * * * * * * * * * * * * * * * * * * * * * * * * * * * * * \n",
      "    * * * * * * * * * * * * * * * * * * * * * * * * * * * * * * * * * * * * * * * * * * * * * * * * * * * * * * * * * * * * * * * * * * * * * * * * * * * * * * * * * * * * * * * * * * * * * * * * \n",
      "   * * * * * * * * * * * * * * * * * * * * * * * * * * * * * * * * * * * * * * * * * * * * * * * * * * * * * * * * * * * * * * * * * * * * * * * * * * * * * * * * * * * * * * * * * * * * * * * * * \n",
      "  * * * * * * * * * * * * * * * * * * * * * * * * * * * * * * * * * * * * * * * * * * * * * * * * * * * * * * * * * * * * * * * * * * * * * * * * * * * * * * * * * * * * * * * * * * * * * * * * * * \n",
      " * * * * * * * * * * * * * * * * * * * * * * * * * * * * * * * * * * * * * * * * * * * * * * * * * * * * * * * * * * * * * * * * * * * * * * * * * * * * * * * * * * * * * * * * * * * * * * * * * * * \n",
      "* * * * * * * * * * * * * * * * * * * * * * * * * * * * * * * * * * * * * * * * * * * * * * * * * * * * * * * * * * * * * * * * * * * * * * * * * * * * * * * * * * * * * * * * * * * * * * * * * * * * \n",
      " * * * * * * * * * * * * * * * * * * * * * * * * * * * * * * * * * * * * * * * * * * * * * * * * * * * * * * * * * * * * * * * * * * * * * * * * * * * * * * * * * * * * * * * * * * * * * * * * * * * \n",
      "  * * * * * * * * * * * * * * * * * * * * * * * * * * * * * * * * * * * * * * * * * * * * * * * * * * * * * * * * * * * * * * * * * * * * * * * * * * * * * * * * * * * * * * * * * * * * * * * * * * \n",
      "   * * * * * * * * * * * * * * * * * * * * * * * * * * * * * * * * * * * * * * * * * * * * * * * * * * * * * * * * * * * * * * * * * * * * * * * * * * * * * * * * * * * * * * * * * * * * * * * * * \n",
      "    * * * * * * * * * * * * * * * * * * * * * * * * * * * * * * * * * * * * * * * * * * * * * * * * * * * * * * * * * * * * * * * * * * * * * * * * * * * * * * * * * * * * * * * * * * * * * * * * \n",
      "     * * * * * * * * * * * * * * * * * * * * * * * * * * * * * * * * * * * * * * * * * * * * * * * * * * * * * * * * * * * * * * * * * * * * * * * * * * * * * * * * * * * * * * * * * * * * * * * \n",
      "      * * * * * * * * * * * * * * * * * * * * * * * * * * * * * * * * * * * * * * * * * * * * * * * * * * * * * * * * * * * * * * * * * * * * * * * * * * * * * * * * * * * * * * * * * * * * * * \n",
      "       * * * * * * * * * * * * * * * * * * * * * * * * * * * * * * * * * * * * * * * * * * * * * * * * * * * * * * * * * * * * * * * * * * * * * * * * * * * * * * * * * * * * * * * * * * * * * \n",
      "        * * * * * * * * * * * * * * * * * * * * * * * * * * * * * * * * * * * * * * * * * * * * * * * * * * * * * * * * * * * * * * * * * * * * * * * * * * * * * * * * * * * * * * * * * * * * \n",
      "         * * * * * * * * * * * * * * * * * * * * * * * * * * * * * * * * * * * * * * * * * * * * * * * * * * * * * * * * * * * * * * * * * * * * * * * * * * * * * * * * * * * * * * * * * * * \n",
      "          * * * * * * * * * * * * * * * * * * * * * * * * * * * * * * * * * * * * * * * * * * * * * * * * * * * * * * * * * * * * * * * * * * * * * * * * * * * * * * * * * * * * * * * * * * \n",
      "           * * * * * * * * * * * * * * * * * * * * * * * * * * * * * * * * * * * * * * * * * * * * * * * * * * * * * * * * * * * * * * * * * * * * * * * * * * * * * * * * * * * * * * * * * \n",
      "            * * * * * * * * * * * * * * * * * * * * * * * * * * * * * * * * * * * * * * * * * * * * * * * * * * * * * * * * * * * * * * * * * * * * * * * * * * * * * * * * * * * * * * * * \n",
      "             * * * * * * * * * * * * * * * * * * * * * * * * * * * * * * * * * * * * * * * * * * * * * * * * * * * * * * * * * * * * * * * * * * * * * * * * * * * * * * * * * * * * * * * \n",
      "              * * * * * * * * * * * * * * * * * * * * * * * * * * * * * * * * * * * * * * * * * * * * * * * * * * * * * * * * * * * * * * * * * * * * * * * * * * * * * * * * * * * * * * \n",
      "               * * * * * * * * * * * * * * * * * * * * * * * * * * * * * * * * * * * * * * * * * * * * * * * * * * * * * * * * * * * * * * * * * * * * * * * * * * * * * * * * * * * * * \n",
      "                * * * * * * * * * * * * * * * * * * * * * * * * * * * * * * * * * * * * * * * * * * * * * * * * * * * * * * * * * * * * * * * * * * * * * * * * * * * * * * * * * * * * \n",
      "                 * * * * * * * * * * * * * * * * * * * * * * * * * * * * * * * * * * * * * * * * * * * * * * * * * * * * * * * * * * * * * * * * * * * * * * * * * * * * * * * * * * * \n",
      "                  * * * * * * * * * * * * * * * * * * * * * * * * * * * * * * * * * * * * * * * * * * * * * * * * * * * * * * * * * * * * * * * * * * * * * * * * * * * * * * * * * * \n",
      "                   * * * * * * * * * * * * * * * * * * * * * * * * * * * * * * * * * * * * * * * * * * * * * * * * * * * * * * * * * * * * * * * * * * * * * * * * * * * * * * * * * \n",
      "                    * * * * * * * * * * * * * * * * * * * * * * * * * * * * * * * * * * * * * * * * * * * * * * * * * * * * * * * * * * * * * * * * * * * * * * * * * * * * * * * * \n",
      "                     * * * * * * * * * * * * * * * * * * * * * * * * * * * * * * * * * * * * * * * * * * * * * * * * * * * * * * * * * * * * * * * * * * * * * * * * * * * * * * * \n",
      "                      * * * * * * * * * * * * * * * * * * * * * * * * * * * * * * * * * * * * * * * * * * * * * * * * * * * * * * * * * * * * * * * * * * * * * * * * * * * * * * \n",
      "                       * * * * * * * * * * * * * * * * * * * * * * * * * * * * * * * * * * * * * * * * * * * * * * * * * * * * * * * * * * * * * * * * * * * * * * * * * * * * * \n",
      "                        * * * * * * * * * * * * * * * * * * * * * * * * * * * * * * * * * * * * * * * * * * * * * * * * * * * * * * * * * * * * * * * * * * * * * * * * * * * * \n",
      "                         * * * * * * * * * * * * * * * * * * * * * * * * * * * * * * * * * * * * * * * * * * * * * * * * * * * * * * * * * * * * * * * * * * * * * * * * * * * \n",
      "                          * * * * * * * * * * * * * * * * * * * * * * * * * * * * * * * * * * * * * * * * * * * * * * * * * * * * * * * * * * * * * * * * * * * * * * * * * * \n",
      "                           * * * * * * * * * * * * * * * * * * * * * * * * * * * * * * * * * * * * * * * * * * * * * * * * * * * * * * * * * * * * * * * * * * * * * * * * * \n",
      "                            * * * * * * * * * * * * * * * * * * * * * * * * * * * * * * * * * * * * * * * * * * * * * * * * * * * * * * * * * * * * * * * * * * * * * * * * \n",
      "                             * * * * * * * * * * * * * * * * * * * * * * * * * * * * * * * * * * * * * * * * * * * * * * * * * * * * * * * * * * * * * * * * * * * * * * * \n",
      "                              * * * * * * * * * * * * * * * * * * * * * * * * * * * * * * * * * * * * * * * * * * * * * * * * * * * * * * * * * * * * * * * * * * * * * * \n",
      "                               * * * * * * * * * * * * * * * * * * * * * * * * * * * * * * * * * * * * * * * * * * * * * * * * * * * * * * * * * * * * * * * * * * * * * \n",
      "                                * * * * * * * * * * * * * * * * * * * * * * * * * * * * * * * * * * * * * * * * * * * * * * * * * * * * * * * * * * * * * * * * * * * * \n",
      "                                 * * * * * * * * * * * * * * * * * * * * * * * * * * * * * * * * * * * * * * * * * * * * * * * * * * * * * * * * * * * * * * * * * * * \n",
      "                                  * * * * * * * * * * * * * * * * * * * * * * * * * * * * * * * * * * * * * * * * * * * * * * * * * * * * * * * * * * * * * * * * * * \n",
      "                                   * * * * * * * * * * * * * * * * * * * * * * * * * * * * * * * * * * * * * * * * * * * * * * * * * * * * * * * * * * * * * * * * * \n",
      "                                    * * * * * * * * * * * * * * * * * * * * * * * * * * * * * * * * * * * * * * * * * * * * * * * * * * * * * * * * * * * * * * * * \n",
      "                                     * * * * * * * * * * * * * * * * * * * * * * * * * * * * * * * * * * * * * * * * * * * * * * * * * * * * * * * * * * * * * * * \n",
      "                                      * * * * * * * * * * * * * * * * * * * * * * * * * * * * * * * * * * * * * * * * * * * * * * * * * * * * * * * * * * * * * * \n",
      "                                       * * * * * * * * * * * * * * * * * * * * * * * * * * * * * * * * * * * * * * * * * * * * * * * * * * * * * * * * * * * * * \n",
      "                                        * * * * * * * * * * * * * * * * * * * * * * * * * * * * * * * * * * * * * * * * * * * * * * * * * * * * * * * * * * * * \n",
      "                                         * * * * * * * * * * * * * * * * * * * * * * * * * * * * * * * * * * * * * * * * * * * * * * * * * * * * * * * * * * * \n",
      "                                          * * * * * * * * * * * * * * * * * * * * * * * * * * * * * * * * * * * * * * * * * * * * * * * * * * * * * * * * * * \n",
      "                                           * * * * * * * * * * * * * * * * * * * * * * * * * * * * * * * * * * * * * * * * * * * * * * * * * * * * * * * * * \n",
      "                                            * * * * * * * * * * * * * * * * * * * * * * * * * * * * * * * * * * * * * * * * * * * * * * * * * * * * * * * * \n",
      "                                             * * * * * * * * * * * * * * * * * * * * * * * * * * * * * * * * * * * * * * * * * * * * * * * * * * * * * * * \n",
      "                                              * * * * * * * * * * * * * * * * * * * * * * * * * * * * * * * * * * * * * * * * * * * * * * * * * * * * * * \n",
      "                                               * * * * * * * * * * * * * * * * * * * * * * * * * * * * * * * * * * * * * * * * * * * * * * * * * * * * * \n",
      "                                                * * * * * * * * * * * * * * * * * * * * * * * * * * * * * * * * * * * * * * * * * * * * * * * * * * * * \n",
      "                                                 * * * * * * * * * * * * * * * * * * * * * * * * * * * * * * * * * * * * * * * * * * * * * * * * * * * \n",
      "                                                  * * * * * * * * * * * * * * * * * * * * * * * * * * * * * * * * * * * * * * * * * * * * * * * * * * \n",
      "                                                   * * * * * * * * * * * * * * * * * * * * * * * * * * * * * * * * * * * * * * * * * * * * * * * * * \n",
      "                                                    * * * * * * * * * * * * * * * * * * * * * * * * * * * * * * * * * * * * * * * * * * * * * * * * \n",
      "                                                     * * * * * * * * * * * * * * * * * * * * * * * * * * * * * * * * * * * * * * * * * * * * * * * \n",
      "                                                      * * * * * * * * * * * * * * * * * * * * * * * * * * * * * * * * * * * * * * * * * * * * * * \n",
      "                                                       * * * * * * * * * * * * * * * * * * * * * * * * * * * * * * * * * * * * * * * * * * * * * \n",
      "                                                        * * * * * * * * * * * * * * * * * * * * * * * * * * * * * * * * * * * * * * * * * * * * \n",
      "                                                         * * * * * * * * * * * * * * * * * * * * * * * * * * * * * * * * * * * * * * * * * * * \n",
      "                                                          * * * * * * * * * * * * * * * * * * * * * * * * * * * * * * * * * * * * * * * * * * \n",
      "                                                           * * * * * * * * * * * * * * * * * * * * * * * * * * * * * * * * * * * * * * * * * \n",
      "                                                            * * * * * * * * * * * * * * * * * * * * * * * * * * * * * * * * * * * * * * * * \n",
      "                                                             * * * * * * * * * * * * * * * * * * * * * * * * * * * * * * * * * * * * * * * \n",
      "                                                              * * * * * * * * * * * * * * * * * * * * * * * * * * * * * * * * * * * * * * \n",
      "                                                               * * * * * * * * * * * * * * * * * * * * * * * * * * * * * * * * * * * * * \n",
      "                                                                * * * * * * * * * * * * * * * * * * * * * * * * * * * * * * * * * * * * \n",
      "                                                                 * * * * * * * * * * * * * * * * * * * * * * * * * * * * * * * * * * * \n",
      "                                                                  * * * * * * * * * * * * * * * * * * * * * * * * * * * * * * * * * * \n",
      "                                                                   * * * * * * * * * * * * * * * * * * * * * * * * * * * * * * * * * \n",
      "                                                                    * * * * * * * * * * * * * * * * * * * * * * * * * * * * * * * * \n",
      "                                                                     * * * * * * * * * * * * * * * * * * * * * * * * * * * * * * * \n",
      "                                                                      * * * * * * * * * * * * * * * * * * * * * * * * * * * * * * \n",
      "                                                                       * * * * * * * * * * * * * * * * * * * * * * * * * * * * * \n",
      "                                                                        * * * * * * * * * * * * * * * * * * * * * * * * * * * * \n",
      "                                                                         * * * * * * * * * * * * * * * * * * * * * * * * * * * \n",
      "                                                                          * * * * * * * * * * * * * * * * * * * * * * * * * * \n",
      "                                                                           * * * * * * * * * * * * * * * * * * * * * * * * * \n",
      "                                                                            * * * * * * * * * * * * * * * * * * * * * * * * \n",
      "                                                                             * * * * * * * * * * * * * * * * * * * * * * * \n",
      "                                                                              * * * * * * * * * * * * * * * * * * * * * * \n",
      "                                                                               * * * * * * * * * * * * * * * * * * * * * \n",
      "                                                                                * * * * * * * * * * * * * * * * * * * * \n",
      "                                                                                 * * * * * * * * * * * * * * * * * * * \n",
      "                                                                                  * * * * * * * * * * * * * * * * * * \n",
      "                                                                                   * * * * * * * * * * * * * * * * * \n",
      "                                                                                    * * * * * * * * * * * * * * * * \n",
      "                                                                                     * * * * * * * * * * * * * * * \n",
      "                                                                                      * * * * * * * * * * * * * * \n",
      "                                                                                       * * * * * * * * * * * * * \n",
      "                                                                                        * * * * * * * * * * * * \n",
      "                                                                                         * * * * * * * * * * * \n",
      "                                                                                          * * * * * * * * * * \n",
      "                                                                                           * * * * * * * * * \n",
      "                                                                                            * * * * * * * * \n",
      "                                                                                             * * * * * * * \n",
      "                                                                                              * * * * * * \n",
      "                                                                                               * * * * * \n",
      "                                                                                                * * * * \n",
      "                                                                                                 * * * \n",
      "                                                                                                  * * \n",
      "                                                                                                   * \n"
     ]
    }
   ],
   "source": [
    "pyramid(100)"
   ]
  },
  {
   "cell_type": "code",
   "execution_count": 35,
   "id": "fc29dc94-77a2-468c-afe1-f86e0ab0220a",
   "metadata": {},
   "outputs": [
    {
     "name": "stdout",
     "output_type": "stream",
     "text": [
      "12345\n",
      "1234\n",
      "123\n",
      "12\n",
      "1\n"
     ]
    }
   ],
   "source": [
    "for i in range(5):\n",
    "    for j in range(5-i):\n",
    "        print(j+1,end=\"\")\n",
    "    print()\n",
    "    "
   ]
  },
  {
   "cell_type": "code",
   "execution_count": 1,
   "id": "67ee4291-20a8-46f0-8512-ad818fa60c42",
   "metadata": {},
   "outputs": [
    {
     "name": "stdout",
     "output_type": "stream",
     "text": [
      "value of x: 50\n"
     ]
    }
   ],
   "source": [
    "#string formatting using format()\n",
    "x=50\n",
    "print(\"value of x:\",x)"
   ]
  },
  {
   "cell_type": "code",
   "execution_count": 5,
   "id": "9a10c8b2-37a2-428c-b7bf-3260901bedc6",
   "metadata": {},
   "outputs": [
    {
     "name": "stdin",
     "output_type": "stream",
     "text": [
      "enter first name: praveen\n",
      "enter last name: chouhan\n",
      "enter ur age: 10\n"
     ]
    },
    {
     "ename": "TypeError",
     "evalue": "can only concatenate str (not \"int\") to str",
     "output_type": "error",
     "traceback": [
      "\u001b[1;31m---------------------------------------------------------------------------\u001b[0m",
      "\u001b[1;31mTypeError\u001b[0m                                 Traceback (most recent call last)",
      "Cell \u001b[1;32mIn[5], line 4\u001b[0m\n\u001b[0;32m      2\u001b[0m last_name\u001b[38;5;241m=\u001b[39m\u001b[38;5;28minput\u001b[39m(\u001b[38;5;124m\"\u001b[39m\u001b[38;5;124menter last name:\u001b[39m\u001b[38;5;124m\"\u001b[39m)\n\u001b[0;32m      3\u001b[0m age\u001b[38;5;241m=\u001b[39m\u001b[38;5;28mint\u001b[39m(\u001b[38;5;28minput\u001b[39m(\u001b[38;5;124m\"\u001b[39m\u001b[38;5;124menter ur age:\u001b[39m\u001b[38;5;124m\"\u001b[39m))\n\u001b[1;32m----> 4\u001b[0m \u001b[38;5;28mprint\u001b[39m(\u001b[43mfirst_name\u001b[49m\u001b[43m \u001b[49m\u001b[38;5;241;43m+\u001b[39;49m\u001b[43m \u001b[49m\u001b[43mlast_name\u001b[49m\u001b[43m \u001b[49m\u001b[38;5;241;43m+\u001b[39;49m\u001b[43mage\u001b[49m)\n",
      "\u001b[1;31mTypeError\u001b[0m: can only concatenate str (not \"int\") to str"
     ]
    }
   ],
   "source": [
    "first_name=input(\"enter first name:\")\n",
    "last_name=input(\"enter last name:\")\n",
    "age=int(input(\"enter ur age:\"))\n",
    "print(first_name + last_name +age)    #ager age add nhh ho toh result praveenchouhan"
   ]
  },
  {
   "cell_type": "code",
   "execution_count": 7,
   "id": "1f0a0f97-961a-4651-95ba-c2fcb98269c1",
   "metadata": {},
   "outputs": [
    {
     "name": "stdout",
     "output_type": "stream",
     "text": [
      "value of x :50\n"
     ]
    }
   ],
   "source": [
    "print(\"value of x :{}\".format(x))"
   ]
  },
  {
   "cell_type": "code",
   "execution_count": 8,
   "id": "e7eb77ac-d39c-4ad1-984a-a7ffc5653705",
   "metadata": {},
   "outputs": [
    {
     "name": "stdout",
     "output_type": "stream",
     "text": [
      "value of x:12\n",
      " value of y:30\n",
      " value of z:15\n"
     ]
    }
   ],
   "source": [
    "x=12\n",
    "y=30\n",
    "z=15\n",
    "print(\"value of x:{}\\n value of y:{}\\n value of z:{}\".format(x,y,z))"
   ]
  },
  {
   "cell_type": "code",
   "execution_count": 13,
   "id": "1055e9e2-f814-4395-9123-34277b1f1e2e",
   "metadata": {},
   "outputs": [
    {
     "name": "stdout",
     "output_type": "stream",
     "text": [
      "value of x:15\n",
      " value of y:12\n",
      " value of z:30\n",
      "value of x:{x}\n"
     ]
    }
   ],
   "source": [
    "x=12\n",
    "y=30\n",
    "z=15\n",
    "print(\"value of x:{2}\\n value of y:{0}\\n value of z:{1}\".format(x,y,z))     \n",
    "#by use index for change the value or assign the value \n",
    "print(\"value of x:{x}\")"
   ]
  },
  {
   "cell_type": "code",
   "execution_count": 14,
   "id": "bc0cb303-e174-48d8-b2b5-cd25c7feb1a8",
   "metadata": {},
   "outputs": [
    {
     "name": "stdout",
     "output_type": "stream",
     "text": [
      "value of x: 10\n"
     ]
    }
   ],
   "source": [
    "#string formating using f-string\n",
    "x=10\n",
    "print(f\"value of x: {x}\")"
   ]
  },
  {
   "cell_type": "code",
   "execution_count": 16,
   "id": "7b2f50df-6089-45ba-84c2-039d9e827cd7",
   "metadata": {},
   "outputs": [
    {
     "name": "stdin",
     "output_type": "stream",
     "text": [
      "enter the name for add: pravee\n"
     ]
    },
    {
     "name": "stdout",
     "output_type": "stream",
     "text": [
      "stub 1 :praveen\n",
      "stub 2 :keshav\n",
      "stub 3 :rahul\n",
      "stub 4 :garvit\n",
      "stub 5 :amit\n",
      "stub 6 :pravee\n"
     ]
    }
   ],
   "source": [
    "names=input(\"enter the name for add:\")\n",
    "x=[\"praveen\",\"keshav\",\"rahul\",\"garvit\",\"amit\"]\n",
    "x.append(names)\n",
    "for name in range(len(x)):\n",
    "    print(F\"stub {name+1} :{x[name]}\")\n",
    "    "
   ]
  },
  {
   "cell_type": "code",
   "execution_count": 22,
   "id": "27e95207-3337-4130-92af-9d28f1c394ab",
   "metadata": {},
   "outputs": [
    {
     "name": "stdout",
     "output_type": "stream",
     "text": [
      "name : praveen\n",
      "eamil : p@gmai.com\n",
      "age : 19\n"
     ]
    }
   ],
   "source": [
    "details={\"name\":\"praveen\",\"eamil\":\"p@gmai.com\",\"age\":19}\n",
    "key=list(details.keys())\n",
    "value=list(details.values())\n",
    "for i in range(len(details)):\n",
    "    print(f\"{key[i]} : {value[i]}\")"
   ]
  },
  {
   "cell_type": "code",
   "execution_count": 31,
   "id": "379babfe-bed7-4ba8-aed8-deaa90e9e78a",
   "metadata": {},
   "outputs": [
    {
     "name": "stdout",
     "output_type": "stream",
     "text": [
      "value of x :20\n",
      " value of y :mike\n"
     ]
    }
   ],
   "source": [
    "x=20\n",
    "y=\"mike\"\n",
    "print(\"value of x :%d\\n value of y :%s\"%(x,y))"
   ]
  },
  {
   "cell_type": "code",
   "execution_count": 33,
   "id": "f94f7461-c51f-4eea-a291-7c92dcc48136",
   "metadata": {},
   "outputs": [
    {
     "name": "stdout",
     "output_type": "stream",
     "text": [
      "['ArithmeticError', 'AssertionError', 'AttributeError', 'BaseException', 'BaseExceptionGroup', 'BlockingIOError', 'BrokenPipeError', 'BufferError', 'BytesWarning', 'ChildProcessError', 'ConnectionAbortedError', 'ConnectionError', 'ConnectionRefusedError', 'ConnectionResetError', 'DeprecationWarning', 'EOFError', 'Ellipsis', 'EncodingWarning', 'EnvironmentError', 'Exception', 'ExceptionGroup', 'False', 'FileExistsError', 'FileNotFoundError', 'FloatingPointError', 'FutureWarning', 'GeneratorExit', 'IOError', 'ImportError', 'ImportWarning', 'IndentationError', 'IndexError', 'InterruptedError', 'IsADirectoryError', 'KeyError', 'KeyboardInterrupt', 'LookupError', 'MemoryError', 'ModuleNotFoundError', 'NameError', 'None', 'NotADirectoryError', 'NotImplemented', 'NotImplementedError', 'OSError', 'OverflowError', 'PendingDeprecationWarning', 'PermissionError', 'ProcessLookupError', 'RecursionError', 'ReferenceError', 'ResourceWarning', 'RuntimeError', 'RuntimeWarning', 'StopAsyncIteration', 'StopIteration', 'SyntaxError', 'SyntaxWarning', 'SystemError', 'SystemExit', 'TabError', 'TimeoutError', 'True', 'TypeError', 'UnboundLocalError', 'UnicodeDecodeError', 'UnicodeEncodeError', 'UnicodeError', 'UnicodeTranslateError', 'UnicodeWarning', 'UserWarning', 'ValueError', 'Warning', 'WindowsError', 'ZeroDivisionError', '__IPYTHON__', '__build_class__', '__debug__', '__doc__', '__import__', '__loader__', '__name__', '__package__', '__spec__', 'abs', 'aiter', 'all', 'anext', 'any', 'ascii', 'bin', 'bool', 'breakpoint', 'bytearray', 'bytes', 'callable', 'chr', 'classmethod', 'compile', 'complex', 'copyright', 'credits', 'delattr', 'dict', 'dir', 'display', 'divmod', 'enumerate', 'eval', 'exec', 'execfile', 'filter', 'float', 'format', 'frozenset', 'get_ipython', 'getattr', 'globals', 'hasattr', 'hash', 'help', 'hex', 'id', 'input', 'int', 'isinstance', 'issubclass', 'iter', 'len', 'license', 'list', 'locals', 'map', 'max', 'memoryview', 'min', 'next', 'object', 'oct', 'open', 'ord', 'pow', 'print', 'property', 'range', 'repr', 'reversed', 'round', 'runfile', 'set', 'setattr', 'slice', 'sorted', 'staticmethod', 'str', 'sum', 'super', 'tuple', 'type', 'vars', 'zip']\n"
     ]
    }
   ],
   "source": [
    "print(dir(__builtins__))"
   ]
  },
  {
   "cell_type": "code",
   "execution_count": 34,
   "id": "70e5dc25-d718-41f0-91ad-77318fa73e83",
   "metadata": {},
   "outputs": [],
   "source": [
    "def welcome():\n",
    "    print(\"welcome everyone\\n good morning guys\\ni hope you guys are well today\")\n",
    "def bye():\n",
    "    print(\"bye everyone\\n see you tomorrow\")"
   ]
  },
  {
   "cell_type": "code",
   "execution_count": 35,
   "id": "2edcebe2-1315-4c89-9a19-538e224fce5f",
   "metadata": {},
   "outputs": [
    {
     "name": "stdout",
     "output_type": "stream",
     "text": [
      "welcome everyone\n",
      " good morning guys\n",
      "i hope you guys are well today\n"
     ]
    }
   ],
   "source": [
    "welcome()"
   ]
  },
  {
   "cell_type": "code",
   "execution_count": 36,
   "id": "2207bdd6-33db-4666-b858-76cc3607facc",
   "metadata": {},
   "outputs": [
    {
     "name": "stdout",
     "output_type": "stream",
     "text": [
      "bye everyone\n",
      " see you tomorrow\n"
     ]
    }
   ],
   "source": [
    "bye()"
   ]
  },
  {
   "cell_type": "code",
   "execution_count": 47,
   "id": "5eb1ddd8-4081-4b23-8547-5dc2d35943db",
   "metadata": {},
   "outputs": [],
   "source": [
    "'''def add():\n",
    "    x=int(input(\"enter the value of x:\"))\n",
    "    y=int(input(\"enter the value of y:\"))\n",
    "    return(x+y)'''\n",
    "def add(x,y):\n",
    "    return(x+y)\n",
    "\n",
    "    "
   ]
  },
  {
   "cell_type": "code",
   "execution_count": 48,
   "id": "93b0181c-b0fa-4683-a1fe-cb8c5c0be8b5",
   "metadata": {},
   "outputs": [
    {
     "data": {
      "text/plain": [
       "7"
      ]
     },
     "execution_count": 48,
     "metadata": {},
     "output_type": "execute_result"
    }
   ],
   "source": [
    "add(3,4)"
   ]
  },
  {
   "cell_type": "code",
   "execution_count": 51,
   "id": "3152bdd3-cd3d-4deb-b277-df96aaf7d6e2",
   "metadata": {},
   "outputs": [],
   "source": [
    "#calling a function by passing arg\n",
    "def named(name,age,email):\n",
    "    print(f\"name:{name}\\nage:{age}\\nemail:{email}\")"
   ]
  },
  {
   "cell_type": "code",
   "execution_count": 53,
   "id": "d7e1e3f1-6217-400f-a1b5-d66dec8b152c",
   "metadata": {},
   "outputs": [
    {
     "name": "stdout",
     "output_type": "stream",
     "text": [
      "name:praveen\n",
      "age:10\n",
      "email:p@gmail.com\n"
     ]
    }
   ],
   "source": [
    "named(\"praveen\",10,'p@gmail.com')"
   ]
  },
  {
   "cell_type": "code",
   "execution_count": 54,
   "id": "95502070-3b6b-4b2d-be09-8ddbb63aece5",
   "metadata": {},
   "outputs": [
    {
     "name": "stdout",
     "output_type": "stream",
     "text": [
      "name:10\n",
      "age:praveen\n",
      "email:p@gmail.com\n"
     ]
    }
   ],
   "source": [
    "named(10,\"praveen\",'p@gmail.com')"
   ]
  },
  {
   "cell_type": "code",
   "execution_count": 59,
   "id": "520b0f39-051b-4d56-9027-c4c9872e54ef",
   "metadata": {},
   "outputs": [
    {
     "name": "stdout",
     "output_type": "stream",
     "text": [
      "name:praveen\n",
      "age:21\n",
      "email:p@gmail.com\n"
     ]
    }
   ],
   "source": [
    "#position arg function\n",
    "#keyword arg fuction\n",
    "named(age=21,email=\"p@gmail.com\",name=\"praveen\")"
   ]
  },
  {
   "cell_type": "code",
   "execution_count": 61,
   "id": "9bc8f57f-7985-428d-932d-0b0be70656ef",
   "metadata": {},
   "outputs": [],
   "source": [
    "#default arg function\n",
    "def named(name,age,email,city=\"jaipur\"):\n",
    "    print(f\"name:{name}\\nage:{age}\\nemail:{email}\\ncity={city}\")"
   ]
  },
  {
   "cell_type": "code",
   "execution_count": 62,
   "id": "d2a2d41e-36bd-4876-ad42-ef5f39e85265",
   "metadata": {},
   "outputs": [
    {
     "name": "stdout",
     "output_type": "stream",
     "text": [
      "name:praveen\n",
      "age:20\n",
      "email:p@gmail.com\n",
      "city=jaipur\n"
     ]
    }
   ],
   "source": [
    "named(\"praveen\",20,\"p@gmail.com\")"
   ]
  },
  {
   "cell_type": "code",
   "execution_count": 65,
   "id": "c7b7dc17-9c7f-4b85-8dca-5631334ff5a3",
   "metadata": {},
   "outputs": [
    {
     "ename": "TypeError",
     "evalue": "named() missing 1 required positional argument: 'email'",
     "output_type": "error",
     "traceback": [
      "\u001b[1;31m---------------------------------------------------------------------------\u001b[0m",
      "\u001b[1;31mTypeError\u001b[0m                                 Traceback (most recent call last)",
      "Cell \u001b[1;32mIn[65], line 1\u001b[0m\n\u001b[1;32m----> 1\u001b[0m \u001b[43mnamed\u001b[49m\u001b[43m(\u001b[49m\u001b[38;5;124;43m\"\u001b[39;49m\u001b[38;5;124;43mpraveen\u001b[39;49m\u001b[38;5;124;43m\"\u001b[39;49m\u001b[43m,\u001b[49m\u001b[38;5;124;43m\"\u001b[39;49m\u001b[38;5;124;43mp@gmail.com\u001b[39;49m\u001b[38;5;124;43m\"\u001b[39;49m\u001b[43m,\u001b[49m\u001b[43m)\u001b[49m\n",
      "\u001b[1;31mTypeError\u001b[0m: named() missing 1 required positional argument: 'email'"
     ]
    }
   ],
   "source": [
    "named(\"praveen\",\"p@gmail.com\",)"
   ]
  },
  {
   "cell_type": "code",
   "execution_count": null,
   "id": "5445749e-cfb9-4ac7-8690-b498bcc010c4",
   "metadata": {},
   "outputs": [],
   "source": []
  }
 ],
 "metadata": {
  "kernelspec": {
   "display_name": "Python 3 (ipykernel)",
   "language": "python",
   "name": "python3"
  },
  "language_info": {
   "codemirror_mode": {
    "name": "ipython",
    "version": 3
   },
   "file_extension": ".py",
   "mimetype": "text/x-python",
   "name": "python",
   "nbconvert_exporter": "python",
   "pygments_lexer": "ipython3",
   "version": "3.11.4"
  }
 },
 "nbformat": 4,
 "nbformat_minor": 5
}
