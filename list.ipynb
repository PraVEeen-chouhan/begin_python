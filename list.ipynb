{
 "cells": [
  {
   "cell_type": "code",
   "execution_count": 3,
   "id": "fbc9fac7-bc92-49df-b6b4-ccc8ff3b67cb",
   "metadata": {},
   "outputs": [],
   "source": [
    "#symbol is []\n",
    "x=[1,2,21.3,\"python\",\"keshav\"]"
   ]
  },
  {
   "cell_type": "code",
   "execution_count": 4,
   "id": "6d86b21e-89e5-43e7-a4ec-6b5c368e86b5",
   "metadata": {},
   "outputs": [
    {
     "data": {
      "text/plain": [
       "list"
      ]
     },
     "execution_count": 4,
     "metadata": {},
     "output_type": "execute_result"
    }
   ],
   "source": [
    "type(x)"
   ]
  },
  {
   "cell_type": "code",
   "execution_count": 5,
   "id": "f6879b94-1747-4edc-9dbe-db438865f042",
   "metadata": {},
   "outputs": [
    {
     "name": "stdout",
     "output_type": "stream",
     "text": [
      "[1, 2, 21.3, 'python', 'keshav']\n"
     ]
    }
   ],
   "source": [
    "print(x)"
   ]
  },
  {
   "cell_type": "code",
   "execution_count": 6,
   "id": "5445ddab-0cbc-48ce-8bf8-8a620173b15b",
   "metadata": {},
   "outputs": [],
   "source": [
    "#indexing in list \n",
    "z=x[2]"
   ]
  },
  {
   "cell_type": "code",
   "execution_count": 7,
   "id": "b0950007-ecd1-4cd1-aa93-3a0ea1dcb84e",
   "metadata": {},
   "outputs": [
    {
     "data": {
      "text/plain": [
       "21.3"
      ]
     },
     "execution_count": 7,
     "metadata": {},
     "output_type": "execute_result"
    }
   ],
   "source": [
    "z"
   ]
  },
  {
   "cell_type": "code",
   "execution_count": 8,
   "id": "aa059f22-002e-416a-bfea-cd73891f4c26",
   "metadata": {},
   "outputs": [],
   "source": [
    "z=x[3]"
   ]
  },
  {
   "cell_type": "code",
   "execution_count": 9,
   "id": "0f0a2b7c-4e39-4a70-ad43-a299379b3a29",
   "metadata": {},
   "outputs": [
    {
     "data": {
      "text/plain": [
       "'python'"
      ]
     },
     "execution_count": 9,
     "metadata": {},
     "output_type": "execute_result"
    }
   ],
   "source": [
    "z"
   ]
  },
  {
   "cell_type": "code",
   "execution_count": 10,
   "id": "5530ccd7-8d17-45c5-b655-78af6ac49b7d",
   "metadata": {},
   "outputs": [
    {
     "data": {
      "text/plain": [
       "'o'"
      ]
     },
     "execution_count": 10,
     "metadata": {},
     "output_type": "execute_result"
    }
   ],
   "source": [
    "z[4]"
   ]
  },
  {
   "cell_type": "code",
   "execution_count": 11,
   "id": "cea583e3-9aa0-4a5c-b408-92b43873cf32",
   "metadata": {},
   "outputs": [
    {
     "name": "stdout",
     "output_type": "stream",
     "text": [
      "p\n",
      "y\n",
      "t\n",
      "h\n",
      "o\n",
      "n\n"
     ]
    }
   ],
   "source": [
    "i=0\n",
    "while i<6:\n",
    "    print(z[i])\n",
    "    i+=1"
   ]
  },
  {
   "cell_type": "code",
   "execution_count": 13,
   "id": "521afd9b-c745-4da8-b890-2a0a04ae6efd",
   "metadata": {},
   "outputs": [
    {
     "data": {
      "text/plain": [
       "'tho'"
      ]
     },
     "execution_count": 13,
     "metadata": {},
     "output_type": "execute_result"
    }
   ],
   "source": [
    "#slicing in a list \n",
    "#x[start:stop:step]\n",
    "x=\"python\"\n",
    "x[2:5]"
   ]
  },
  {
   "cell_type": "code",
   "execution_count": 14,
   "id": "e491da1d-781f-431a-ae29-f55472c73aad",
   "metadata": {},
   "outputs": [
    {
     "data": {
      "text/plain": [
       "'yh'"
      ]
     },
     "execution_count": 14,
     "metadata": {},
     "output_type": "execute_result"
    }
   ],
   "source": [
    "x[1:5:2]"
   ]
  },
  {
   "cell_type": "code",
   "execution_count": 15,
   "id": "ed1a0a7e-b4da-4a29-ae6b-d7769634828e",
   "metadata": {},
   "outputs": [
    {
     "data": {
      "text/plain": [
       "'python'"
      ]
     },
     "execution_count": 15,
     "metadata": {},
     "output_type": "execute_result"
    }
   ],
   "source": [
    "x[::1]"
   ]
  },
  {
   "cell_type": "code",
   "execution_count": 16,
   "id": "e7471206-fc21-4e7d-af35-a72edbd87e11",
   "metadata": {},
   "outputs": [
    {
     "data": {
      "text/plain": [
       "'pto'"
      ]
     },
     "execution_count": 16,
     "metadata": {},
     "output_type": "execute_result"
    }
   ],
   "source": [
    "x[::2]"
   ]
  },
  {
   "cell_type": "code",
   "execution_count": 21,
   "id": "e85001fc-77bb-49f5-b198-68390e67d6d7",
   "metadata": {},
   "outputs": [
    {
     "data": {
      "text/plain": [
       "'otp'"
      ]
     },
     "execution_count": 21,
     "metadata": {},
     "output_type": "execute_result"
    }
   ],
   "source": [
    "#find otp in python\n",
    "x[4::-2]"
   ]
  },
  {
   "cell_type": "code",
   "execution_count": 23,
   "id": "29482325-6b1c-4644-87d6-f03e463b4578",
   "metadata": {},
   "outputs": [],
   "source": [
    "x=[1,\"eric\",\"praveen\",\"keshav\",\"jack\"]"
   ]
  },
  {
   "cell_type": "code",
   "execution_count": 24,
   "id": "12d603a3-5f22-40e8-80c4-293e1ea43e54",
   "metadata": {},
   "outputs": [
    {
     "data": {
      "text/plain": [
       "[1, 'eric', 'praveen', 'keshav', 'jack']"
      ]
     },
     "execution_count": 24,
     "metadata": {},
     "output_type": "execute_result"
    }
   ],
   "source": [
    "x\n"
   ]
  },
  {
   "cell_type": "code",
   "execution_count": 25,
   "id": "8b6d1a5e-d6d3-43d3-b325-1f97c35cb8d8",
   "metadata": {},
   "outputs": [
    {
     "data": {
      "text/plain": [
       "[1, 'eric', 'praveen']"
      ]
     },
     "execution_count": 25,
     "metadata": {},
     "output_type": "execute_result"
    }
   ],
   "source": [
    "x[:3:]"
   ]
  },
  {
   "cell_type": "code",
   "execution_count": 26,
   "id": "98624590-0804-4847-8b7f-218b033646e0",
   "metadata": {},
   "outputs": [
    {
     "data": {
      "text/plain": [
       "['eric', 'keshav']"
      ]
     },
     "execution_count": 26,
     "metadata": {},
     "output_type": "execute_result"
    }
   ],
   "source": [
    "x[1::2]"
   ]
  },
  {
   "cell_type": "code",
   "execution_count": 27,
   "id": "cd9bc07d-01df-41b9-84f0-0fac25c4d483",
   "metadata": {},
   "outputs": [],
   "source": [
    "#list function methode"
   ]
  },
  {
   "cell_type": "code",
   "execution_count": 28,
   "id": "4b531f33-050c-427b-93a0-e7fcf3b43811",
   "metadata": {},
   "outputs": [],
   "source": [
    "x.append(\"rahul\")"
   ]
  },
  {
   "cell_type": "code",
   "execution_count": 29,
   "id": "70f6ea4e-52c3-4391-8fa7-cd6c6fb5bdb4",
   "metadata": {},
   "outputs": [
    {
     "data": {
      "text/plain": [
       "[1, 'eric', 'praveen', 'keshav', 'jack', 'rahul']"
      ]
     },
     "execution_count": 29,
     "metadata": {},
     "output_type": "execute_result"
    }
   ],
   "source": [
    "x"
   ]
  },
  {
   "cell_type": "code",
   "execution_count": 30,
   "id": "0d24d3b3-790e-4edd-933f-9759e16fd374",
   "metadata": {},
   "outputs": [],
   "source": [
    "y=[\"ahubhm\",\"garvit\"]"
   ]
  },
  {
   "cell_type": "code",
   "execution_count": 31,
   "id": "9b418da3-931f-431b-909f-daeabf34d052",
   "metadata": {},
   "outputs": [],
   "source": [
    "x.append(y)"
   ]
  },
  {
   "cell_type": "code",
   "execution_count": 32,
   "id": "86ab02b8-0883-40c0-90e9-aa776c0580c2",
   "metadata": {},
   "outputs": [
    {
     "data": {
      "text/plain": [
       "[1, 'eric', 'praveen', 'keshav', 'jack', 'rahul', ['ahubhm', 'garvit']]"
      ]
     },
     "execution_count": 32,
     "metadata": {},
     "output_type": "execute_result"
    }
   ],
   "source": [
    "x"
   ]
  },
  {
   "cell_type": "code",
   "execution_count": 33,
   "id": "a8a9cfe4-a9fc-4875-b84b-26878e8af1d9",
   "metadata": {},
   "outputs": [],
   "source": [
    "x.extend(y)"
   ]
  },
  {
   "cell_type": "code",
   "execution_count": 34,
   "id": "1160e70e-8cf0-4485-a07b-1dd00b1dd592",
   "metadata": {},
   "outputs": [
    {
     "data": {
      "text/plain": [
       "[1,\n",
       " 'eric',\n",
       " 'praveen',\n",
       " 'keshav',\n",
       " 'jack',\n",
       " 'rahul',\n",
       " ['ahubhm', 'garvit'],\n",
       " 'ahubhm',\n",
       " 'garvit']"
      ]
     },
     "execution_count": 34,
     "metadata": {},
     "output_type": "execute_result"
    }
   ],
   "source": [
    "x"
   ]
  },
  {
   "cell_type": "code",
   "execution_count": 35,
   "id": "fd9819de-d737-446d-a372-9294bde34c83",
   "metadata": {},
   "outputs": [
    {
     "data": {
      "text/plain": [
       "9"
      ]
     },
     "execution_count": 35,
     "metadata": {},
     "output_type": "execute_result"
    }
   ],
   "source": [
    "len(x)"
   ]
  },
  {
   "cell_type": "code",
   "execution_count": 37,
   "id": "f0f99850-a8dd-4a8c-9442-4d0a54616eeb",
   "metadata": {},
   "outputs": [
    {
     "data": {
      "text/plain": [
       "['ahubhm', 'garvit']"
      ]
     },
     "execution_count": 37,
     "metadata": {},
     "output_type": "execute_result"
    }
   ],
   "source": [
    "x.pop(6)"
   ]
  },
  {
   "cell_type": "code",
   "execution_count": 38,
   "id": "8eafd646-846c-4bf7-a915-db339c4d8aea",
   "metadata": {},
   "outputs": [
    {
     "data": {
      "text/plain": [
       "[1, 'eric', 'praveen', 'keshav', 'jack', 'rahul', 'ahubhm', 'garvit']"
      ]
     },
     "execution_count": 38,
     "metadata": {},
     "output_type": "execute_result"
    }
   ],
   "source": [
    "x"
   ]
  },
  {
   "cell_type": "code",
   "execution_count": 39,
   "id": "b807d727-1a8e-457d-9207-400699a1a98d",
   "metadata": {},
   "outputs": [
    {
     "data": {
      "text/plain": [
       "'garvit'"
      ]
     },
     "execution_count": 39,
     "metadata": {},
     "output_type": "execute_result"
    }
   ],
   "source": [
    "x.pop()"
   ]
  },
  {
   "cell_type": "code",
   "execution_count": 45,
   "id": "8d536d3c-35d4-421a-9d3f-b40e94335e96",
   "metadata": {},
   "outputs": [
    {
     "ename": "ValueError",
     "evalue": "list.remove(x): x not in list",
     "output_type": "error",
     "traceback": [
      "\u001b[1;31m---------------------------------------------------------------------------\u001b[0m",
      "\u001b[1;31mValueError\u001b[0m                                Traceback (most recent call last)",
      "Cell \u001b[1;32mIn[45], line 1\u001b[0m\n\u001b[1;32m----> 1\u001b[0m \u001b[43mx\u001b[49m\u001b[38;5;241;43m.\u001b[39;49m\u001b[43mremove\u001b[49m\u001b[43m(\u001b[49m\u001b[38;5;124;43m\"\u001b[39;49m\u001b[38;5;124;43mpraveen\u001b[39;49m\u001b[38;5;124;43m\"\u001b[39;49m\u001b[43m)\u001b[49m\n",
      "\u001b[1;31mValueError\u001b[0m: list.remove(x): x not in list"
     ]
    }
   ],
   "source": [
    "x.remove(\"praveen\")"
   ]
  },
  {
   "cell_type": "code",
   "execution_count": 46,
   "id": "51656b7e-93af-46f0-9111-ce1286c6a820",
   "metadata": {},
   "outputs": [
    {
     "data": {
      "text/plain": [
       "[1, 'eric', 'keshav', 'jack', 'rahul']"
      ]
     },
     "execution_count": 46,
     "metadata": {},
     "output_type": "execute_result"
    }
   ],
   "source": [
    "x"
   ]
  },
  {
   "cell_type": "code",
   "execution_count": 47,
   "id": "e89a0ee6-2ce7-4ee4-985b-8a475f9e07f3",
   "metadata": {},
   "outputs": [
    {
     "data": {
      "text/plain": [
       "1"
      ]
     },
     "execution_count": 47,
     "metadata": {},
     "output_type": "execute_result"
    }
   ],
   "source": [
    "x.count(\"keshav\")"
   ]
  },
  {
   "cell_type": "code",
   "execution_count": 50,
   "id": "b201930d-84db-437a-8bb1-376861f36018",
   "metadata": {},
   "outputs": [],
   "source": [
    "y=[\"rahul\",\"rahul\",\"rahul\",\"jack\"]"
   ]
  },
  {
   "cell_type": "code",
   "execution_count": 51,
   "id": "5402140a-f7b8-4520-961e-0257764fd688",
   "metadata": {},
   "outputs": [],
   "source": [
    "x.extend(y)"
   ]
  },
  {
   "cell_type": "code",
   "execution_count": 52,
   "id": "13bd4687-b367-46ad-a162-7cc06e142f93",
   "metadata": {},
   "outputs": [
    {
     "data": {
      "text/plain": [
       "[1, 'eric', 'keshav', 'jack', 'rahul', 'rahul', 'rahul', 'rahul', 'jack']"
      ]
     },
     "execution_count": 52,
     "metadata": {},
     "output_type": "execute_result"
    }
   ],
   "source": [
    "x"
   ]
  },
  {
   "cell_type": "code",
   "execution_count": 53,
   "id": "74286c1e-0b97-4b2a-9416-e7b6cbc6d7a5",
   "metadata": {},
   "outputs": [],
   "source": [
    "x.remove(\"jack\")"
   ]
  },
  {
   "cell_type": "code",
   "execution_count": 54,
   "id": "f207883d-fb47-4526-a816-04af2e1bd32b",
   "metadata": {},
   "outputs": [
    {
     "data": {
      "text/plain": [
       "[1, 'eric', 'keshav', 'rahul', 'rahul', 'rahul', 'rahul', 'jack']"
      ]
     },
     "execution_count": 54,
     "metadata": {},
     "output_type": "execute_result"
    }
   ],
   "source": [
    "x"
   ]
  },
  {
   "cell_type": "code",
   "execution_count": 55,
   "id": "771291ce-1e71-4f7a-8a79-bf4a2d5a81fa",
   "metadata": {},
   "outputs": [
    {
     "data": {
      "text/plain": [
       "4"
      ]
     },
     "execution_count": 55,
     "metadata": {},
     "output_type": "execute_result"
    }
   ],
   "source": [
    "x.count(\"rahul\")"
   ]
  },
  {
   "cell_type": "code",
   "execution_count": 56,
   "id": "fa4ddfb4-3d7d-494e-8e47-153f5e88615e",
   "metadata": {},
   "outputs": [],
   "source": [
    "x=[1,3434,65464,432,64,98,3423,43,867,2342]"
   ]
  },
  {
   "cell_type": "code",
   "execution_count": 57,
   "id": "b300d118-8ec0-4a99-820b-d774ee1c121b",
   "metadata": {},
   "outputs": [],
   "source": [
    "x.sort()"
   ]
  },
  {
   "cell_type": "code",
   "execution_count": 58,
   "id": "d056ebab-5291-455f-804a-714903a0bb8a",
   "metadata": {},
   "outputs": [
    {
     "data": {
      "text/plain": [
       "[1, 43, 64, 98, 432, 867, 2342, 3423, 3434, 65464]"
      ]
     },
     "execution_count": 58,
     "metadata": {},
     "output_type": "execute_result"
    }
   ],
   "source": [
    "x"
   ]
  },
  {
   "cell_type": "code",
   "execution_count": 59,
   "id": "c6660aa5-8407-4a98-8a93-efbe522bbe84",
   "metadata": {},
   "outputs": [],
   "source": [
    "x.reverse()"
   ]
  },
  {
   "cell_type": "code",
   "execution_count": 60,
   "id": "8a6044b7-8cf1-4011-a9c4-4fba1600f6ef",
   "metadata": {},
   "outputs": [
    {
     "data": {
      "text/plain": [
       "[65464, 3434, 3423, 2342, 867, 432, 98, 64, 43, 1]"
      ]
     },
     "execution_count": 60,
     "metadata": {},
     "output_type": "execute_result"
    }
   ],
   "source": [
    "x"
   ]
  },
  {
   "cell_type": "code",
   "execution_count": 61,
   "id": "e9e8a640-7695-4e5b-93a1-d98a2755a93b",
   "metadata": {},
   "outputs": [],
   "source": [
    "z=x.copy()"
   ]
  },
  {
   "cell_type": "code",
   "execution_count": 62,
   "id": "84ba28c0-e246-453a-ac24-36f764ac4f9e",
   "metadata": {},
   "outputs": [
    {
     "data": {
      "text/plain": [
       "[65464, 3434, 3423, 2342, 867, 432, 98, 64, 43, 1]"
      ]
     },
     "execution_count": 62,
     "metadata": {},
     "output_type": "execute_result"
    }
   ],
   "source": [
    "x"
   ]
  },
  {
   "cell_type": "code",
   "execution_count": 63,
   "id": "3495ce70-1480-4cfb-b510-07faffa748ec",
   "metadata": {},
   "outputs": [
    {
     "data": {
      "text/plain": [
       "[65464, 3434, 3423, 2342, 867, 432, 98, 64, 43, 1]"
      ]
     },
     "execution_count": 63,
     "metadata": {},
     "output_type": "execute_result"
    }
   ],
   "source": [
    "z"
   ]
  },
  {
   "cell_type": "code",
   "execution_count": 64,
   "id": "8dc09eb4-a096-4e03-9f2a-fb3da5f8c251",
   "metadata": {},
   "outputs": [],
   "source": [
    "x.clear()"
   ]
  },
  {
   "cell_type": "code",
   "execution_count": 65,
   "id": "34d97610-6af6-47c2-b707-3fee7b93e834",
   "metadata": {},
   "outputs": [
    {
     "data": {
      "text/plain": [
       "[]"
      ]
     },
     "execution_count": 65,
     "metadata": {},
     "output_type": "execute_result"
    }
   ],
   "source": [
    "x"
   ]
  },
  {
   "cell_type": "code",
   "execution_count": 66,
   "id": "071d4db8-e6ee-42c8-84cc-75314567ee52",
   "metadata": {},
   "outputs": [
    {
     "data": {
      "text/plain": [
       "[65464, 3434, 3423, 2342, 867, 432, 98, 64, 43, 1]"
      ]
     },
     "execution_count": 66,
     "metadata": {},
     "output_type": "execute_result"
    }
   ],
   "source": [
    "z"
   ]
  },
  {
   "cell_type": "code",
   "execution_count": 1,
   "id": "021caaee-cdec-41f2-b45c-d362636fc8f4",
   "metadata": {},
   "outputs": [],
   "source": [
    "#nested List"
   ]
  },
  {
   "cell_type": "code",
   "execution_count": 2,
   "id": "49328ff9-53d3-4563-b828-993dc0e209bf",
   "metadata": {},
   "outputs": [],
   "source": [
    "x=[1,2,3,[4,5,\"python\"]]"
   ]
  },
  {
   "cell_type": "code",
   "execution_count": 3,
   "id": "5b8a5863-f68d-4fe8-b193-5f272c618bfa",
   "metadata": {},
   "outputs": [],
   "source": [
    "z=x[3]"
   ]
  },
  {
   "cell_type": "code",
   "execution_count": 4,
   "id": "b1c1c1b4-bc61-4955-89a8-4e1c03e84b69",
   "metadata": {},
   "outputs": [
    {
     "data": {
      "text/plain": [
       "[4, 5, 'python']"
      ]
     },
     "execution_count": 4,
     "metadata": {},
     "output_type": "execute_result"
    }
   ],
   "source": [
    "z"
   ]
  },
  {
   "cell_type": "code",
   "execution_count": 5,
   "id": "518eddd6-904b-4bec-a155-b1bc0941c2c4",
   "metadata": {},
   "outputs": [
    {
     "data": {
      "text/plain": [
       "[1, 2, 3, [4, 5, 'python']]"
      ]
     },
     "execution_count": 5,
     "metadata": {},
     "output_type": "execute_result"
    }
   ],
   "source": [
    "x"
   ]
  },
  {
   "cell_type": "code",
   "execution_count": 9,
   "id": "edb0c301-fcfc-4fab-be17-8c4dbd2aa801",
   "metadata": {},
   "outputs": [
    {
     "data": {
      "text/plain": [
       "'otp'"
      ]
     },
     "execution_count": 9,
     "metadata": {},
     "output_type": "execute_result"
    }
   ],
   "source": [
    "x[3][2][4::-2]"
   ]
  },
  {
   "cell_type": "code",
   "execution_count": 10,
   "id": "dd8efa2d-a939-4d19-a1c4-f9bc4c5a9e6c",
   "metadata": {},
   "outputs": [],
   "source": [
    "#creating a list using list()\n"
   ]
  },
  {
   "cell_type": "code",
   "execution_count": 12,
   "id": "9cef4acc-99a0-4776-bcf6-da9a6248cb1e",
   "metadata": {},
   "outputs": [],
   "source": [
    "x=list([1,2,34])"
   ]
  },
  {
   "cell_type": "code",
   "execution_count": 13,
   "id": "fab16e21-f2ae-4724-8c92-26da70313d45",
   "metadata": {},
   "outputs": [
    {
     "data": {
      "text/plain": [
       "[1, 2, 34]"
      ]
     },
     "execution_count": 13,
     "metadata": {},
     "output_type": "execute_result"
    }
   ],
   "source": [
    "x\n"
   ]
  },
  {
   "cell_type": "code",
   "execution_count": null,
   "id": "138d83a4-2199-4241-bf02-32092584ffd9",
   "metadata": {},
   "outputs": [],
   "source": []
  }
 ],
 "metadata": {
  "kernelspec": {
   "display_name": "Python 3 (ipykernel)",
   "language": "python",
   "name": "python3"
  },
  "language_info": {
   "codemirror_mode": {
    "name": "ipython",
    "version": 3
   },
   "file_extension": ".py",
   "mimetype": "text/x-python",
   "name": "python",
   "nbconvert_exporter": "python",
   "pygments_lexer": "ipython3",
   "version": "3.11.4"
  }
 },
 "nbformat": 4,
 "nbformat_minor": 5
}
