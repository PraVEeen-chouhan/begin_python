{
 "cells": [
  {
   "cell_type": "code",
   "execution_count": 1,
   "id": "79cd51d4-3bde-4648-b546-426071389ae5",
   "metadata": {},
   "outputs": [],
   "source": [
    "# try ==> code test by try block\n",
    "# except ===> error will test by except block\n",
    "# finally ==> it will going run always"
   ]
  },
  {
   "cell_type": "code",
   "execution_count": 2,
   "id": "117042b9-9b53-4236-a922-8e4d72edbd7c",
   "metadata": {},
   "outputs": [
    {
     "name": "stdout",
     "output_type": "stream",
     "text": [
      "error occured\n"
     ]
    }
   ],
   "source": [
    "\n",
    "try:\n",
    "    def add(a,b):\n",
    "        c=a/b\n",
    "        print(c1)\n",
    "        x=[1,2,3]\n",
    "        print(x[5])\n",
    "    add(2,2)\n",
    "except:\n",
    "    print(\"error occured\")"
   ]
  },
  {
   "cell_type": "code",
   "execution_count": 7,
   "id": "580f63bf-a1c0-472d-90cb-82679952c367",
   "metadata": {},
   "outputs": [
    {
     "name": "stdout",
     "output_type": "stream",
     "text": [
      "Error : division by zero\n"
     ]
    }
   ],
   "source": [
    "try:\n",
    "    def add(a,b):\n",
    "        c=a/b\n",
    "        print(c1)\n",
    "        x=[1,2,3]\n",
    "        print(x[5])\n",
    "    add(2,0)\n",
    "\n",
    "\n",
    "\n",
    "except IndexError as f:\n",
    "    print(f\"Error : {f}\")\n",
    "except NameError as f:\n",
    "    print(f\"Error : {f}\")\n",
    "except TypeError as f:\n",
    "    print(f\"Error : {f}\")\n",
    "except ZeroDivisionError as f:\n",
    "    print(f\"Error : {f}\")"
   ]
  },
  {
   "cell_type": "code",
   "execution_count": 9,
   "id": "9dfabb90-04c0-4f63-a2c0-28091ec8db3f",
   "metadata": {},
   "outputs": [
    {
     "name": "stdout",
     "output_type": "stream",
     "text": [
      "Error : division by zero\n",
      "program execution is successfully\n"
     ]
    }
   ],
   "source": [
    "try:\n",
    "    def add(a,b):\n",
    "        c=a/b\n",
    "        print(c)\n",
    "        x=[1,2,3]\n",
    "        print(x[0])\n",
    "    add(2,0)\n",
    "except (IndexError,NameError,TypeError,ZeroDivisionError) as f:\n",
    "    print(f\"Error : {f}\")\n",
    "finally:\n",
    "    print(\"program execution is successfully\")"
   ]
  },
  {
   "cell_type": "code",
   "execution_count": 12,
   "id": "e55dc7fb-6621-49ac-ae0d-5aa7f05a9d2b",
   "metadata": {},
   "outputs": [
    {
     "name": "stdout",
     "output_type": "stream",
     "text": [
      "0.5\n",
      "1\n",
      "program execution is successfully\n"
     ]
    }
   ],
   "source": [
    "try:\n",
    "    def add(a,b):\n",
    "        c=a/b\n",
    "        print(c)\n",
    "        x=[1,2,3]\n",
    "        print(x[0])\n",
    "    add(2,4)\n",
    "except (IndexError,NameError,TypeError,ZeroDivisionError) as f:\n",
    "    print(f\"Error : {f}\")\n",
    "finally:\n",
    "    print(\"program execution is successfully\")"
   ]
  },
  {
   "cell_type": "code",
   "execution_count": 16,
   "id": "549f31a7-5be1-430c-8e76-4a64fefd6be7",
   "metadata": {},
   "outputs": [
    {
     "name": "stdin",
     "output_type": "stream",
     "text": [
      "enter the number greater then 10 : 1\n"
     ]
    },
    {
     "name": "stdout",
     "output_type": "stream",
     "text": [
      "Error Occurred : only vlaue greater 10 is allowed\n"
     ]
    },
    {
     "name": "stdin",
     "output_type": "stream",
     "text": [
      "enter the number greater then 10 : 25\n"
     ]
    },
    {
     "name": "stdout",
     "output_type": "stream",
     "text": [
      "valid value\n"
     ]
    }
   ],
   "source": [
    "i=0\n",
    "while i<3:\n",
    "    try:\n",
    "        x=int(input(\"enter the number greater then 10 :\"))\n",
    "        if x<10:\n",
    "            raise ValueError(\"only vlaue greater 10 is allowed\")\n",
    "        else:\n",
    "            print(\"valid value\")\n",
    "            break\n",
    "\n",
    "    except ValueError as f:\n",
    "        print(f\"Error Occurred : {f}\")\n",
    "    finally:\n",
    "        i+=1"
   ]
  },
  {
   "cell_type": "code",
   "execution_count": null,
   "id": "aa466e22-cd9e-4db1-afe6-057c79c1bc2b",
   "metadata": {},
   "outputs": [],
   "source": []
  }
 ],
 "metadata": {
  "kernelspec": {
   "display_name": "Python 3 (ipykernel)",
   "language": "python",
   "name": "python3"
  },
  "language_info": {
   "codemirror_mode": {
    "name": "ipython",
    "version": 3
   },
   "file_extension": ".py",
   "mimetype": "text/x-python",
   "name": "python",
   "nbconvert_exporter": "python",
   "pygments_lexer": "ipython3",
   "version": "3.11.4"
  }
 },
 "nbformat": 4,
 "nbformat_minor": 5
}
