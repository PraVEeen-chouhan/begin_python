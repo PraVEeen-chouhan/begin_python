{
 "cells": [
  {
   "cell_type": "code",
   "execution_count": 3,
   "id": "b6d49394-2caf-4958-91ae-3f1af8ea7886",
   "metadata": {},
   "outputs": [],
   "source": [
    "#bitwise or==> symbol is a |(pipe | section)"
   ]
  },
  {
   "cell_type": "code",
   "execution_count": 4,
   "id": "4117f855-5a11-4a3b-a9a2-0742757522ce",
   "metadata": {},
   "outputs": [
    {
     "data": {
      "text/plain": [
       "13"
      ]
     },
     "execution_count": 4,
     "metadata": {},
     "output_type": "execute_result"
    }
   ],
   "source": [
    "x=5\n",
    "y=8\n",
    "x|y"
   ]
  },
  {
   "cell_type": "code",
   "execution_count": 6,
   "id": "8f914a6a-0e2d-4b38-b059-54b4310d0a4f",
   "metadata": {},
   "outputs": [],
   "source": [
    "#bitwise and"
   ]
  },
  {
   "cell_type": "code",
   "execution_count": 7,
   "id": "0341b56b-bcfa-4d5c-8271-2f06569f4d5f",
   "metadata": {},
   "outputs": [
    {
     "data": {
      "text/plain": [
       "0"
      ]
     },
     "execution_count": 7,
     "metadata": {},
     "output_type": "execute_result"
    }
   ],
   "source": [
    "x&y"
   ]
  },
  {
   "cell_type": "code",
   "execution_count": 10,
   "id": "708eee36-8056-4272-aefe-0dff051c1aa8",
   "metadata": {},
   "outputs": [],
   "source": [
    "#bitwise xor==> sytmbol is a caret(^)"
   ]
  },
  {
   "cell_type": "code",
   "execution_count": 11,
   "id": "93053930-cd0e-49e0-bd60-c282f0ff1d2c",
   "metadata": {},
   "outputs": [
    {
     "data": {
      "text/plain": [
       "13"
      ]
     },
     "execution_count": 11,
     "metadata": {},
     "output_type": "execute_result"
    }
   ],
   "source": [
    "x^y"
   ]
  },
  {
   "cell_type": "code",
   "execution_count": 12,
   "id": "6ae654d7-40db-467c-a4f7-f7409c9b643b",
   "metadata": {},
   "outputs": [],
   "source": [
    "#bitwise not ==> tilde/delta"
   ]
  },
  {
   "cell_type": "code",
   "execution_count": 13,
   "id": "538d5f74-00a2-4014-ba81-3b2bbb7a108f",
   "metadata": {},
   "outputs": [
    {
     "data": {
      "text/plain": [
       "-11"
      ]
     },
     "execution_count": 13,
     "metadata": {},
     "output_type": "execute_result"
    }
   ],
   "source": [
    "x=10\n",
    "~x"
   ]
  },
  {
   "cell_type": "code",
   "execution_count": 15,
   "id": "4bd193cf-1c02-4cfb-b7da-6d3f5c6b2b4c",
   "metadata": {},
   "outputs": [],
   "source": [
    "#bitwise Left shift==> symbol iws <<"
   ]
  },
  {
   "cell_type": "code",
   "execution_count": 16,
   "id": "279fbe1c-2a2d-4e18-be56-5e8905e502d8",
   "metadata": {},
   "outputs": [
    {
     "data": {
      "text/plain": [
       "144"
      ]
     },
     "execution_count": 16,
     "metadata": {},
     "output_type": "execute_result"
    }
   ],
   "source": [
    "x=9\n",
    "x<<4"
   ]
  },
  {
   "cell_type": "code",
   "execution_count": 17,
   "id": "edb9f6f1-17d1-4fd4-9b64-81df3a63f2ad",
   "metadata": {},
   "outputs": [],
   "source": [
    "#bitwise right shift==>  symbol is a >>"
   ]
  },
  {
   "cell_type": "code",
   "execution_count": 18,
   "id": "8545ee2d-3247-46cb-81b2-a83dbd85ac57",
   "metadata": {},
   "outputs": [
    {
     "data": {
      "text/plain": [
       "0"
      ]
     },
     "execution_count": 18,
     "metadata": {},
     "output_type": "execute_result"
    }
   ],
   "source": [
    "x>>4"
   ]
  },
  {
   "cell_type": "code",
   "execution_count": 19,
   "id": "46cacbc2-d711-4b05-92fa-5a0e28bd253f",
   "metadata": {},
   "outputs": [
    {
     "data": {
      "text/plain": [
       "9"
      ]
     },
     "execution_count": 19,
     "metadata": {},
     "output_type": "execute_result"
    }
   ],
   "source": [
    "x=144\n",
    "x>>4"
   ]
  },
  {
   "cell_type": "code",
   "execution_count": null,
   "id": "bf24f30b-a4d7-49d9-8674-b7894ed4a564",
   "metadata": {},
   "outputs": [],
   "source": []
  },
  {
   "cell_type": "code",
   "execution_count": null,
   "id": "2bd24a0e-b665-4ec2-a369-b1e2aaf25433",
   "metadata": {},
   "outputs": [],
   "source": []
  }
 ],
 "metadata": {
  "kernelspec": {
   "display_name": "Python 3 (ipykernel)",
   "language": "python",
   "name": "python3"
  },
  "language_info": {
   "codemirror_mode": {
    "name": "ipython",
    "version": 3
   },
   "file_extension": ".py",
   "mimetype": "text/x-python",
   "name": "python",
   "nbconvert_exporter": "python",
   "pygments_lexer": "ipython3",
   "version": "3.11.4"
  }
 },
 "nbformat": 4,
 "nbformat_minor": 5
}
