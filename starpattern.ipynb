{
 "cells": [
  {
   "cell_type": "code",
   "execution_count": 2,
   "id": "08933d04-ebf2-464d-960d-76254d4d28a7",
   "metadata": {},
   "outputs": [
    {
     "name": "stdin",
     "output_type": "stream",
     "text": [
      "enter the no. of row: 5\n"
     ]
    },
    {
     "name": "stdout",
     "output_type": "stream",
     "text": [
      "    * \n",
      "   * * \n",
      "  * * * \n",
      " * * * * \n",
      "* * * * * \n"
     ]
    }
   ],
   "source": [
    "row=int(input(\"enter the no. of row:\"))\n",
    "for i in range(row):\n",
    "    print(\" \"*(row-i-1)+\"* \"*(i+1))"
   ]
  },
  {
   "cell_type": "code",
   "execution_count": 3,
   "id": "3692621d-2694-4bc5-8fb2-a6a43350730f",
   "metadata": {},
   "outputs": [
    {
     "name": "stdin",
     "output_type": "stream",
     "text": [
      "enter the no. of row: 5\n"
     ]
    },
    {
     "name": "stdout",
     "output_type": "stream",
     "text": [
      "* * * * * \n",
      " * * * * \n",
      "  * * * \n",
      "   * * \n",
      "    * \n"
     ]
    }
   ],
   "source": [
    "row=int(input(\"enter the no. of row:\"))\n",
    "for i in range(row,0,-1):\n",
    "    print(\" \"*(row-i)+\"* \"*(i))\n"
   ]
  },
  {
   "cell_type": "code",
   "execution_count": 5,
   "id": "908aba26-84bd-40c4-9ef9-7092bc18c225",
   "metadata": {},
   "outputs": [
    {
     "name": "stdin",
     "output_type": "stream",
     "text": [
      "enter the no. of row: 5\n"
     ]
    },
    {
     "name": "stdout",
     "output_type": "stream",
     "text": [
      "*\n",
      "**\n",
      "***\n",
      "****\n",
      "*****\n"
     ]
    }
   ],
   "source": [
    "row=int(input(\"enter the no. of row:\"))\n",
    "for i in range(row):\n",
    "    print(\"*\"*(i+1))\n"
   ]
  },
  {
   "cell_type": "code",
   "execution_count": 6,
   "id": "6836e5e7-83eb-420e-a1a8-142a96fa1850",
   "metadata": {},
   "outputs": [
    {
     "name": "stdin",
     "output_type": "stream",
     "text": [
      "enter the no. of row: 5\n"
     ]
    },
    {
     "name": "stdout",
     "output_type": "stream",
     "text": [
      "*****\n",
      "****\n",
      "***\n",
      "**\n",
      "*\n"
     ]
    }
   ],
   "source": [
    "row=int(input(\"enter the no. of row:\"))\n",
    "for i in range(row,0,-1):\n",
    "    print(\"*\"*i)\n",
    "    "
   ]
  },
  {
   "cell_type": "code",
   "execution_count": 9,
   "id": "4828864b-79f9-4ef1-a713-2706c464b83f",
   "metadata": {},
   "outputs": [
    {
     "name": "stdin",
     "output_type": "stream",
     "text": [
      "enter the no. of row: 5\n"
     ]
    },
    {
     "name": "stdout",
     "output_type": "stream",
     "text": [
      "*****\n",
      " ****\n",
      "  ***\n",
      "   **\n",
      "    *\n"
     ]
    }
   ],
   "source": [
    "row=int(input(\"enter the no. of row:\"))\n",
    "for i in range(row,0,-1):\n",
    "    print(\" \"*(row-i)+\"*\"*(i))"
   ]
  },
  {
   "cell_type": "code",
   "execution_count": 11,
   "id": "45cf4e7d-c66b-452a-ab88-d85dc08b3301",
   "metadata": {},
   "outputs": [
    {
     "name": "stdin",
     "output_type": "stream",
     "text": [
      "enter the no. of row: 5\n"
     ]
    },
    {
     "name": "stdout",
     "output_type": "stream",
     "text": [
      "    *\n",
      "   **\n",
      "  ***\n",
      " ****\n",
      "*****\n"
     ]
    }
   ],
   "source": [
    "row=int(input(\"enter the no. of row:\"))\n",
    "for i in range(row):\n",
    "    print(\" \"*(row-i-1)+\"*\"*(i+1))\n",
    "    "
   ]
  },
  {
   "cell_type": "code",
   "execution_count": 12,
   "id": "c1ab7146-3875-4871-842a-065afc64ed5a",
   "metadata": {},
   "outputs": [
    {
     "name": "stdout",
     "output_type": "stream",
     "text": [
      "         * \n",
      "        * * \n",
      "       * * * \n",
      "      * * * * \n",
      "     * * * * * \n",
      "    * * * * * * \n",
      "   * * * * * * * \n",
      "  * * * * * * * * \n",
      " * * * * * * * * * \n",
      "* * * * * * * * * * \n",
      " * * * * * * * * * \n",
      "  * * * * * * * * \n",
      "   * * * * * * * \n",
      "    * * * * * * \n",
      "     * * * * * \n",
      "      * * * * \n",
      "       * * * \n",
      "        * * \n",
      "         * \n"
     ]
    }
   ],
   "source": [
    "def pyramid(row):\n",
    "    for i in range(row):\n",
    "        print(\" \"*(row-i-1)+\"* \"*(i+1))\n",
    "    for i in range(row-1,0,-1):\n",
    "        print(\" \"*(row-i)+\"* \"*(i))\n",
    "pyramid(10)"
   ]
  },
  {
   "cell_type": "code",
   "execution_count": 13,
   "id": "53a1e8e8-8a78-457c-94ad-2e46403e2066",
   "metadata": {},
   "outputs": [
    {
     "name": "stdout",
     "output_type": "stream",
     "text": [
      "12345\n",
      "1234\n",
      "123\n",
      "12\n",
      "1\n"
     ]
    }
   ],
   "source": [
    "for i in range(5):\n",
    "    for j in range(5-i):\n",
    "        print(j+1,end=\"\")\n",
    "    print()\n",
    "    "
   ]
  },
  {
   "cell_type": "code",
   "execution_count": null,
   "id": "28468b2d-15f4-4d5f-95af-4b2ceeaafc69",
   "metadata": {},
   "outputs": [],
   "source": []
  }
 ],
 "metadata": {
  "kernelspec": {
   "display_name": "Python 3 (ipykernel)",
   "language": "python",
   "name": "python3"
  },
  "language_info": {
   "codemirror_mode": {
    "name": "ipython",
    "version": 3
   },
   "file_extension": ".py",
   "mimetype": "text/x-python",
   "name": "python",
   "nbconvert_exporter": "python",
   "pygments_lexer": "ipython3",
   "version": "3.11.4"
  }
 },
 "nbformat": 4,
 "nbformat_minor": 5
}
